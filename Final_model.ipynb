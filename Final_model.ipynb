{
  "nbformat": 4,
  "nbformat_minor": 0,
  "metadata": {
    "colab": {
      "name": "Final_model.ipynb",
      "version": "0.3.2",
      "provenance": [],
      "collapsed_sections": [],
      "include_colab_link": true
    },
    "kernelspec": {
      "name": "python3",
      "display_name": "Python 3"
    },
    "accelerator": "GPU"
  },
  "cells": [
    {
      "cell_type": "markdown",
      "metadata": {
        "id": "view-in-github",
        "colab_type": "text"
      },
      "source": [
        "<a href=\"https://colab.research.google.com/github/vgaurav3011/Average-Screen-Time-Calculation-of-Actors-Cartoon-Characters/blob/master/Final_model.ipynb\" target=\"_parent\"><img src=\"https://colab.research.google.com/assets/colab-badge.svg\" alt=\"Open In Colab\"/></a>"
      ]
    },
    {
      "metadata": {
        "id": "VfphtI0ZCKJ6",
        "colab_type": "code",
        "outputId": "f96250a2-2f78-402e-b7e2-539964451392",
        "colab": {
          "base_uri": "https://localhost:8080/",
          "height": 122
        }
      },
      "cell_type": "code",
      "source": [
        "from google.colab import drive\n",
        "drive.mount('/content/gdrive')"
      ],
      "execution_count": 0,
      "outputs": [
        {
          "output_type": "stream",
          "text": [
            "Go to this URL in a browser: https://accounts.google.com/o/oauth2/auth?client_id=947318989803-6bn6qk8qdgf4n4g3pfee6491hc0brc4i.apps.googleusercontent.com&redirect_uri=urn%3Aietf%3Awg%3Aoauth%3A2.0%3Aoob&scope=email%20https%3A%2F%2Fwww.googleapis.com%2Fauth%2Fdocs.test%20https%3A%2F%2Fwww.googleapis.com%2Fauth%2Fdrive%20https%3A%2F%2Fwww.googleapis.com%2Fauth%2Fdrive.photos.readonly%20https%3A%2F%2Fwww.googleapis.com%2Fauth%2Fpeopleapi.readonly&response_type=code\n",
            "\n",
            "Enter your authorization code:\n",
            "··········\n",
            "Mounted at /content/gdrive\n"
          ],
          "name": "stdout"
        }
      ]
    },
    {
      "metadata": {
        "id": "kS-49YxXCm9n",
        "colab_type": "code",
        "outputId": "cd292850-3e94-4f66-c740-41bdcb251efc",
        "colab": {
          "base_uri": "https://localhost:8080/",
          "height": 34
        }
      },
      "cell_type": "code",
      "source": [
        "!ls"
      ],
      "execution_count": 0,
      "outputs": [
        {
          "output_type": "stream",
          "text": [
            "gdrive\tsample_data\n"
          ],
          "name": "stdout"
        }
      ]
    },
    {
      "metadata": {
        "id": "9lH7sWHACqjk",
        "colab_type": "code",
        "outputId": "8dc6654e-8a07-4905-c79c-e2717e86ea54",
        "colab": {
          "base_uri": "https://localhost:8080/",
          "height": 238
        }
      },
      "cell_type": "code",
      "source": [
        "!wget http://cs231n.stanford.edu/tiny-imagenet-200.zip\n",
        "!ls\n",
        "!unzip -qq 'tiny-imagenet-200.zip'\n",
        "!ls"
      ],
      "execution_count": 0,
      "outputs": [
        {
          "output_type": "stream",
          "text": [
            "--2019-04-18 06:29:25--  http://cs231n.stanford.edu/tiny-imagenet-200.zip\n",
            "Resolving cs231n.stanford.edu (cs231n.stanford.edu)... 171.64.68.10\n",
            "Connecting to cs231n.stanford.edu (cs231n.stanford.edu)|171.64.68.10|:80... connected.\n",
            "HTTP request sent, awaiting response... 200 OK\n",
            "Length: 248100043 (237M) [application/zip]\n",
            "Saving to: ‘tiny-imagenet-200.zip’\n",
            "\n",
            "tiny-imagenet-200.z 100%[===================>] 236.61M  17.8MB/s    in 15s     \n",
            "\n",
            "2019-04-18 06:29:41 (15.6 MB/s) - ‘tiny-imagenet-200.zip’ saved [248100043/248100043]\n",
            "\n",
            "gdrive\tsample_data  tiny-imagenet-200.zip\n",
            "gdrive\tsample_data  tiny-imagenet-200\ttiny-imagenet-200.zip\n"
          ],
          "name": "stdout"
        }
      ]
    },
    {
      "metadata": {
        "id": "wphK_i8cCu-X",
        "colab_type": "code",
        "outputId": "5e5aa189-a1d6-4bc4-fa55-38e190f5b0c1",
        "colab": {
          "base_uri": "https://localhost:8080/",
          "height": 34
        }
      },
      "cell_type": "code",
      "source": [
        "import numpy as np\n",
        "import pandas as pd\n",
        "from keras import initializers\n",
        "from keras.models import Model\n",
        "from keras import layers\n",
        "import tensorflow as tf\n",
        "import scipy.ndimage as scnd\n",
        "import matplotlib.pyplot as plt\n",
        "%matplotlib  inline\n",
        "from keras.preprocessing.image import ImageDataGenerator\n",
        "from keras.layers import Dense, Dropout, Activation, Flatten, Input, Convolution2D, MaxPooling2D, BatchNormalization, ReLU, LeakyReLU"
      ],
      "execution_count": 0,
      "outputs": [
        {
          "output_type": "stream",
          "text": [
            "Using TensorFlow backend.\n"
          ],
          "name": "stderr"
        }
      ]
    },
    {
      "metadata": {
        "id": "eNx0xThKC0FZ",
        "colab_type": "code",
        "outputId": "cab2e4fa-e92c-4a84-865f-80443aeadfd9",
        "colab": {
          "base_uri": "https://localhost:8080/",
          "height": 142
        }
      },
      "cell_type": "code",
      "source": [
        "val_data = pd.read_csv('./tiny-imagenet-200/val/val_annotations.txt', sep='\\t', header=None, names=['File', 'Class', 'X', 'Y', 'H', 'W'])\n",
        "val_data.drop(['X', 'Y', 'H', 'W'], axis=1, inplace=True)\n",
        "val_data.head(3)"
      ],
      "execution_count": 0,
      "outputs": [
        {
          "output_type": "execute_result",
          "data": {
            "text/html": [
              "<div>\n",
              "<style scoped>\n",
              "    .dataframe tbody tr th:only-of-type {\n",
              "        vertical-align: middle;\n",
              "    }\n",
              "\n",
              "    .dataframe tbody tr th {\n",
              "        vertical-align: top;\n",
              "    }\n",
              "\n",
              "    .dataframe thead th {\n",
              "        text-align: right;\n",
              "    }\n",
              "</style>\n",
              "<table border=\"1\" class=\"dataframe\">\n",
              "  <thead>\n",
              "    <tr style=\"text-align: right;\">\n",
              "      <th></th>\n",
              "      <th>File</th>\n",
              "      <th>Class</th>\n",
              "    </tr>\n",
              "  </thead>\n",
              "  <tbody>\n",
              "    <tr>\n",
              "      <th>0</th>\n",
              "      <td>val_0.JPEG</td>\n",
              "      <td>n03444034</td>\n",
              "    </tr>\n",
              "    <tr>\n",
              "      <th>1</th>\n",
              "      <td>val_1.JPEG</td>\n",
              "      <td>n04067472</td>\n",
              "    </tr>\n",
              "    <tr>\n",
              "      <th>2</th>\n",
              "      <td>val_2.JPEG</td>\n",
              "      <td>n04070727</td>\n",
              "    </tr>\n",
              "  </tbody>\n",
              "</table>\n",
              "</div>"
            ],
            "text/plain": [
              "         File      Class\n",
              "0  val_0.JPEG  n03444034\n",
              "1  val_1.JPEG  n04067472\n",
              "2  val_2.JPEG  n04070727"
            ]
          },
          "metadata": {
            "tags": []
          },
          "execution_count": 6
        }
      ]
    },
    {
      "metadata": {
        "id": "bLixh1LtC3BR",
        "colab_type": "code",
        "outputId": "3ded55e1-85ae-4f56-c246-345d0d5e03c3",
        "colab": {
          "base_uri": "https://localhost:8080/",
          "height": 51
        }
      },
      "cell_type": "code",
      "source": [
        "val_data = pd.read_csv('./tiny-imagenet-200/val/val_annotations.txt', sep='\\t', \n",
        "                       header=None, \n",
        "                       names=['File', 'Class', 'X', 'Y', 'H', 'W'])\n",
        "val_data.drop(['X', 'Y', 'H', 'W'], axis=1, inplace=True)\n",
        "val_data.head(3)\n",
        "#These are functions to be passed as a preprocessing function in ImageDataGenerator\n",
        "from skimage import exposure, color\n",
        "def AHE(img):\n",
        "    img_adapteq = exposure.equalize_adapthist(img, clip_limit=0.03)\n",
        "    return img_adapteq\n",
        "def HE(img):\n",
        "    img_eq = exposure.equalize_hist(img)\n",
        "    return img_eq\n",
        "train_datagen = ImageDataGenerator(rescale=1./255,\n",
        "                                  rotation_range=20,\n",
        "                                  zoom_range=0.15,\n",
        "                                  width_shift_range=0.2,\n",
        "                                  height_shift_range=0.2,\n",
        "                                  shear_range=0.2,\n",
        "                                  horizontal_flip=True,\n",
        "                                  vertical_flip=True,\n",
        "                                  fill_mode=\"nearest\")\n",
        "\n",
        "train_generator = train_datagen.flow_from_directory(directory = './tiny-imagenet-200/train', \n",
        "                                                    target_size=(64,64), \n",
        "                                                    batch_size=512,\n",
        "                                                    class_mode='categorical')\n",
        "valid_datagen = ImageDataGenerator(rescale=1./255,\n",
        "                                 rotation_range=20,\n",
        "                                 fill_mode=\"nearest\")\n",
        "val_generator = valid_datagen.flow_from_dataframe(val_data, directory='./tiny-imagenet-200/val/images/', x_col='File', y_col='Class', target_size=(64, 64),\n",
        "                                                    color_mode='rgb', class_mode='categorical', batch_size=500, shuffle=True, seed=42)"
      ],
      "execution_count": 0,
      "outputs": [
        {
          "output_type": "stream",
          "text": [
            "Found 100000 images belonging to 200 classes.\n",
            "Found 10000 images belonging to 200 classes.\n"
          ],
          "name": "stdout"
        }
      ]
    },
    {
      "metadata": {
        "id": "lCiwB9GlC6-v",
        "colab_type": "code",
        "colab": {}
      },
      "cell_type": "code",
      "source": [
        "def residual_block(y, nb_channels, kernel_size, init):\n",
        "\n",
        "    shortcut = y\n",
        "\n",
        "    y = layers.SeparableConv2D(nb_channels, kernel_size=kernel_size, strides=(1, 1), padding='same', kernel_initializer=init)(y)\n",
        "    y = layers.BatchNormalization()(y)\n",
        "    y = layers.LeakyReLU()(y)\n",
        "\n",
        "    y = layers.Conv2D(nb_channels, kernel_size=kernel_size, strides=(1, 1), padding='same', kernel_initializer=init)(y)\n",
        "    y = layers.BatchNormalization()(y)\n",
        "    \n",
        "    y = layers.add([shortcut, y])\n",
        "    y = layers.BatchNormalization()(y)\n",
        "    y = layers.LeakyReLU()(y)\n",
        "    \n",
        "\n",
        "    return y"
      ],
      "execution_count": 0,
      "outputs": []
    },
    {
      "metadata": {
        "id": "lWJaop7JC9v1",
        "colab_type": "code",
        "colab": {}
      },
      "cell_type": "code",
      "source": [
        "def resnet_3():\n",
        "    init = initializers.glorot_normal(seed=0)\n",
        "    img_height = 64\n",
        "    img_width = 64\n",
        "    channel = 3\n",
        "    input = Input(shape=(img_height, img_width, channel,))\n",
        "    x = layers.Conv2D(256, kernel_size=(3, 3), strides=(2, 2), padding='same', kernel_initializer=init, input_shape=(64,64,3))(input)\n",
        "    x = layers.Conv2D(256, kernel_size=(3, 3), strides=(1,1), padding='same', kernel_initializer=init)(x)\n",
        "    x = layers.BatchNormalization()(x)\n",
        "    \n",
        "    x = layers.SeparableConv2D(64, kernel_size=(3, 3), padding='same', kernel_initializer=init)(x)\n",
        "    x = layers.BatchNormalization()(x)\n",
        "    x = layers.LeakyReLU()(x)\n",
        "    x = residual_block(x, 64, (3, 3), init)\n",
        "    x = layers.SeparableConv2D(64, kernel_size=(3,3), padding='same', kernel_initializer=init)(x)\n",
        "    x = layers.MaxPooling2D(pool_size=2, strides = (2,2))(x)\n",
        "    x = layers.Conv2D(128, kernel_size=(1, 1), padding='same', kernel_initializer=init)(x)\n",
        "    x = layers.BatchNormalization()(x)\n",
        "    x = layers.LeakyReLU()(x)\n",
        "    x = residual_block(x, 128, (3, 3), init)\n",
        "    x = layers.SeparableConv2D(128, kernel_size=(3,3), padding='same', kernel_initializer=init)(x)\n",
        "    x = layers.MaxPooling2D(pool_size=2, strides = (2,2))(x)\n",
        "    x = layers.SeparableConv2D(128, kernel_size=(1,1), padding='same', kernel_initializer=init)(x)\n",
        "\n",
        "    \n",
        "    x = layers.Conv2D(256, kernel_size=(1, 1), padding='same', kernel_initializer=init)(x)\n",
        "    x = layers.BatchNormalization()(x)\n",
        "    x = layers.LeakyReLU()(x)\n",
        "    x = residual_block(x, 256, (3, 3), init)\n",
        "    x = layers.SeparableConv2D(256, kernel_size=(1,1), strides=2, padding='same', kernel_initializer=init)(x)\n",
        "    x = layers.Conv2D(200, kernel_size=(1,1), activation = 'relu')(x)\n",
        "    x = layers.MaxPooling2D(pool_size=2, strides = (2,2))(x)\n",
        "    x = layers.Conv2D(64, kernel_size=(1, 1), padding='same', kernel_initializer=init)(x)\n",
        "    x = layers.Conv2D(64, kernel_size=(1, 1), padding='same', kernel_initializer=init)(x)\n",
        "    x = layers.Conv2D(200, kernel_size=(1,1), strides=2, activation = 'relu')(x)\n",
        "    x = layers.SeparableConv2D(200, kernel_size=(1,1), strides=2, activation = 'softmax')(x)\n",
        "    x = layers.Flatten()(x)\n",
        "    \n",
        "    model = Model(inputs=input, outputs=x)\n",
        "    return model"
      ],
      "execution_count": 0,
      "outputs": []
    },
    {
      "metadata": {
        "id": "wYKbD1aqDDyI",
        "colab_type": "code",
        "outputId": "67a540c5-07f5-4e68-fdae-ba140aee8e6b",
        "colab": {
          "base_uri": "https://localhost:8080/",
          "height": 85
        }
      },
      "cell_type": "code",
      "source": [
        "!pip install h5py pyyaml \n",
        "from __future__ import absolute_import, division, print_function\n",
        "\n",
        "import os\n",
        "\n",
        "import tensorflow as tf\n",
        "from tensorflow import keras\n",
        "\n",
        "checkpoint_path = \"/content/gdrive/My Drive/check.ckpt\"\n",
        "#checkpoint_dir = os.path.dirname(checkpoint_path)\n",
        "\n",
        "# Create checkpoint callback\n",
        "cp_callback = tf.keras.callbacks.ModelCheckpoint(checkpoint_path, \n",
        "                                                 save_weights_only=False,\n",
        "                                                 verbose=1,period=5)"
      ],
      "execution_count": 0,
      "outputs": [
        {
          "output_type": "stream",
          "text": [
            "Requirement already satisfied: h5py in /usr/local/lib/python3.6/dist-packages (2.8.0)\n",
            "Requirement already satisfied: pyyaml in /usr/local/lib/python3.6/dist-packages (3.13)\n",
            "Requirement already satisfied: numpy>=1.7 in /usr/local/lib/python3.6/dist-packages (from h5py) (1.16.2)\n",
            "Requirement already satisfied: six in /usr/local/lib/python3.6/dist-packages (from h5py) (1.11.0)\n"
          ],
          "name": "stdout"
        }
      ]
    },
    {
      "metadata": {
        "id": "kB0S5KWbDGz9",
        "colab_type": "code",
        "outputId": "9d8904a5-56a3-4cb0-c67a-fe3139767e01",
        "colab": {
          "base_uri": "https://localhost:8080/",
          "height": 1958
        }
      },
      "cell_type": "code",
      "source": [
        "from keras.layers import Input\n",
        "from keras import optimizers\n",
        "model = resnet_3()\n",
        "model.summary()"
      ],
      "execution_count": 0,
      "outputs": [
        {
          "output_type": "stream",
          "text": [
            "WARNING:tensorflow:From /usr/local/lib/python3.6/dist-packages/tensorflow/python/framework/op_def_library.py:263: colocate_with (from tensorflow.python.framework.ops) is deprecated and will be removed in a future version.\n",
            "Instructions for updating:\n",
            "Colocations handled automatically by placer.\n",
            "__________________________________________________________________________________________________\n",
            "Layer (type)                    Output Shape         Param #     Connected to                     \n",
            "==================================================================================================\n",
            "input_1 (InputLayer)            (None, 64, 64, 3)    0                                            \n",
            "__________________________________________________________________________________________________\n",
            "conv2d_1 (Conv2D)               (None, 32, 32, 256)  7168        input_1[0][0]                    \n",
            "__________________________________________________________________________________________________\n",
            "conv2d_2 (Conv2D)               (None, 32, 32, 256)  590080      conv2d_1[0][0]                   \n",
            "__________________________________________________________________________________________________\n",
            "batch_normalization_1 (BatchNor (None, 32, 32, 256)  1024        conv2d_2[0][0]                   \n",
            "__________________________________________________________________________________________________\n",
            "separable_conv2d_1 (SeparableCo (None, 32, 32, 64)   18752       batch_normalization_1[0][0]      \n",
            "__________________________________________________________________________________________________\n",
            "batch_normalization_2 (BatchNor (None, 32, 32, 64)   256         separable_conv2d_1[0][0]         \n",
            "__________________________________________________________________________________________________\n",
            "leaky_re_lu_1 (LeakyReLU)       (None, 32, 32, 64)   0           batch_normalization_2[0][0]      \n",
            "__________________________________________________________________________________________________\n",
            "separable_conv2d_2 (SeparableCo (None, 32, 32, 64)   4736        leaky_re_lu_1[0][0]              \n",
            "__________________________________________________________________________________________________\n",
            "batch_normalization_3 (BatchNor (None, 32, 32, 64)   256         separable_conv2d_2[0][0]         \n",
            "__________________________________________________________________________________________________\n",
            "leaky_re_lu_2 (LeakyReLU)       (None, 32, 32, 64)   0           batch_normalization_3[0][0]      \n",
            "__________________________________________________________________________________________________\n",
            "conv2d_3 (Conv2D)               (None, 32, 32, 64)   36928       leaky_re_lu_2[0][0]              \n",
            "__________________________________________________________________________________________________\n",
            "batch_normalization_4 (BatchNor (None, 32, 32, 64)   256         conv2d_3[0][0]                   \n",
            "__________________________________________________________________________________________________\n",
            "add_1 (Add)                     (None, 32, 32, 64)   0           leaky_re_lu_1[0][0]              \n",
            "                                                                 batch_normalization_4[0][0]      \n",
            "__________________________________________________________________________________________________\n",
            "batch_normalization_5 (BatchNor (None, 32, 32, 64)   256         add_1[0][0]                      \n",
            "__________________________________________________________________________________________________\n",
            "leaky_re_lu_3 (LeakyReLU)       (None, 32, 32, 64)   0           batch_normalization_5[0][0]      \n",
            "__________________________________________________________________________________________________\n",
            "separable_conv2d_3 (SeparableCo (None, 32, 32, 64)   4736        leaky_re_lu_3[0][0]              \n",
            "__________________________________________________________________________________________________\n",
            "max_pooling2d_1 (MaxPooling2D)  (None, 16, 16, 64)   0           separable_conv2d_3[0][0]         \n",
            "__________________________________________________________________________________________________\n",
            "conv2d_4 (Conv2D)               (None, 16, 16, 128)  8320        max_pooling2d_1[0][0]            \n",
            "__________________________________________________________________________________________________\n",
            "batch_normalization_6 (BatchNor (None, 16, 16, 128)  512         conv2d_4[0][0]                   \n",
            "__________________________________________________________________________________________________\n",
            "leaky_re_lu_4 (LeakyReLU)       (None, 16, 16, 128)  0           batch_normalization_6[0][0]      \n",
            "__________________________________________________________________________________________________\n",
            "separable_conv2d_4 (SeparableCo (None, 16, 16, 128)  17664       leaky_re_lu_4[0][0]              \n",
            "__________________________________________________________________________________________________\n",
            "batch_normalization_7 (BatchNor (None, 16, 16, 128)  512         separable_conv2d_4[0][0]         \n",
            "__________________________________________________________________________________________________\n",
            "leaky_re_lu_5 (LeakyReLU)       (None, 16, 16, 128)  0           batch_normalization_7[0][0]      \n",
            "__________________________________________________________________________________________________\n",
            "conv2d_5 (Conv2D)               (None, 16, 16, 128)  147584      leaky_re_lu_5[0][0]              \n",
            "__________________________________________________________________________________________________\n",
            "batch_normalization_8 (BatchNor (None, 16, 16, 128)  512         conv2d_5[0][0]                   \n",
            "__________________________________________________________________________________________________\n",
            "add_2 (Add)                     (None, 16, 16, 128)  0           leaky_re_lu_4[0][0]              \n",
            "                                                                 batch_normalization_8[0][0]      \n",
            "__________________________________________________________________________________________________\n",
            "batch_normalization_9 (BatchNor (None, 16, 16, 128)  512         add_2[0][0]                      \n",
            "__________________________________________________________________________________________________\n",
            "leaky_re_lu_6 (LeakyReLU)       (None, 16, 16, 128)  0           batch_normalization_9[0][0]      \n",
            "__________________________________________________________________________________________________\n",
            "separable_conv2d_5 (SeparableCo (None, 16, 16, 128)  17664       leaky_re_lu_6[0][0]              \n",
            "__________________________________________________________________________________________________\n",
            "max_pooling2d_2 (MaxPooling2D)  (None, 8, 8, 128)    0           separable_conv2d_5[0][0]         \n",
            "__________________________________________________________________________________________________\n",
            "separable_conv2d_6 (SeparableCo (None, 8, 8, 128)    16640       max_pooling2d_2[0][0]            \n",
            "__________________________________________________________________________________________________\n",
            "conv2d_6 (Conv2D)               (None, 8, 8, 256)    33024       separable_conv2d_6[0][0]         \n",
            "__________________________________________________________________________________________________\n",
            "batch_normalization_10 (BatchNo (None, 8, 8, 256)    1024        conv2d_6[0][0]                   \n",
            "__________________________________________________________________________________________________\n",
            "leaky_re_lu_7 (LeakyReLU)       (None, 8, 8, 256)    0           batch_normalization_10[0][0]     \n",
            "__________________________________________________________________________________________________\n",
            "separable_conv2d_7 (SeparableCo (None, 8, 8, 256)    68096       leaky_re_lu_7[0][0]              \n",
            "__________________________________________________________________________________________________\n",
            "batch_normalization_11 (BatchNo (None, 8, 8, 256)    1024        separable_conv2d_7[0][0]         \n",
            "__________________________________________________________________________________________________\n",
            "leaky_re_lu_8 (LeakyReLU)       (None, 8, 8, 256)    0           batch_normalization_11[0][0]     \n",
            "__________________________________________________________________________________________________\n",
            "conv2d_7 (Conv2D)               (None, 8, 8, 256)    590080      leaky_re_lu_8[0][0]              \n",
            "__________________________________________________________________________________________________\n",
            "batch_normalization_12 (BatchNo (None, 8, 8, 256)    1024        conv2d_7[0][0]                   \n",
            "__________________________________________________________________________________________________\n",
            "add_3 (Add)                     (None, 8, 8, 256)    0           leaky_re_lu_7[0][0]              \n",
            "                                                                 batch_normalization_12[0][0]     \n",
            "__________________________________________________________________________________________________\n",
            "batch_normalization_13 (BatchNo (None, 8, 8, 256)    1024        add_3[0][0]                      \n",
            "__________________________________________________________________________________________________\n",
            "leaky_re_lu_9 (LeakyReLU)       (None, 8, 8, 256)    0           batch_normalization_13[0][0]     \n",
            "__________________________________________________________________________________________________\n",
            "separable_conv2d_8 (SeparableCo (None, 4, 4, 256)    66048       leaky_re_lu_9[0][0]              \n",
            "__________________________________________________________________________________________________\n",
            "conv2d_8 (Conv2D)               (None, 4, 4, 200)    51400       separable_conv2d_8[0][0]         \n",
            "__________________________________________________________________________________________________\n",
            "max_pooling2d_3 (MaxPooling2D)  (None, 2, 2, 200)    0           conv2d_8[0][0]                   \n",
            "__________________________________________________________________________________________________\n",
            "conv2d_9 (Conv2D)               (None, 2, 2, 64)     12864       max_pooling2d_3[0][0]            \n",
            "__________________________________________________________________________________________________\n",
            "conv2d_10 (Conv2D)              (None, 2, 2, 64)     4160        conv2d_9[0][0]                   \n",
            "__________________________________________________________________________________________________\n",
            "conv2d_11 (Conv2D)              (None, 1, 1, 200)    13000       conv2d_10[0][0]                  \n",
            "__________________________________________________________________________________________________\n",
            "separable_conv2d_9 (SeparableCo (None, 1, 1, 200)    40400       conv2d_11[0][0]                  \n",
            "__________________________________________________________________________________________________\n",
            "flatten_1 (Flatten)             (None, 200)          0           separable_conv2d_9[0][0]         \n",
            "==================================================================================================\n",
            "Total params: 1,757,536\n",
            "Trainable params: 1,753,440\n",
            "Non-trainable params: 4,096\n",
            "__________________________________________________________________________________________________\n"
          ],
          "name": "stdout"
        }
      ]
    },
    {
      "metadata": {
        "id": "u550XfYPDIrE",
        "colab_type": "code",
        "colab": {}
      },
      "cell_type": "code",
      "source": [
        "from keras.callbacks import ReduceLROnPlateau\n",
        "reduce_lr = ReduceLROnPlateau(monitor='val_loss', factor=0.2,\n",
        "                              patience=5, min_lr=0.001)\n",
        "from keras.optimizers import SGD\n",
        "sgd = SGD(lr=0.005, decay=1e-6, momentum=0.9, nesterov=True)\n",
        "model.compile(loss='categorical_crossentropy',\n",
        "              optimizer=sgd,\n",
        "              metrics=['accuracy'])"
      ],
      "execution_count": 0,
      "outputs": []
    },
    {
      "metadata": {
        "id": "_NeDLTGnDrQX",
        "colab_type": "code",
        "outputId": "527625cd-b697-4eeb-d636-6bea67e6ab52",
        "colab": {
          "base_uri": "https://localhost:8080/",
          "height": 544
        }
      },
      "cell_type": "code",
      "source": [
        "model.fit_generator(train_generator,steps_per_epoch=100000 // 64, validation_data=val_generator, validation_steps=10000 // 64, epochs=10, max_queue_size=64*2,verbose=1, callbacks = [reduce_lr, cp_callback])"
      ],
      "execution_count": 0,
      "outputs": [
        {
          "output_type": "stream",
          "text": [
            "WARNING:tensorflow:From /usr/local/lib/python3.6/dist-packages/tensorflow/python/ops/math_ops.py:3066: to_int32 (from tensorflow.python.ops.math_ops) is deprecated and will be removed in a future version.\n",
            "Instructions for updating:\n",
            "Use tf.cast instead.\n",
            "WARNING:tensorflow:From /usr/local/lib/python3.6/dist-packages/tensorflow/python/ops/math_grad.py:102: div (from tensorflow.python.ops.math_ops) is deprecated and will be removed in a future version.\n",
            "Instructions for updating:\n",
            "Deprecated in favor of operator or tf.math.divide.\n",
            "Epoch 1/10\n",
            "1562/1562 [==============================] - 775s 496ms/step - loss: 5.2449 - acc: 0.0075 - val_loss: 5.1573 - val_acc: 0.0108\n",
            "Epoch 2/10\n",
            "1562/1562 [==============================] - 708s 453ms/step - loss: 5.0921 - acc: 0.0146 - val_loss: 5.0335 - val_acc: 0.0203\n",
            "Epoch 3/10\n",
            "1562/1562 [==============================] - 714s 457ms/step - loss: 4.9184 - acc: 0.0283 - val_loss: 4.8382 - val_acc: 0.0384\n",
            "Epoch 4/10\n",
            "1562/1562 [==============================] - 714s 457ms/step - loss: 4.7520 - acc: 0.0447 - val_loss: 4.6767 - val_acc: 0.0500\n",
            "Epoch 5/10\n",
            "1562/1562 [==============================] - 714s 457ms/step - loss: 4.6354 - acc: 0.0550 - val_loss: 4.5273 - val_acc: 0.0675\n",
            "\n",
            "Epoch 00005: saving model to /content/gdrive/My Drive/checkpoint.ckpt\n",
            "Epoch 6/10\n",
            "1562/1562 [==============================] - 710s 455ms/step - loss: 4.5210 - acc: 0.0686 - val_loss: 4.3906 - val_acc: 0.0812\n",
            "Epoch 7/10\n",
            "1562/1562 [==============================] - 714s 457ms/step - loss: 4.4327 - acc: 0.0786 - val_loss: 4.3740 - val_acc: 0.0865\n",
            "Epoch 8/10\n",
            "1562/1562 [==============================] - 714s 457ms/step - loss: 4.3537 - acc: 0.0890 - val_loss: 4.2471 - val_acc: 0.1000\n",
            "Epoch 9/10\n",
            "1562/1562 [==============================] - 713s 456ms/step - loss: 4.2752 - acc: 0.0997 - val_loss: 4.1905 - val_acc: 0.1087\n",
            "Epoch 10/10\n",
            "1562/1562 [==============================] - 714s 457ms/step - loss: 4.2031 - acc: 0.1092 - val_loss: 4.0810 - val_acc: 0.1201\n",
            "\n",
            "Epoch 00010: saving model to /content/gdrive/My Drive/checkpoint.ckpt\n"
          ],
          "name": "stdout"
        },
        {
          "output_type": "execute_result",
          "data": {
            "text/plain": [
              "<keras.callbacks.History at 0x7fd6cf3a5b00>"
            ]
          },
          "metadata": {
            "tags": []
          },
          "execution_count": 15
        }
      ]
    },
    {
      "metadata": {
        "id": "_fISDNSugdiz",
        "colab_type": "code",
        "outputId": "973af395-ae1a-4e77-fec3-c082116b46dc",
        "colab": {
          "base_uri": "https://localhost:8080/",
          "height": 121
        }
      },
      "cell_type": "code",
      "source": [
        "from keras.models import load_model\n",
        "\n",
        "model = load_model(checkpoint_path)\n"
      ],
      "execution_count": 0,
      "outputs": [
        {
          "output_type": "stream",
          "text": [
            "WARNING:tensorflow:From /usr/local/lib/python3.6/dist-packages/tensorflow/python/ops/math_ops.py:3066: to_int32 (from tensorflow.python.ops.math_ops) is deprecated and will be removed in a future version.\n",
            "Instructions for updating:\n",
            "Use tf.cast instead.\n",
            "WARNING:tensorflow:From /usr/local/lib/python3.6/dist-packages/tensorflow/python/ops/math_grad.py:102: div (from tensorflow.python.ops.math_ops) is deprecated and will be removed in a future version.\n",
            "Instructions for updating:\n",
            "Deprecated in favor of operator or tf.math.divide.\n"
          ],
          "name": "stdout"
        }
      ]
    },
    {
      "metadata": {
        "id": "FzV8cMPagtgo",
        "colab_type": "code",
        "colab": {}
      },
      "cell_type": "code",
      "source": [
        "from keras.callbacks import *\n",
        "#Cyclic Learning Rate\n",
        "class CyclicLR(Callback):\n",
        "  \n",
        "\n",
        "    def __init__(self, base_lr=0.00000005, max_lr=0.0000009, step_size=2000., mode='triangular',\n",
        "                 gamma=1., scale_fn=None, scale_mode='cycle'):\n",
        "        super(CyclicLR, self).__init__()\n",
        "\n",
        "        self.base_lr = base_lr\n",
        "        self.max_lr = max_lr\n",
        "        self.step_size = step_size\n",
        "        self.mode = mode\n",
        "        self.gamma = gamma\n",
        "        if scale_fn == None:\n",
        "            if self.mode == 'triangular':\n",
        "                self.scale_fn = lambda x: 1.\n",
        "                self.scale_mode = 'cycle'\n",
        "            elif self.mode == 'triangular2':\n",
        "                self.scale_fn = lambda x: 1/(2.**(x-1))\n",
        "                self.scale_mode = 'cycle'\n",
        "            elif self.mode == 'exp_range':\n",
        "                self.scale_fn = lambda x: gamma**(x)\n",
        "                self.scale_mode = 'iterations'\n",
        "        else:\n",
        "            self.scale_fn = scale_fn\n",
        "            self.scale_mode = scale_mode\n",
        "        self.clr_iterations = 0.\n",
        "        self.trn_iterations = 0.\n",
        "        self.history = {}\n",
        "\n",
        "        self._reset()\n",
        "\n",
        "    def _reset(self, new_base_lr=None, new_max_lr=None,\n",
        "               new_step_size=None):\n",
        "        \"\"\"Resets cycle iterations.\n",
        "        Optional boundary/step size adjustment.\n",
        "        \"\"\"\n",
        "        if new_base_lr != None:\n",
        "            self.base_lr = new_base_lr\n",
        "        if new_max_lr != None:\n",
        "            self.max_lr = new_max_lr\n",
        "        if new_step_size != None:\n",
        "            self.step_size = new_step_size\n",
        "        self.clr_iterations = 0.\n",
        "        \n",
        "    def clr(self):\n",
        "        cycle = np.floor(1+self.clr_iterations/(2*self.step_size))\n",
        "        x = np.abs(self.clr_iterations/self.step_size - 2*cycle + 1)\n",
        "        if self.scale_mode == 'cycle':\n",
        "            return self.base_lr + (self.max_lr-self.base_lr)*np.maximum(0, (1-x))*self.scale_fn(cycle)\n",
        "        else:\n",
        "            return self.base_lr + (self.max_lr-self.base_lr)*np.maximum(0, (1-x))*self.scale_fn(self.clr_iterations)\n",
        "        \n",
        "    def on_train_begin(self, logs={}):\n",
        "        logs = logs or {}\n",
        "\n",
        "        if self.clr_iterations == 0:\n",
        "            K.set_value(self.model.optimizer.lr, self.base_lr)\n",
        "        else:\n",
        "            K.set_value(self.model.optimizer.lr, self.clr())        \n",
        "            \n",
        "    def on_batch_end(self, epoch, logs=None):\n",
        "        \n",
        "        logs = logs or {}\n",
        "        self.trn_iterations += 1\n",
        "        self.clr_iterations += 1\n",
        "\n",
        "        self.history.setdefault('lr', []).append(K.get_value(self.model.optimizer.lr))\n",
        "        self.history.setdefault('iterations', []).append(self.trn_iterations)\n",
        "\n",
        "        for k, v in logs.items():\n",
        "            self.history.setdefault(k, []).append(v)\n",
        "        \n",
        "        K.set_value(self.model.optimizer.lr, self.clr())"
      ],
      "execution_count": 0,
      "outputs": []
    },
    {
      "metadata": {
        "id": "Ykg9ucXWhiKs",
        "colab_type": "code",
        "colab": {}
      },
      "cell_type": "code",
      "source": [
        "clr_triangular = CyclicLR(mode='triangular2')"
      ],
      "execution_count": 0,
      "outputs": []
    },
    {
      "metadata": {
        "id": "egYk-Vvdhva-",
        "colab_type": "code",
        "outputId": "597d86f2-67db-46d6-bbce-502a5f25292c",
        "colab": {
          "base_uri": "https://localhost:8080/",
          "height": 595
        }
      },
      "cell_type": "code",
      "source": [
        "model.fit_generator(train_generator,steps_per_epoch=100000 // 64, validation_data=val_generator, validation_steps=10000 // 64, epochs=25, max_queue_size=64*2,verbose=1, callbacks = [reduce_lr, cp_callback, clr_triangular])"
      ],
      "execution_count": 0,
      "outputs": [
        {
          "output_type": "stream",
          "text": [
            "Epoch 1/25\n",
            "1562/1562 [==============================] - 772s 495ms/step - loss: 4.0513 - acc: 0.1321 - val_loss: 3.9655 - val_acc: 0.1411\n",
            "Epoch 2/25\n",
            "1562/1562 [==============================] - 722s 462ms/step - loss: 4.0305 - acc: 0.1335 - val_loss: 3.8600 - val_acc: 0.1552\n",
            "Epoch 3/25\n",
            "1562/1562 [==============================] - 724s 463ms/step - loss: 3.9346 - acc: 0.1475 - val_loss: 3.8058 - val_acc: 0.1657\n",
            "Epoch 4/25\n",
            "1562/1562 [==============================] - 725s 464ms/step - loss: 3.9660 - acc: 0.1426 - val_loss: 3.8968 - val_acc: 0.1515\n",
            "Epoch 5/25\n",
            "1562/1562 [==============================] - 723s 463ms/step - loss: 3.9124 - acc: 0.1514 - val_loss: 3.7069 - val_acc: 0.1819\n",
            "\n",
            "Epoch 00005: saving model to /content/gdrive/My Drive/checkpoint.ckpt\n",
            "Epoch 6/25\n",
            "1562/1562 [==============================] - 718s 460ms/step - loss: 3.8586 - acc: 0.1585 - val_loss: 3.8122 - val_acc: 0.1645\n",
            "Epoch 7/25\n",
            "1562/1562 [==============================] - 724s 463ms/step - loss: 3.9015 - acc: 0.1523 - val_loss: 3.7365 - val_acc: 0.1752\n",
            "Epoch 8/25\n",
            "1562/1562 [==============================] - 724s 463ms/step - loss: 3.8018 - acc: 0.1683 - val_loss: 3.6554 - val_acc: 0.1893\n",
            "Epoch 9/25\n",
            "1562/1562 [==============================] - 723s 463ms/step - loss: 3.8376 - acc: 0.1606 - val_loss: 3.8146 - val_acc: 0.1607\n",
            "Epoch 10/25\n",
            "1562/1562 [==============================] - 725s 464ms/step - loss: 3.8031 - acc: 0.1681 - val_loss: 3.6362 - val_acc: 0.1911\n",
            "\n",
            "Epoch 00010: saving model to /content/gdrive/My Drive/checkpoint.ckpt\n",
            "Epoch 11/25\n",
            "1562/1562 [==============================] - 725s 464ms/step - loss: 3.7377 - acc: 0.1784 - val_loss: 3.6927 - val_acc: 0.1807\n",
            "Epoch 12/25\n",
            "1562/1562 [==============================] - 724s 464ms/step - loss: 3.7969 - acc: 0.1678 - val_loss: 3.6225 - val_acc: 0.1910\n",
            "Epoch 13/25\n",
            "1562/1562 [==============================] - 724s 464ms/step - loss: 3.7043 - acc: 0.1840 - val_loss: 3.5506 - val_acc: 0.2045\n",
            "Epoch 14/25\n",
            "1562/1562 [==============================] - 724s 463ms/step - loss: 3.7192 - acc: 0.1800 - val_loss: 3.6943 - val_acc: 0.1822\n",
            "Epoch 15/25\n",
            "  89/1562 [>.............................] - ETA: 7:08 - loss: 3.7873 - acc: 0.1708"
          ],
          "name": "stdout"
        }
      ]
    },
    {
      "metadata": {
        "id": "Eq0fsFA4aKLj",
        "colab_type": "code",
        "colab": {}
      },
      "cell_type": "code",
      "source": [
        "from keras.models import load_model\n",
        "from keras import backend as k\n",
        "model = load_model(checkpoint_path)\n",
        "from keras.callbacks import ReduceLROnPlateau\n",
        "reduce_lr = ReduceLROnPlateau(monitor='val_loss', factor=0.005,\n",
        "                              patience=5, min_lr=0.0000000005)"
      ],
      "execution_count": 0,
      "outputs": []
    },
    {
      "metadata": {
        "id": "IwfCKLODdaOQ",
        "colab_type": "code",
        "outputId": "84b4accd-fb2e-4c2f-dae4-5fd06dd8345f",
        "colab": {
          "base_uri": "https://localhost:8080/",
          "height": 442
        }
      },
      "cell_type": "code",
      "source": [
        "model.fit_generator(train_generator,steps_per_epoch=100000 // 64, validation_data=val_generator, validation_steps=10000 // 64, epochs=10, max_queue_size=64*2,verbose=1, callbacks = [reduce_lr, cp_callback])"
      ],
      "execution_count": 0,
      "outputs": [
        {
          "output_type": "stream",
          "text": [
            "Epoch 1/10\n",
            "1562/1562 [==============================] - 752s 482ms/step - loss: 3.5713 - acc: 0.2022 - val_loss: 3.4647 - val_acc: 0.2212\n",
            "Epoch 2/10\n",
            "1562/1562 [==============================] - 682s 437ms/step - loss: 3.5548 - acc: 0.2060 - val_loss: 3.4587 - val_acc: 0.2226\n",
            "Epoch 3/10\n",
            "1562/1562 [==============================] - 682s 436ms/step - loss: 3.5437 - acc: 0.2078 - val_loss: 3.4638 - val_acc: 0.2239\n",
            "Epoch 4/10\n",
            "1562/1562 [==============================] - 674s 431ms/step - loss: 3.5347 - acc: 0.2105 - val_loss: 3.4423 - val_acc: 0.2247\n",
            "Epoch 5/10\n",
            "1562/1562 [==============================] - 679s 434ms/step - loss: 3.5147 - acc: 0.2128 - val_loss: 3.4257 - val_acc: 0.2273\n",
            "\n",
            "Epoch 00005: saving model to /content/gdrive/My Drive/checkpoint.ckpt\n",
            "Epoch 6/10\n",
            "1562/1562 [==============================] - 679s 435ms/step - loss: 3.5016 - acc: 0.2153 - val_loss: 3.4209 - val_acc: 0.2297\n",
            "Epoch 7/10\n",
            "1562/1562 [==============================] - 679s 435ms/step - loss: 3.4873 - acc: 0.2173 - val_loss: 3.4055 - val_acc: 0.2315\n",
            "Epoch 8/10\n",
            "1562/1562 [==============================] - 680s 435ms/step - loss: 3.4748 - acc: 0.2193 - val_loss: 3.4125 - val_acc: 0.2295\n",
            "Epoch 9/10\n",
            "1562/1562 [==============================] - 684s 438ms/step - loss: 3.4672 - acc: 0.2216 - val_loss: 3.3944 - val_acc: 0.2353\n",
            "Epoch 10/10\n",
            "1562/1562 [==============================] - 681s 436ms/step - loss: 3.4578 - acc: 0.2218 - val_loss: 3.3853 - val_acc: 0.2371\n",
            "\n",
            "Epoch 00010: saving model to /content/gdrive/My Drive/checkpoint.ckpt\n"
          ],
          "name": "stdout"
        },
        {
          "output_type": "execute_result",
          "data": {
            "text/plain": [
              "<keras.callbacks.History at 0x7f662d1bd668>"
            ]
          },
          "metadata": {
            "tags": []
          },
          "execution_count": 13
        }
      ]
    },
    {
      "metadata": {
        "id": "-VD22tGn4WWi",
        "colab_type": "code",
        "outputId": "8266eaf3-bf85-429e-f50e-6db35eff9208",
        "colab": {
          "base_uri": "https://localhost:8080/",
          "height": 142
        }
      },
      "cell_type": "code",
      "source": [
        "from keras.models import load_model\n",
        "from keras import backend as k\n",
        "model = load_model(checkpoint_path)"
      ],
      "execution_count": 0,
      "outputs": [
        {
          "output_type": "stream",
          "text": [
            "WARNING:tensorflow:From /usr/local/lib/python3.6/dist-packages/tensorflow/python/ops/math_ops.py:3066: to_int32 (from tensorflow.python.ops.math_ops) is deprecated and will be removed in a future version.\n",
            "Instructions for updating:\n",
            "Use tf.cast instead.\n",
            "WARNING:tensorflow:From /usr/local/lib/python3.6/dist-packages/tensorflow/python/ops/math_grad.py:102: div (from tensorflow.python.ops.math_ops) is deprecated and will be removed in a future version.\n",
            "Instructions for updating:\n",
            "Deprecated in favor of operator or tf.math.divide.\n"
          ],
          "name": "stdout"
        }
      ]
    },
    {
      "metadata": {
        "id": "FrU3__Pc4oPw",
        "colab_type": "code",
        "outputId": "4df55076-827e-40a8-9e3c-19baad4238ad",
        "colab": {
          "base_uri": "https://localhost:8080/",
          "height": 442
        }
      },
      "cell_type": "code",
      "source": [
        "model.fit_generator(train_generator,steps_per_epoch=100000 // 64, validation_data=val_generator, validation_steps=10000 // 64, epochs=10, max_queue_size=64*2,verbose=1, callbacks = [clr_triangular, cp_callback])"
      ],
      "execution_count": 0,
      "outputs": [
        {
          "output_type": "stream",
          "text": [
            "Epoch 1/10\n",
            "1562/1562 [==============================] - 741s 475ms/step - loss: 3.4707 - acc: 0.2191 - val_loss: 3.4981 - val_acc: 0.2145\n",
            "Epoch 2/10\n",
            "1562/1562 [==============================] - 700s 448ms/step - loss: 3.5109 - acc: 0.2154 - val_loss: 3.3610 - val_acc: 0.2416\n",
            "Epoch 3/10\n",
            "1562/1562 [==============================] - 693s 444ms/step - loss: 3.3967 - acc: 0.2342 - val_loss: 3.3840 - val_acc: 0.2357\n",
            "Epoch 4/10\n",
            "1562/1562 [==============================] - 679s 435ms/step - loss: 3.4959 - acc: 0.2149 - val_loss: 3.4209 - val_acc: 0.2239\n",
            "Epoch 5/10\n",
            "1562/1562 [==============================] - 673s 431ms/step - loss: 3.4175 - acc: 0.2299 - val_loss: 3.2529 - val_acc: 0.2607\n",
            "\n",
            "Epoch 00005: saving model to /content/gdrive/My Drive/checkpoint.ckpt\n",
            "Epoch 6/10\n",
            "1562/1562 [==============================] - 677s 433ms/step - loss: 3.3901 - acc: 0.2345 - val_loss: 3.4490 - val_acc: 0.2280\n",
            "Epoch 7/10\n",
            "1562/1562 [==============================] - 700s 448ms/step - loss: 3.4592 - acc: 0.2229 - val_loss: 3.3781 - val_acc: 0.2362\n",
            "Epoch 8/10\n",
            "1562/1562 [==============================] - 686s 439ms/step - loss: 3.3450 - acc: 0.2431 - val_loss: 3.3595 - val_acc: 0.2441\n",
            "Epoch 9/10\n",
            "1562/1562 [==============================] - 693s 444ms/step - loss: 3.4210 - acc: 0.2277 - val_loss: 3.3787 - val_acc: 0.2346\n",
            "Epoch 10/10\n",
            "1562/1562 [==============================] - 699s 447ms/step - loss: 3.3864 - acc: 0.2361 - val_loss: 3.2288 - val_acc: 0.2641\n",
            "\n",
            "Epoch 00010: saving model to /content/gdrive/My Drive/checkpoint.ckpt\n"
          ],
          "name": "stdout"
        },
        {
          "output_type": "execute_result",
          "data": {
            "text/plain": [
              "<keras.callbacks.History at 0x7f6623aad198>"
            ]
          },
          "metadata": {
            "tags": []
          },
          "execution_count": 22
        }
      ]
    },
    {
      "metadata": {
        "id": "s2aZJu4BVr9l",
        "colab_type": "code",
        "colab": {}
      },
      "cell_type": "code",
      "source": [
        "model = load_model(checkpoint_path)"
      ],
      "execution_count": 0,
      "outputs": []
    },
    {
      "metadata": {
        "id": "r772uzJxVzeu",
        "colab_type": "code",
        "outputId": "f082b328-c493-4adc-8c0d-31851632c72b",
        "colab": {
          "base_uri": "https://localhost:8080/",
          "height": 442
        }
      },
      "cell_type": "code",
      "source": [
        "model.fit_generator(train_generator,steps_per_epoch=100000 // 64, validation_data=val_generator, validation_steps=10000 // 64, epochs=10, max_queue_size=64*2,verbose=1, callbacks = [cp_callback])"
      ],
      "execution_count": 0,
      "outputs": [
        {
          "output_type": "stream",
          "text": [
            "Epoch 1/10\n",
            "1562/1562 [==============================] - 749s 479ms/step - loss: 3.2683 - acc: 0.2543 - val_loss: 3.2109 - val_acc: 0.2695\n",
            "Epoch 2/10\n",
            "1562/1562 [==============================] - 688s 441ms/step - loss: 3.2568 - acc: 0.2578 - val_loss: 3.2124 - val_acc: 0.2667\n",
            "Epoch 3/10\n",
            "1562/1562 [==============================] - 696s 446ms/step - loss: 3.2432 - acc: 0.2613 - val_loss: 3.1942 - val_acc: 0.2723\n",
            "Epoch 4/10\n",
            "1562/1562 [==============================] - 703s 450ms/step - loss: 3.2488 - acc: 0.2598 - val_loss: 3.2038 - val_acc: 0.2696\n",
            "Epoch 5/10\n",
            "1562/1562 [==============================] - 697s 446ms/step - loss: 3.2341 - acc: 0.2597 - val_loss: 3.2121 - val_acc: 0.2713\n",
            "\n",
            "Epoch 00005: saving model to /content/gdrive/My Drive/checkpoint.ckpt\n",
            "Epoch 6/10\n",
            "1562/1562 [==============================] - 684s 438ms/step - loss: 3.2292 - acc: 0.2639 - val_loss: 3.1998 - val_acc: 0.2732\n",
            "Epoch 7/10\n",
            "1562/1562 [==============================] - 695s 445ms/step - loss: 3.2262 - acc: 0.2639 - val_loss: 3.1667 - val_acc: 0.2756\n",
            "Epoch 8/10\n",
            "1562/1562 [==============================] - 693s 444ms/step - loss: 3.2128 - acc: 0.2655 - val_loss: 3.1898 - val_acc: 0.2746\n",
            "Epoch 9/10\n",
            "1562/1562 [==============================] - 698s 447ms/step - loss: 3.2158 - acc: 0.2639 - val_loss: 3.1761 - val_acc: 0.2741\n",
            "Epoch 10/10\n",
            "1562/1562 [==============================] - 696s 445ms/step - loss: 3.2033 - acc: 0.2671 - val_loss: 3.1875 - val_acc: 0.2724\n",
            "\n",
            "Epoch 00010: saving model to /content/gdrive/My Drive/checkpoint.ckpt\n"
          ],
          "name": "stdout"
        },
        {
          "output_type": "execute_result",
          "data": {
            "text/plain": [
              "<keras.callbacks.History at 0x7f662eb6e940>"
            ]
          },
          "metadata": {
            "tags": []
          },
          "execution_count": 24
        }
      ]
    },
    {
      "metadata": {
        "id": "cPRPROJAwsWJ",
        "colab_type": "code",
        "colab": {}
      },
      "cell_type": "code",
      "source": [
        "model = load_model(checkpoint_path)"
      ],
      "execution_count": 0,
      "outputs": []
    },
    {
      "metadata": {
        "id": "QL_890xGwwFG",
        "colab_type": "code",
        "outputId": "a4c73380-fde0-4de9-df82-c8ba840165a3",
        "colab": {
          "base_uri": "https://localhost:8080/",
          "height": 442
        }
      },
      "cell_type": "code",
      "source": [
        "model.fit_generator(train_generator,steps_per_epoch=100000 // 64, validation_data=val_generator, validation_steps=10000 // 64, epochs=10, max_queue_size=64*2,verbose=1, callbacks = [cp_callback])"
      ],
      "execution_count": 0,
      "outputs": [
        {
          "output_type": "stream",
          "text": [
            "Epoch 1/10\n",
            "1562/1562 [==============================] - 747s 478ms/step - loss: 3.1973 - acc: 0.2697 - val_loss: 3.1760 - val_acc: 0.2752\n",
            "Epoch 2/10\n",
            "1562/1562 [==============================] - 712s 456ms/step - loss: 3.1909 - acc: 0.2698 - val_loss: 3.1534 - val_acc: 0.2811\n",
            "Epoch 3/10\n",
            "1562/1562 [==============================] - 720s 461ms/step - loss: 3.1897 - acc: 0.2695 - val_loss: 3.1448 - val_acc: 0.2829\n",
            "Epoch 4/10\n",
            "1562/1562 [==============================] - 704s 451ms/step - loss: 3.1851 - acc: 0.2715 - val_loss: 3.1587 - val_acc: 0.2790\n",
            "Epoch 5/10\n",
            "1562/1562 [==============================] - 671s 430ms/step - loss: 3.1760 - acc: 0.2728 - val_loss: 3.1424 - val_acc: 0.2840\n",
            "\n",
            "Epoch 00005: saving model to /content/gdrive/My Drive/checkpoint.ckpt\n",
            "Epoch 6/10\n",
            "1562/1562 [==============================] - 657s 421ms/step - loss: 3.1696 - acc: 0.2732 - val_loss: 3.1450 - val_acc: 0.2811\n",
            "Epoch 7/10\n",
            "1562/1562 [==============================] - 672s 430ms/step - loss: 3.1643 - acc: 0.2735 - val_loss: 3.1540 - val_acc: 0.2843\n",
            "Epoch 8/10\n",
            "1562/1562 [==============================] - 702s 449ms/step - loss: 3.1617 - acc: 0.2757 - val_loss: 3.1521 - val_acc: 0.2814\n",
            "Epoch 9/10\n",
            "1562/1562 [==============================] - 705s 451ms/step - loss: 3.1605 - acc: 0.2753 - val_loss: 3.1241 - val_acc: 0.2864\n",
            "Epoch 10/10\n",
            "1562/1562 [==============================] - 706s 452ms/step - loss: 3.1495 - acc: 0.2765 - val_loss: 3.1284 - val_acc: 0.2858\n",
            "\n",
            "Epoch 00010: saving model to /content/gdrive/My Drive/checkpoint.ckpt\n"
          ],
          "name": "stdout"
        },
        {
          "output_type": "execute_result",
          "data": {
            "text/plain": [
              "<keras.callbacks.History at 0x7f661f9afd68>"
            ]
          },
          "metadata": {
            "tags": []
          },
          "execution_count": 26
        }
      ]
    },
    {
      "metadata": {
        "id": "A8kYWIwQb67C",
        "colab_type": "code",
        "colab": {}
      },
      "cell_type": "code",
      "source": [
        "model = load_model(checkpoint_path)"
      ],
      "execution_count": 0,
      "outputs": []
    },
    {
      "metadata": {
        "id": "QPRvVhu-b9cz",
        "colab_type": "code",
        "outputId": "0abada5d-2fa6-4043-9e07-383076faaa8e",
        "colab": {
          "base_uri": "https://localhost:8080/",
          "height": 442
        }
      },
      "cell_type": "code",
      "source": [
        "model.fit_generator(train_generator,steps_per_epoch=100000 // 64, validation_data=val_generator, validation_steps=10000 // 64, epochs=10, max_queue_size=64*2,verbose=1, callbacks = [cp_callback])"
      ],
      "execution_count": 0,
      "outputs": [
        {
          "output_type": "stream",
          "text": [
            "Epoch 1/10\n",
            "1562/1562 [==============================] - 783s 501ms/step - loss: 3.0574 - acc: 0.2943 - val_loss: 3.0551 - val_acc: 0.3003\n",
            "Epoch 2/10\n",
            "1562/1562 [==============================] - 732s 469ms/step - loss: 3.0535 - acc: 0.2948 - val_loss: 3.0438 - val_acc: 0.3026\n",
            "Epoch 3/10\n",
            "1562/1562 [==============================] - 719s 460ms/step - loss: 3.0521 - acc: 0.2969 - val_loss: 3.0831 - val_acc: 0.2957\n",
            "Epoch 4/10\n",
            "1562/1562 [==============================] - 713s 457ms/step - loss: 3.0422 - acc: 0.2986 - val_loss: 3.0495 - val_acc: 0.3035\n",
            "Epoch 5/10\n",
            "1562/1562 [==============================] - 717s 459ms/step - loss: 3.0422 - acc: 0.2975 - val_loss: 3.0372 - val_acc: 0.3049\n",
            "\n",
            "Epoch 00005: saving model to /content/gdrive/My Drive/checkpoint.ckpt\n",
            "Epoch 6/10\n",
            "1562/1562 [==============================] - 710s 455ms/step - loss: 3.0363 - acc: 0.2970 - val_loss: 3.0502 - val_acc: 0.3000\n",
            "Epoch 7/10\n",
            "1562/1562 [==============================] - 723s 463ms/step - loss: 3.0259 - acc: 0.3012 - val_loss: 3.0377 - val_acc: 0.3032\n",
            "Epoch 8/10\n",
            "1562/1562 [==============================] - 728s 466ms/step - loss: 3.0225 - acc: 0.3000 - val_loss: 3.0704 - val_acc: 0.2957\n",
            "Epoch 9/10\n",
            "1562/1562 [==============================] - 731s 468ms/step - loss: 3.0203 - acc: 0.3013 - val_loss: 3.0496 - val_acc: 0.3042\n",
            "Epoch 10/10\n",
            "1562/1562 [==============================] - 728s 466ms/step - loss: 3.0197 - acc: 0.3000 - val_loss: 3.0491 - val_acc: 0.3019\n",
            "\n",
            "Epoch 00010: saving model to /content/gdrive/My Drive/checkpoint.ckpt\n"
          ],
          "name": "stdout"
        },
        {
          "output_type": "execute_result",
          "data": {
            "text/plain": [
              "<keras.callbacks.History at 0x7f9be6c24c50>"
            ]
          },
          "metadata": {
            "tags": []
          },
          "execution_count": 19
        }
      ]
    },
    {
      "metadata": {
        "id": "Lg_g9jWhMN2N",
        "colab_type": "code",
        "colab": {}
      },
      "cell_type": "code",
      "source": [
        "model = load_model(checkpoint_path)"
      ],
      "execution_count": 0,
      "outputs": []
    },
    {
      "metadata": {
        "id": "v-RKK-p9MR6Z",
        "colab_type": "code",
        "outputId": "fcea54c2-49b6-4569-b58d-c8336503a05d",
        "colab": {
          "base_uri": "https://localhost:8080/",
          "height": 238
        }
      },
      "cell_type": "code",
      "source": [
        "model.fit_generator(train_generator,steps_per_epoch=100000 // 64, validation_data=val_generator, validation_steps=10000 // 64, epochs=5, max_queue_size=64*2,verbose=1, callbacks = [cp_callback])"
      ],
      "execution_count": 0,
      "outputs": [
        {
          "output_type": "stream",
          "text": [
            "Epoch 1/5\n",
            "1562/1562 [==============================] - 782s 501ms/step - loss: 3.2730 - acc: 0.2542 - val_loss: 3.3118 - val_acc: 0.2558\n",
            "Epoch 2/5\n",
            "1562/1562 [==============================] - 736s 471ms/step - loss: 3.2565 - acc: 0.2542 - val_loss: 3.2478 - val_acc: 0.2604\n",
            "Epoch 3/5\n",
            "1562/1562 [==============================] - 728s 466ms/step - loss: 3.2478 - acc: 0.2593 - val_loss: 3.2209 - val_acc: 0.2682\n",
            "Epoch 4/5\n",
            "1562/1562 [==============================] - 718s 460ms/step - loss: 3.2302 - acc: 0.2636 - val_loss: 3.2480 - val_acc: 0.2664\n",
            "Epoch 5/5\n",
            "1562/1562 [==============================] - 717s 459ms/step - loss: 3.2195 - acc: 0.2635 - val_loss: 3.2174 - val_acc: 0.2702\n",
            "\n",
            "Epoch 00005: saving model to /content/gdrive/My Drive/checkpoint.ckpt\n"
          ],
          "name": "stdout"
        },
        {
          "output_type": "execute_result",
          "data": {
            "text/plain": [
              "<keras.callbacks.History at 0x7f9bd648e630>"
            ]
          },
          "metadata": {
            "tags": []
          },
          "execution_count": 48
        }
      ]
    },
    {
      "metadata": {
        "id": "GGdLnHF72WUq",
        "colab_type": "code",
        "outputId": "12516cbe-3048-4aa3-8b7e-5b90190ed0b6",
        "colab": {
          "base_uri": "https://localhost:8080/",
          "height": 442
        }
      },
      "cell_type": "code",
      "source": [
        "model.fit_generator(train_generator,steps_per_epoch=100000 // 64, validation_data=val_generator, validation_steps=10000 // 64, epochs=10, max_queue_size=64*2,verbose=1, callbacks = [cp_callback])"
      ],
      "execution_count": 0,
      "outputs": [
        {
          "output_type": "stream",
          "text": [
            "Epoch 1/10\n",
            "1562/1562 [==============================] - 775s 496ms/step - loss: 3.2028 - acc: 0.2673 - val_loss: 3.1958 - val_acc: 0.2734\n",
            "Epoch 2/10\n",
            "1562/1562 [==============================] - 725s 464ms/step - loss: 3.1888 - acc: 0.2695 - val_loss: 3.1992 - val_acc: 0.2782\n",
            "Epoch 3/10\n",
            "1562/1562 [==============================] - 729s 467ms/step - loss: 3.1866 - acc: 0.2693 - val_loss: 3.1923 - val_acc: 0.2753\n",
            "Epoch 4/10\n",
            "1562/1562 [==============================] - 723s 463ms/step - loss: 3.1707 - acc: 0.2720 - val_loss: 3.2201 - val_acc: 0.2722\n",
            "Epoch 5/10\n",
            "1562/1562 [==============================] - 728s 466ms/step - loss: 3.1583 - acc: 0.2749 - val_loss: 3.1559 - val_acc: 0.2803\n",
            "\n",
            "Epoch 00005: saving model to /content/gdrive/My Drive/checkpoint.ckpt\n",
            "Epoch 6/10\n",
            "1562/1562 [==============================] - 698s 447ms/step - loss: 3.1501 - acc: 0.2770 - val_loss: 3.1967 - val_acc: 0.2711\n",
            "Epoch 7/10\n",
            "1562/1562 [==============================] - 731s 468ms/step - loss: 3.1463 - acc: 0.2778 - val_loss: 3.1203 - val_acc: 0.2855\n",
            "Epoch 8/10\n",
            "1562/1562 [==============================] - 732s 469ms/step - loss: 3.1273 - acc: 0.2827 - val_loss: 3.0989 - val_acc: 0.2942\n",
            "Epoch 9/10\n",
            "1562/1562 [==============================] - 734s 470ms/step - loss: 3.1186 - acc: 0.2826 - val_loss: 3.1493 - val_acc: 0.2824\n",
            "Epoch 10/10\n",
            "1562/1562 [==============================] - 731s 468ms/step - loss: 3.1062 - acc: 0.2856 - val_loss: 3.1138 - val_acc: 0.2920\n",
            "\n",
            "Epoch 00010: saving model to /content/gdrive/My Drive/checkpoint.ckpt\n"
          ],
          "name": "stdout"
        },
        {
          "output_type": "execute_result",
          "data": {
            "text/plain": [
              "<keras.callbacks.History at 0x7f9bd648e358>"
            ]
          },
          "metadata": {
            "tags": []
          },
          "execution_count": 50
        }
      ]
    },
    {
      "metadata": {
        "id": "iYaOAjyhTCTC",
        "colab_type": "code",
        "colab": {}
      },
      "cell_type": "code",
      "source": [
        "from keras.models import load_model\n",
        "from keras import backend as k\n",
        "model = load_model(checkpoint_path)\n",
        "k.set_value(model.optimizer.lr,  0.003)\n",
        "k.set_value(model.optimizer.momentum,  0.9)"
      ],
      "execution_count": 0,
      "outputs": []
    },
    {
      "metadata": {
        "id": "iQGQUGKxTXa2",
        "colab_type": "code",
        "outputId": "a48ae826-dd77-47dc-c2fe-456f5f3cc6e6",
        "colab": {
          "base_uri": "https://localhost:8080/",
          "height": 646
        }
      },
      "cell_type": "code",
      "source": [
        "model.fit_generator(train_generator,steps_per_epoch=100000 // 64, validation_data=val_generator, validation_steps=10000 // 64, epochs=15, max_queue_size=64*2,verbose=1, callbacks = [cp_callback])"
      ],
      "execution_count": 0,
      "outputs": [
        {
          "output_type": "stream",
          "text": [
            "Epoch 1/15\n",
            "1562/1562 [==============================] - 791s 506ms/step - loss: 3.0182 - acc: 0.3025 - val_loss: 3.0385 - val_acc: 0.3055\n",
            "Epoch 2/15\n",
            "1562/1562 [==============================] - 738s 473ms/step - loss: 2.9870 - acc: 0.3073 - val_loss: 3.0087 - val_acc: 0.3053\n",
            "Epoch 3/15\n",
            "1562/1562 [==============================] - 735s 470ms/step - loss: 2.9915 - acc: 0.3068 - val_loss: 2.9870 - val_acc: 0.3137\n",
            "Epoch 4/15\n",
            "1562/1562 [==============================] - 734s 470ms/step - loss: 2.9816 - acc: 0.3087 - val_loss: 2.9955 - val_acc: 0.3114\n",
            "Epoch 5/15\n",
            "1562/1562 [==============================] - 737s 472ms/step - loss: 2.9748 - acc: 0.3106 - val_loss: 2.9996 - val_acc: 0.3101\n",
            "\n",
            "Epoch 00005: saving model to /content/gdrive/My Drive/checkpoint.ckpt\n",
            "Epoch 6/15\n",
            "1562/1562 [==============================] - 689s 441ms/step - loss: 2.9782 - acc: 0.3100 - val_loss: 3.0072 - val_acc: 0.3095\n",
            "Epoch 7/15\n",
            "1562/1562 [==============================] - 728s 466ms/step - loss: 2.9587 - acc: 0.3152 - val_loss: 3.0084 - val_acc: 0.3107\n",
            "Epoch 8/15\n",
            "1562/1562 [==============================] - 727s 465ms/step - loss: 2.9618 - acc: 0.3125 - val_loss: 2.9937 - val_acc: 0.3139\n",
            "Epoch 9/15\n",
            "1562/1562 [==============================] - 734s 470ms/step - loss: 2.9545 - acc: 0.3128 - val_loss: 2.9670 - val_acc: 0.3147\n",
            "Epoch 10/15\n",
            "1562/1562 [==============================] - 729s 467ms/step - loss: 2.9448 - acc: 0.3144 - val_loss: 2.9978 - val_acc: 0.3111\n",
            "\n",
            "Epoch 00010: saving model to /content/gdrive/My Drive/checkpoint.ckpt\n",
            "Epoch 11/15\n",
            "1562/1562 [==============================] - 738s 472ms/step - loss: 2.9421 - acc: 0.3173 - val_loss: 2.9790 - val_acc: 0.3191\n",
            "Epoch 12/15\n",
            "1562/1562 [==============================] - 730s 467ms/step - loss: 2.9408 - acc: 0.3151 - val_loss: 2.9867 - val_acc: 0.3155\n",
            "Epoch 13/15\n",
            "1562/1562 [==============================] - 722s 462ms/step - loss: 2.9296 - acc: 0.3194 - val_loss: 3.0034 - val_acc: 0.3115\n",
            "Epoch 14/15\n",
            "1562/1562 [==============================] - 736s 471ms/step - loss: 2.9329 - acc: 0.3159 - val_loss: 2.9546 - val_acc: 0.3205\n",
            "Epoch 15/15\n",
            "1562/1562 [==============================] - 738s 472ms/step - loss: 2.9248 - acc: 0.3187 - val_loss: 2.9701 - val_acc: 0.3152\n",
            "\n",
            "Epoch 00015: saving model to /content/gdrive/My Drive/checkpoint.ckpt\n"
          ],
          "name": "stdout"
        },
        {
          "output_type": "execute_result",
          "data": {
            "text/plain": [
              "<keras.callbacks.History at 0x7f9bcd5da3c8>"
            ]
          },
          "metadata": {
            "tags": []
          },
          "execution_count": 53
        }
      ]
    },
    {
      "metadata": {
        "id": "tXov0NnBSC9F",
        "colab_type": "code",
        "outputId": "4db38793-1f15-4bf0-8871-81c5f00ba8de",
        "colab": {
          "base_uri": "https://localhost:8080/",
          "height": 119
        }
      },
      "cell_type": "code",
      "source": [
        "from keras.models import load_model\n",
        "from keras import backend as k\n",
        "model = load_model(checkpoint_path)\n",
        "k.set_value(model.optimizer.lr,  0.0005)\n",
        "k.set_value(model.optimizer.momentum,  0.9)"
      ],
      "execution_count": 0,
      "outputs": [
        {
          "output_type": "stream",
          "text": [
            "WARNING:tensorflow:From /usr/local/lib/python3.6/dist-packages/tensorflow/python/ops/math_ops.py:3066: to_int32 (from tensorflow.python.ops.math_ops) is deprecated and will be removed in a future version.\n",
            "Instructions for updating:\n",
            "Use tf.cast instead.\n",
            "WARNING:tensorflow:From /usr/local/lib/python3.6/dist-packages/tensorflow/python/ops/math_grad.py:102: div (from tensorflow.python.ops.math_ops) is deprecated and will be removed in a future version.\n",
            "Instructions for updating:\n",
            "Deprecated in favor of operator or tf.math.divide.\n"
          ],
          "name": "stdout"
        }
      ]
    },
    {
      "metadata": {
        "id": "Wta0wOnjSIxF",
        "colab_type": "code",
        "outputId": "d48f9106-d09f-464c-ddc0-55cdef1be339",
        "colab": {
          "base_uri": "https://localhost:8080/",
          "height": 442
        }
      },
      "cell_type": "code",
      "source": [
        "model.fit_generator(train_generator,steps_per_epoch=100000 // 64, validation_data=val_generator, validation_steps=10000 // 64, epochs=10, max_queue_size=64*2,verbose=1, callbacks = [cp_callback])"
      ],
      "execution_count": 0,
      "outputs": [
        {
          "output_type": "stream",
          "text": [
            "Epoch 1/10\n",
            "1562/1562 [==============================] - 745s 477ms/step - loss: 2.8065 - acc: 0.3417 - val_loss: 2.8509 - val_acc: 0.3415\n",
            "Epoch 2/10\n",
            "1562/1562 [==============================] - 675s 432ms/step - loss: 2.7790 - acc: 0.3481 - val_loss: 2.8455 - val_acc: 0.3444\n",
            "Epoch 3/10\n",
            "1562/1562 [==============================] - 679s 435ms/step - loss: 2.7687 - acc: 0.3486 - val_loss: 2.8442 - val_acc: 0.3442\n",
            "Epoch 4/10\n",
            "1562/1562 [==============================] - 678s 434ms/step - loss: 2.7646 - acc: 0.3506 - val_loss: 2.8431 - val_acc: 0.3449\n",
            "Epoch 5/10\n",
            "1562/1562 [==============================] - 679s 435ms/step - loss: 2.7578 - acc: 0.3506 - val_loss: 2.8430 - val_acc: 0.3440\n",
            "\n",
            "Epoch 00005: saving model to /content/gdrive/My Drive/checkpoint.ckpt\n",
            "Epoch 6/10\n",
            "1562/1562 [==============================] - 682s 437ms/step - loss: 2.7532 - acc: 0.3515 - val_loss: 2.8447 - val_acc: 0.3444\n",
            "Epoch 7/10\n",
            "1562/1562 [==============================] - 685s 439ms/step - loss: 2.7431 - acc: 0.3548 - val_loss: 2.8488 - val_acc: 0.3430\n",
            "Epoch 8/10\n",
            "1562/1562 [==============================] - 696s 445ms/step - loss: 2.7487 - acc: 0.3516 - val_loss: 2.8469 - val_acc: 0.3421\n",
            "Epoch 9/10\n",
            "1562/1562 [==============================] - 702s 450ms/step - loss: 2.7416 - acc: 0.3552 - val_loss: 2.8383 - val_acc: 0.3465\n",
            "Epoch 10/10\n",
            "1562/1562 [==============================] - 708s 453ms/step - loss: 2.7381 - acc: 0.3543 - val_loss: 2.8304 - val_acc: 0.3493\n",
            "\n",
            "Epoch 00010: saving model to /content/gdrive/My Drive/checkpoint.ckpt\n"
          ],
          "name": "stdout"
        },
        {
          "output_type": "execute_result",
          "data": {
            "text/plain": [
              "<keras.callbacks.History at 0x7f4862a8d978>"
            ]
          },
          "metadata": {
            "tags": []
          },
          "execution_count": 13
        }
      ]
    },
    {
      "metadata": {
        "id": "A_BS405rHbfo",
        "colab_type": "code",
        "colab": {}
      },
      "cell_type": "code",
      "source": [
        "from keras.models import load_model\n",
        "from keras import backend as k\n",
        "model = load_model(checkpoint_path)\n",
        "k.set_value(model.optimizer.lr,  0.0000005)\n",
        "k.set_value(model.optimizer.momentum,  0.9)"
      ],
      "execution_count": 0,
      "outputs": []
    },
    {
      "metadata": {
        "id": "pM4cbninHfZ0",
        "colab_type": "code",
        "outputId": "69f838c7-24fa-4369-e936-68cea150f8bb",
        "colab": {
          "base_uri": "https://localhost:8080/",
          "height": 343
        }
      },
      "cell_type": "code",
      "source": [
        "model.fit_generator(train_generator,steps_per_epoch=100000 // 64, validation_data=val_generator, validation_steps=10000 // 64, epochs=10, max_queue_size=64*2,verbose=1, callbacks = [cp_callback])"
      ],
      "execution_count": 0,
      "outputs": [
        {
          "output_type": "stream",
          "text": [
            "Epoch 1/10\n",
            "1562/1562 [==============================] - 767s 491ms/step - loss: 2.6946 - acc: 0.3635 - val_loss: 2.8055 - val_acc: 0.3527\n",
            "Epoch 2/10\n",
            "1562/1562 [==============================] - 713s 456ms/step - loss: 2.7025 - acc: 0.3631 - val_loss: 2.8101 - val_acc: 0.3525\n",
            "Epoch 3/10\n",
            "1562/1562 [==============================] - 710s 455ms/step - loss: 2.6918 - acc: 0.3636 - val_loss: 2.8079 - val_acc: 0.3523\n",
            "Epoch 4/10\n",
            "1562/1562 [==============================] - 706s 452ms/step - loss: 2.6988 - acc: 0.3637 - val_loss: 2.8123 - val_acc: 0.3522\n",
            "Epoch 5/10\n",
            "1562/1562 [==============================] - 712s 456ms/step - loss: 2.7008 - acc: 0.3629 - val_loss: 2.8074 - val_acc: 0.3524\n",
            "\n",
            "Epoch 00005: saving model to /content/gdrive/My Drive/checkpoint.ckpt\n",
            "Epoch 6/10\n",
            "1562/1562 [==============================] - 701s 449ms/step - loss: 2.6966 - acc: 0.3620 - val_loss: 2.8091 - val_acc: 0.3515\n",
            "Epoch 7/10\n",
            "1562/1562 [==============================] - 710s 455ms/step - loss: 2.6956 - acc: 0.3636 - val_loss: 2.8140 - val_acc: 0.3508\n",
            "Epoch 8/10\n",
            "1562/1562 [==============================] - 710s 455ms/step - loss: 2.6951 - acc: 0.3632 - val_loss: 2.8134 - val_acc: 0.3532\n"
          ],
          "name": "stdout"
        }
      ]
    },
    {
      "metadata": {
        "id": "hhQF1sFyOJQ7",
        "colab_type": "code",
        "colab": {}
      },
      "cell_type": "code",
      "source": [
        "from keras.models import load_model\n",
        "from keras import backend as k\n",
        "model = load_model(checkpoint_path)"
      ],
      "execution_count": 0,
      "outputs": []
    },
    {
      "metadata": {
        "id": "M-4DT2DkOOHZ",
        "colab_type": "code",
        "outputId": "c620ad63-cfab-47fe-d9eb-d74debdded18",
        "colab": {
          "base_uri": "https://localhost:8080/",
          "height": 451
        }
      },
      "cell_type": "code",
      "source": [
        "model.fit_generator(train_generator,steps_per_epoch=100000 // 512, validation_data=val_generator, validation_steps=10000 // 512, epochs=10, max_queue_size=64*2,verbose=1, callbacks = [ cp_callback])"
      ],
      "execution_count": 0,
      "outputs": [
        {
          "output_type": "stream",
          "text": [
            "Epoch 1/10\n",
            "195/195 [==============================] - 102s 523ms/step - loss: 2.6983 - acc: 0.3556 - val_loss: 2.8062 - val_acc: 0.3539\n",
            "Epoch 2/10\n",
            "195/195 [==============================] - 89s 459ms/step - loss: 2.7051 - acc: 0.3645 - val_loss: 2.8143 - val_acc: 0.3486\n",
            "Epoch 3/10\n",
            "195/195 [==============================] - 89s 457ms/step - loss: 2.6747 - acc: 0.3696 - val_loss: 2.8011 - val_acc: 0.3528\n",
            "Epoch 4/10\n",
            "195/195 [==============================] - 88s 454ms/step - loss: 2.6828 - acc: 0.3647 - val_loss: 2.8027 - val_acc: 0.3544\n",
            "\n",
            "Epoch 00004: saving model to /content/gdrive/My Drive/checkpoint.ckpt\n",
            "Epoch 5/10\n",
            "195/195 [==============================] - 75s 386ms/step - loss: 2.7150 - acc: 0.3598 - val_loss: 2.8147 - val_acc: 0.3496\n",
            "Epoch 6/10\n",
            "195/195 [==============================] - 90s 462ms/step - loss: 2.6836 - acc: 0.3630 - val_loss: 2.8249 - val_acc: 0.3492\n",
            "Epoch 7/10\n",
            "195/195 [==============================] - 90s 460ms/step - loss: 2.6655 - acc: 0.3670 - val_loss: 2.7940 - val_acc: 0.3578\n",
            "Epoch 8/10\n",
            "195/195 [==============================] - 85s 434ms/step - loss: 2.6892 - acc: 0.3682 - val_loss: 2.8098 - val_acc: 0.3546\n",
            "Epoch 9/10\n",
            "195/195 [==============================] - 79s 406ms/step - loss: 2.6810 - acc: 0.3611 - val_loss: 2.8066 - val_acc: 0.3523\n",
            "\n",
            "Epoch 00009: saving model to /content/gdrive/My Drive/checkpoint.ckpt\n",
            "Epoch 10/10\n",
            "195/195 [==============================] - 80s 411ms/step - loss: 2.6898 - acc: 0.3629 - val_loss: 2.8021 - val_acc: 0.3514\n"
          ],
          "name": "stdout"
        },
        {
          "output_type": "execute_result",
          "data": {
            "text/plain": [
              "<keras.callbacks.History at 0x7f4535baf630>"
            ]
          },
          "metadata": {
            "tags": []
          },
          "execution_count": 24
        }
      ]
    },
    {
      "metadata": {
        "id": "OL7C8JnqZtlq",
        "colab_type": "code",
        "colab": {}
      },
      "cell_type": "code",
      "source": [
        "from keras.models import load_model\n",
        "from keras import backend as k\n",
        "model = load_model(checkpoint_path)\n",
        "model.save_weights('my_model_weights.h5')"
      ],
      "execution_count": 0,
      "outputs": []
    },
    {
      "metadata": {
        "id": "VwG4RGCbhfa0",
        "colab_type": "code",
        "colab": {}
      },
      "cell_type": "code",
      "source": [
        "from imgaug import augmenters as iaa\n",
        "\n",
        "aug = iaa.SomeOf((0, None), [\n",
        "        iaa.AdditiveGaussianNoise(scale=0.2),\n",
        "        iaa.Add(50, per_channel=True),\n",
        "        iaa.Sharpen(alpha=(0.0, 0.5), lightness=(0.5, 1.0)),\n",
        "        iaa.CropAndPad(percent=(-0.1, 0.1)),\n",
        "        iaa.GaussianBlur(sigma=(0.0, 1.0)),\n",
        "        iaa.Emboss(alpha=(0.0, 1.0), strength=(0.5, 1.5)),\n",
        "        iaa.Dropout(p=(0, 0.2)),\n",
        "        iaa.CoarseDropout(0.02, size_percent=0.5),\n",
        "        iaa.ElasticTransformation(alpha=(0, 1.0), sigma=0.25)\n",
        "      ], random_order=True)\n",
        "\n",
        "def generator(data):\n",
        "    while(True):\n",
        "        for x, y in data:\n",
        "            for i in range(len(x)):\n",
        "                x[i]  = aug.augment_image(x[i])\n",
        "            yield (x, y)"
      ],
      "execution_count": 0,
      "outputs": []
    },
    {
      "metadata": {
        "id": "J-diBLbMZyC7",
        "colab_type": "code",
        "outputId": "30267b11-6568-493b-9247-7d883698b495",
        "colab": {
          "base_uri": "https://localhost:8080/",
          "height": 1374
        }
      },
      "cell_type": "code",
      "source": [
        "model.load_weights('my_model_weights.h5')\n",
        "model.fit_generator(train_generator,steps_per_epoch=100000 // 64, validation_data=val_generator, validation_steps=10000 // 64, epochs=30, max_queue_size=64*2,verbose=1, callbacks = [reduce_lr, clr_triangular, cp_callback])"
      ],
      "execution_count": 0,
      "outputs": [
        {
          "output_type": "stream",
          "text": [
            "Epoch 1/30\n",
            "   1/1562 [..............................] - ETA: 17:46 - loss: 2.8395 - acc: 0.3906"
          ],
          "name": "stdout"
        },
        {
          "output_type": "stream",
          "text": [
            "/usr/local/lib/python3.6/dist-packages/keras/callbacks.py:122: UserWarning: Method on_batch_end() is slow compared to the batch update (1.526031). Check your callbacks.\n",
            "  % delta_t_median)\n"
          ],
          "name": "stderr"
        },
        {
          "output_type": "stream",
          "text": [
            "\b\b\b\b\b\b\b\b\b\b\b\b\b\b\b\b\b\b\b\b\b\b\b\b\b\b\b\b\b\b\b\b\b\b\b\b\b\b\b\b\b\b\b\b\b\b\b\b\b\b\b\b\b\b\b\b\b\b\b\b\b\b\b\b\b\b\b\b\b\b\b\b\b\b\b\b\b\b\b\b\b\b\b\b\r   2/1562 [..............................] - ETA: 32:42 - loss: 2.7954 - acc: 0.3750"
          ],
          "name": "stdout"
        },
        {
          "output_type": "stream",
          "text": [
            "/usr/local/lib/python3.6/dist-packages/keras/callbacks.py:122: UserWarning: Method on_batch_end() is slow compared to the batch update (0.774012). Check your callbacks.\n",
            "  % delta_t_median)\n"
          ],
          "name": "stderr"
        },
        {
          "output_type": "stream",
          "text": [
            "1562/1562 [==============================] - 713s 456ms/step - loss: 2.6960 - acc: 0.3660 - val_loss: 2.8101 - val_acc: 0.3535\n",
            "Epoch 2/30\n",
            "1562/1562 [==============================] - 642s 411ms/step - loss: 2.6990 - acc: 0.3653 - val_loss: 2.8100 - val_acc: 0.3509\n",
            "\n",
            "Epoch 00002: saving model to /content/gdrive/My Drive/checkpoint.ckpt\n",
            "Epoch 3/30\n",
            "1562/1562 [==============================] - 646s 414ms/step - loss: 2.6929 - acc: 0.3645 - val_loss: 2.8109 - val_acc: 0.3513\n",
            "Epoch 4/30\n",
            "1562/1562 [==============================] - 662s 424ms/step - loss: 2.6962 - acc: 0.3640 - val_loss: 2.8118 - val_acc: 0.3520\n",
            "Epoch 5/30\n",
            "1562/1562 [==============================] - 683s 437ms/step - loss: 2.6925 - acc: 0.3633 - val_loss: 2.8086 - val_acc: 0.3519\n",
            "Epoch 6/30\n",
            "1562/1562 [==============================] - 692s 443ms/step - loss: 2.6921 - acc: 0.3631 - val_loss: 2.8090 - val_acc: 0.3524\n",
            "Epoch 7/30\n",
            "1562/1562 [==============================] - 688s 440ms/step - loss: 2.6941 - acc: 0.3625 - val_loss: 2.8076 - val_acc: 0.3524\n",
            "\n",
            "Epoch 00007: saving model to /content/gdrive/My Drive/checkpoint.ckpt\n",
            "Epoch 8/30\n",
            "1562/1562 [==============================] - 690s 442ms/step - loss: 2.7043 - acc: 0.3616 - val_loss: 2.8147 - val_acc: 0.3519\n",
            "Epoch 9/30\n",
            "1562/1562 [==============================] - 688s 441ms/step - loss: 2.7007 - acc: 0.3632 - val_loss: 2.8070 - val_acc: 0.3536\n",
            "Epoch 10/30\n",
            "1562/1562 [==============================] - 694s 445ms/step - loss: 2.6925 - acc: 0.3636 - val_loss: 2.8105 - val_acc: 0.3517\n",
            "Epoch 11/30\n",
            "1562/1562 [==============================] - 695s 445ms/step - loss: 2.6953 - acc: 0.3635 - val_loss: 2.8097 - val_acc: 0.3534\n",
            "Epoch 12/30\n",
            "1562/1562 [==============================] - 693s 443ms/step - loss: 2.6938 - acc: 0.3621 - val_loss: 2.8136 - val_acc: 0.3505\n",
            "\n",
            "Epoch 00012: saving model to /content/gdrive/My Drive/checkpoint.ckpt\n",
            "Epoch 13/30\n",
            "1562/1562 [==============================] - 693s 444ms/step - loss: 2.6986 - acc: 0.3614 - val_loss: 2.8097 - val_acc: 0.3530\n",
            "Epoch 14/30\n",
            "1562/1562 [==============================] - 693s 444ms/step - loss: 2.6960 - acc: 0.3632 - val_loss: 2.8097 - val_acc: 0.3523\n",
            "Epoch 15/30\n",
            "1562/1562 [==============================] - 690s 442ms/step - loss: 2.6967 - acc: 0.3630 - val_loss: 2.8062 - val_acc: 0.3526\n",
            "Epoch 16/30\n",
            "1562/1562 [==============================] - 689s 441ms/step - loss: 2.6966 - acc: 0.3635 - val_loss: 2.8120 - val_acc: 0.3513\n",
            "Epoch 17/30\n",
            "1562/1562 [==============================] - 686s 439ms/step - loss: 2.6959 - acc: 0.3639 - val_loss: 2.8117 - val_acc: 0.3506\n",
            "\n",
            "Epoch 00017: saving model to /content/gdrive/My Drive/checkpoint.ckpt\n",
            "Epoch 18/30\n",
            "1562/1562 [==============================] - 688s 440ms/step - loss: 2.6978 - acc: 0.3642 - val_loss: 2.8106 - val_acc: 0.3522\n",
            "Epoch 19/30\n",
            "1562/1562 [==============================] - 687s 440ms/step - loss: 2.6990 - acc: 0.3619 - val_loss: 2.8122 - val_acc: 0.3514\n",
            "Epoch 20/30\n",
            "1562/1562 [==============================] - 693s 443ms/step - loss: 2.6981 - acc: 0.3606 - val_loss: 2.8079 - val_acc: 0.3520\n",
            "Epoch 21/30\n",
            "1562/1562 [==============================] - 692s 443ms/step - loss: 2.7002 - acc: 0.3627 - val_loss: 2.8085 - val_acc: 0.3515\n",
            "Epoch 22/30\n",
            "1562/1562 [==============================] - 695s 445ms/step - loss: 2.6996 - acc: 0.3625 - val_loss: 2.8120 - val_acc: 0.3515\n",
            "\n",
            "Epoch 00022: saving model to /content/gdrive/My Drive/checkpoint.ckpt\n",
            "Epoch 23/30\n",
            "1562/1562 [==============================] - 694s 444ms/step - loss: 2.6954 - acc: 0.3641 - val_loss: 2.8091 - val_acc: 0.3543\n",
            "Epoch 24/30\n",
            "1562/1562 [==============================] - 688s 440ms/step - loss: 2.6950 - acc: 0.3648 - val_loss: 2.8141 - val_acc: 0.3513\n",
            "Epoch 25/30\n",
            "1562/1562 [==============================] - 689s 441ms/step - loss: 2.6930 - acc: 0.3644 - val_loss: 2.8121 - val_acc: 0.3517\n",
            "Epoch 26/30\n",
            "1562/1562 [==============================] - 690s 442ms/step - loss: 2.6930 - acc: 0.3639 - val_loss: 2.8118 - val_acc: 0.3532\n",
            "Epoch 27/30\n",
            "1562/1562 [==============================] - 693s 444ms/step - loss: 2.6950 - acc: 0.3632 - val_loss: 2.8123 - val_acc: 0.3521\n",
            "\n",
            "Epoch 00027: saving model to /content/gdrive/My Drive/checkpoint.ckpt\n",
            "Epoch 28/30\n",
            "1562/1562 [==============================] - 691s 443ms/step - loss: 2.6876 - acc: 0.3637 - val_loss: 2.8130 - val_acc: 0.3523\n",
            "Epoch 29/30\n",
            "1562/1562 [==============================] - 692s 443ms/step - loss: 2.6899 - acc: 0.3629 - val_loss: 2.8031 - val_acc: 0.3524\n",
            "Epoch 30/30\n",
            "1562/1562 [==============================] - 688s 440ms/step - loss: 2.7002 - acc: 0.3629 - val_loss: 2.8141 - val_acc: 0.3519\n"
          ],
          "name": "stdout"
        },
        {
          "output_type": "execute_result",
          "data": {
            "text/plain": [
              "<keras.callbacks.History at 0x7f4510f18f28>"
            ]
          },
          "metadata": {
            "tags": []
          },
          "execution_count": 39
        }
      ]
    },
    {
      "metadata": {
        "id": "1qdr-nJp9NVu",
        "colab_type": "code",
        "outputId": "979b5a62-3dfb-40e2-87d6-312cc1210b7e",
        "colab": {
          "base_uri": "https://localhost:8080/",
          "height": 102
        }
      },
      "cell_type": "code",
      "source": [
        "from tensorflow.keras.models import load_model\n",
        "import tensorflow as tf\n",
        "from tensorflow import keras\n",
        "model = load_model(\"/content/gdrive/My Drive/check.ckpt\")\n",
        "cp_callback = tf.keras.callbacks.ModelCheckpoint(\"/content/gdrive/My Drive/check.ckpt\", \n",
        "                                                 save_weights_only=False,\n",
        "                                                 verbose=1,period=5)\n",
        "from keras import backend as k\n",
        "k.set_value(model.optimizer.lr, 0.0005)\n",
        "k.set_value(model.optimizer.decay, 2e-5)\n",
        "\n",
        "train_datagen = ImageDataGenerator(\n",
        "        rescale=1./255,\n",
        "        shear_range=0.2,\n",
        "        zoom_range=0.2,\n",
        "        horizontal_flip=True)\n",
        "\n",
        "test_datagen = ImageDataGenerator(rescale=1./255)\n",
        "\n",
        "train_generator = train_datagen.flow_from_directory(\n",
        "        r'./tiny-imagenet-200/train/',\n",
        "        target_size=(64, 64),\n",
        "        batch_size=128,\n",
        "        class_mode='categorical')\n",
        "\n",
        "val_generator = valid_datagen.flow_from_dataframe(\n",
        "        val_data, directory='./tiny-imagenet-200/val/images/',\n",
        "        x_col='File', y_col='Class',\n",
        "        target_size=(64, 64),\n",
        "        batch_size=128,\n",
        "        class_mode='categorical')"
      ],
      "execution_count": 0,
      "outputs": [
        {
          "output_type": "stream",
          "text": [
            "WARNING:tensorflow:From /usr/local/lib/python3.6/dist-packages/tensorflow/python/ops/math_ops.py:3066: to_int32 (from tensorflow.python.ops.math_ops) is deprecated and will be removed in a future version.\n",
            "Instructions for updating:\n",
            "Use tf.cast instead.\n",
            "Found 100000 images belonging to 200 classes.\n",
            "Found 10000 images belonging to 200 classes.\n"
          ],
          "name": "stdout"
        }
      ]
    },
    {
      "metadata": {
        "id": "EtvcfAYz9UAo",
        "colab_type": "code",
        "outputId": "22815910-67e1-4590-f191-f3503bb48c7c",
        "colab": {
          "base_uri": "https://localhost:8080/",
          "height": 612
        }
      },
      "cell_type": "code",
      "source": [
        "model.fit_generator(train_generator,steps_per_epoch=100000 // 1024, validation_data=val_generator, validation_steps=10000 // 1024, epochs=10, max_queue_size=64*2,verbose=1, callbacks = [cp_callback])"
      ],
      "execution_count": 0,
      "outputs": [
        {
          "output_type": "stream",
          "text": [
            "Epoch 1/10\n",
            "79/79 [==============================] - 42s 535ms/step - loss: 2.6552 - acc: 0.4054\n",
            "782/782 [==============================] - 396s 506ms/step - loss: 1.8744 - acc: 0.5221 - val_loss: 2.6552 - val_acc: 0.4054\n",
            "Epoch 2/10\n",
            "79/79 [==============================] - 42s 528ms/step - loss: 2.6869 - acc: 0.4099\n",
            "782/782 [==============================] - 366s 468ms/step - loss: 1.5741 - acc: 0.5875 - val_loss: 2.6869 - val_acc: 0.4099\n",
            "Epoch 3/10\n",
            "79/79 [==============================] - 42s 526ms/step - loss: 2.6473 - acc: 0.4165\n",
            "782/782 [==============================] - 366s 468ms/step - loss: 1.5107 - acc: 0.6025 - val_loss: 2.6473 - val_acc: 0.4165\n",
            "Epoch 4/10\n",
            "79/79 [==============================] - 42s 526ms/step - loss: 2.7317 - acc: 0.4080\n",
            "782/782 [==============================] - 366s 468ms/step - loss: 1.4768 - acc: 0.6095 - val_loss: 2.7317 - val_acc: 0.4080\n",
            "Epoch 5/10\n",
            "79/79 [==============================] - 41s 525ms/step - loss: 2.6931 - acc: 0.4095\n",
            "\n",
            "Epoch 00005: saving model to /content/gdrive/My Drive/check.ckpt\n",
            "782/782 [==============================] - 381s 487ms/step - loss: 1.4602 - acc: 0.6129 - val_loss: 2.6931 - val_acc: 0.4095\n",
            "Epoch 6/10\n",
            "79/79 [==============================] - 42s 528ms/step - loss: 2.6963 - acc: 0.4181\n",
            "782/782 [==============================] - 357s 457ms/step - loss: 1.4456 - acc: 0.6168 - val_loss: 2.6963 - val_acc: 0.4181\n",
            "Epoch 7/10\n",
            "79/79 [==============================] - 41s 525ms/step - loss: 2.7263 - acc: 0.4136\n",
            "782/782 [==============================] - 365s 467ms/step - loss: 1.4326 - acc: 0.6191 - val_loss: 2.7263 - val_acc: 0.4136\n",
            "Epoch 8/10\n",
            "79/79 [==============================] - 41s 522ms/step - loss: 2.7467 - acc: 0.4114\n",
            "782/782 [==============================] - 366s 468ms/step - loss: 1.4202 - acc: 0.6227 - val_loss: 2.7467 - val_acc: 0.4114\n",
            "Epoch 9/10\n",
            "79/79 [==============================] - 41s 525ms/step - loss: 2.7040 - acc: 0.4120\n",
            "782/782 [==============================] - 365s 467ms/step - loss: 1.4117 - acc: 0.6259 - val_loss: 2.7040 - val_acc: 0.4120\n",
            "Epoch 10/10\n",
            "79/79 [==============================] - 41s 523ms/step - loss: 2.7675 - acc: 0.4054\n",
            "\n",
            "Epoch 00010: saving model to /content/gdrive/My Drive/check.ckpt\n",
            "782/782 [==============================] - 368s 471ms/step - loss: 1.4055 - acc: 0.6232 - val_loss: 2.7675 - val_acc: 0.4054\n"
          ],
          "name": "stdout"
        },
        {
          "output_type": "execute_result",
          "data": {
            "text/plain": [
              "<tensorflow.python.keras.callbacks.History at 0x7f679f8ef358>"
            ]
          },
          "metadata": {
            "tags": []
          },
          "execution_count": 16
        }
      ]
    },
    {
      "metadata": {
        "id": "aIh9NI1xbgdH",
        "colab_type": "code",
        "outputId": "4fc9b24f-35b9-45cb-b1fe-475dbe2de92c",
        "colab": {
          "base_uri": "https://localhost:8080/",
          "height": 51
        }
      },
      "cell_type": "code",
      "source": [
        "from tensorflow.keras.models import load_model\n",
        "import tensorflow as tf\n",
        "from tensorflow import keras\n",
        "model = load_model(\"/content/gdrive/My Drive/check.ckpt\")\n",
        "cp_callback = tf.keras.callbacks.ModelCheckpoint(\"/content/gdrive/My Drive/check.ckpt\", \n",
        "                                                 save_weights_only=False,\n",
        "                                                 verbose=1,period=5)\n",
        "from keras import backend as k\n",
        "k.set_value(model.optimizer.lr, 0.005)\n",
        "k.set_value(model.optimizer.decay, 0.000025)\n",
        "\n",
        "train_datagen = ImageDataGenerator(\n",
        "        rescale=1./255,\n",
        "        shear_range=0.3,\n",
        "        zoom_range=0.5,\n",
        "        rotation_range=10,\n",
        "        horizontal_flip=True)\n",
        "\n",
        "test_datagen = ImageDataGenerator(rescale=1./255)\n",
        "\n",
        "train_generator = train_datagen.flow_from_directory(\n",
        "        r'./tiny-imagenet-200/train/',\n",
        "        target_size=(64, 64),\n",
        "        batch_size=128,\n",
        "        class_mode='categorical')\n",
        "\n",
        "val_generator = valid_datagen.flow_from_dataframe(\n",
        "        val_data, directory='./tiny-imagenet-200/val/images/',\n",
        "        x_col='File', y_col='Class',\n",
        "        target_size=(64, 64),\n",
        "        batch_size=128,\n",
        "        class_mode='categorical')"
      ],
      "execution_count": 0,
      "outputs": [
        {
          "output_type": "stream",
          "text": [
            "Found 100000 images belonging to 200 classes.\n",
            "Found 10000 images belonging to 200 classes.\n"
          ],
          "name": "stdout"
        }
      ]
    },
    {
      "metadata": {
        "id": "nCtIl9dCbxSH",
        "colab_type": "code",
        "outputId": "f32178a0-ca76-44c7-b3ba-70197bcb220c",
        "colab": {
          "base_uri": "https://localhost:8080/",
          "height": 612
        }
      },
      "cell_type": "code",
      "source": [
        "model.fit_generator(train_generator,steps_per_epoch=100000 // 1024, validation_data=val_generator, validation_steps=10000 // 1024, epochs=10, max_queue_size=64*2,verbose=1, callbacks = [cp_callback])"
      ],
      "execution_count": 0,
      "outputs": [
        {
          "output_type": "stream",
          "text": [
            "Epoch 1/10\n",
            "79/79 [==============================] - 43s 546ms/step - loss: 2.7167 - acc: 0.3910\n",
            "782/782 [==============================] - 395s 505ms/step - loss: 2.4544 - acc: 0.4108 - val_loss: 2.7167 - val_acc: 0.3910\n",
            "Epoch 2/10\n",
            "79/79 [==============================] - 43s 540ms/step - loss: 2.5936 - acc: 0.4122\n",
            "782/782 [==============================] - 374s 479ms/step - loss: 2.1567 - acc: 0.4678 - val_loss: 2.5936 - val_acc: 0.4122\n",
            "Epoch 3/10\n",
            "79/79 [==============================] - 43s 540ms/step - loss: 2.5781 - acc: 0.4149\n",
            "782/782 [==============================] - 375s 479ms/step - loss: 2.0962 - acc: 0.4801 - val_loss: 2.5781 - val_acc: 0.4149\n",
            "Epoch 4/10\n",
            "79/79 [==============================] - 43s 543ms/step - loss: 2.5765 - acc: 0.4101\n",
            "782/782 [==============================] - 376s 480ms/step - loss: 2.0618 - acc: 0.4867 - val_loss: 2.5765 - val_acc: 0.4101\n",
            "Epoch 5/10\n",
            "79/79 [==============================] - 43s 542ms/step - loss: 2.5585 - acc: 0.4214\n",
            "\n",
            "Epoch 00005: saving model to /content/gdrive/My Drive/check.ckpt\n",
            "782/782 [==============================] - 412s 527ms/step - loss: 2.0451 - acc: 0.4915 - val_loss: 2.5585 - val_acc: 0.4214\n",
            "Epoch 6/10\n",
            "79/79 [==============================] - 43s 543ms/step - loss: 2.5392 - acc: 0.4173\n",
            "782/782 [==============================] - 356s 455ms/step - loss: 2.0290 - acc: 0.4941 - val_loss: 2.5392 - val_acc: 0.4173\n",
            "Epoch 7/10\n",
            "79/79 [==============================] - 43s 542ms/step - loss: 2.4919 - acc: 0.4299\n",
            "782/782 [==============================] - 375s 479ms/step - loss: 2.0211 - acc: 0.4973 - val_loss: 2.4919 - val_acc: 0.4299\n",
            "Epoch 8/10\n",
            "79/79 [==============================] - 43s 542ms/step - loss: 2.5006 - acc: 0.4249\n",
            "782/782 [==============================] - 373s 477ms/step - loss: 2.0223 - acc: 0.4952 - val_loss: 2.5006 - val_acc: 0.4249\n",
            "Epoch 9/10\n",
            "79/79 [==============================] - 43s 544ms/step - loss: 2.5199 - acc: 0.4197\n",
            "782/782 [==============================] - 378s 483ms/step - loss: 2.0109 - acc: 0.4976 - val_loss: 2.5199 - val_acc: 0.4197\n",
            "Epoch 10/10\n",
            "79/79 [==============================] - 43s 546ms/step - loss: 2.5426 - acc: 0.4194\n",
            "\n",
            "Epoch 00010: saving model to /content/gdrive/My Drive/check.ckpt\n",
            "782/782 [==============================] - 379s 484ms/step - loss: 1.9976 - acc: 0.5018 - val_loss: 2.5426 - val_acc: 0.4194\n"
          ],
          "name": "stdout"
        },
        {
          "output_type": "execute_result",
          "data": {
            "text/plain": [
              "<tensorflow.python.keras.callbacks.History at 0x7f678ba02048>"
            ]
          },
          "metadata": {
            "tags": []
          },
          "execution_count": 23
        }
      ]
    },
    {
      "metadata": {
        "id": "cwRb5ZYtrNDw",
        "colab_type": "code",
        "outputId": "7c4bd7fd-de98-4df1-f595-adb11469953e",
        "colab": {
          "base_uri": "https://localhost:8080/",
          "height": 51
        }
      },
      "cell_type": "code",
      "source": [
        "from tensorflow.keras.models import load_model\n",
        "import tensorflow as tf\n",
        "from tensorflow import keras\n",
        "model = load_model(\"/content/gdrive/My Drive/check.ckpt\")\n",
        "cp_callback = tf.keras.callbacks.ModelCheckpoint(\"/content/gdrive/My Drive/check.ckpt\", \n",
        "                                                 save_weights_only=False,\n",
        "                                                 verbose=1,period=5)\n",
        "from keras import backend as k\n",
        "k.set_value(model.optimizer.lr, 0.005)\n",
        "k.set_value(model.optimizer.decay, 0.000025)\n",
        "\n",
        "train_datagen = ImageDataGenerator(\n",
        "        rescale=1./255,\n",
        "        shear_range=0.3,\n",
        "        zoom_range=0.5,\n",
        "        rotation_range=10,\n",
        "        horizontal_flip=True)\n",
        "\n",
        "test_datagen = ImageDataGenerator(rescale=1./255)\n",
        "\n",
        "train_generator = train_datagen.flow_from_directory(\n",
        "        r'./tiny-imagenet-200/train/',\n",
        "        target_size=(64, 64),\n",
        "        batch_size=128,\n",
        "        class_mode='categorical')\n",
        "\n",
        "val_generator = valid_datagen.flow_from_dataframe(\n",
        "        val_data, directory='./tiny-imagenet-200/val/images/',\n",
        "        x_col='File', y_col='Class',\n",
        "        target_size=(64, 64),\n",
        "        batch_size=128,\n",
        "        class_mode='categorical')"
      ],
      "execution_count": 0,
      "outputs": [
        {
          "output_type": "stream",
          "text": [
            "Found 100000 images belonging to 200 classes.\n",
            "Found 10000 images belonging to 200 classes.\n"
          ],
          "name": "stdout"
        }
      ]
    },
    {
      "metadata": {
        "id": "nReYRCjDrQoK",
        "colab_type": "code",
        "outputId": "0f18f5e7-3779-45ce-db77-0fcb8ba9a5b5",
        "colab": {
          "base_uri": "https://localhost:8080/",
          "height": 901
        }
      },
      "cell_type": "code",
      "source": [
        "model.fit_generator(train_generator,steps_per_epoch=100000 // 1024, validation_data=val_generator, validation_steps=10000 // 1024, epochs=15, max_queue_size=64*2,verbose=1, callbacks = [cp_callback])"
      ],
      "execution_count": 0,
      "outputs": [
        {
          "output_type": "stream",
          "text": [
            "Epoch 1/15\n",
            "79/79 [==============================] - 43s 546ms/step - loss: 2.5229 - acc: 0.4229\n",
            "782/782 [==============================] - 393s 502ms/step - loss: 2.3293 - acc: 0.4349 - val_loss: 2.5229 - val_acc: 0.4229\n",
            "Epoch 2/15\n",
            "79/79 [==============================] - 43s 542ms/step - loss: 2.4983 - acc: 0.4200\n",
            "782/782 [==============================] - 377s 483ms/step - loss: 2.0884 - acc: 0.4842 - val_loss: 2.4983 - val_acc: 0.4200\n",
            "Epoch 3/15\n",
            "79/79 [==============================] - 43s 542ms/step - loss: 2.5293 - acc: 0.4245\n",
            "782/782 [==============================] - 379s 484ms/step - loss: 2.0326 - acc: 0.4962 - val_loss: 2.5293 - val_acc: 0.4245\n",
            "Epoch 4/15\n",
            "79/79 [==============================] - 43s 543ms/step - loss: 2.4807 - acc: 0.4247\n",
            "782/782 [==============================] - 378s 483ms/step - loss: 2.0231 - acc: 0.4978 - val_loss: 2.4807 - val_acc: 0.4247\n",
            "Epoch 5/15\n",
            "79/79 [==============================] - 43s 546ms/step - loss: 2.5048 - acc: 0.4212\n",
            "\n",
            "Epoch 00005: saving model to /content/gdrive/My Drive/check.ckpt\n",
            "782/782 [==============================] - 422s 540ms/step - loss: 1.9932 - acc: 0.5029 - val_loss: 2.5048 - val_acc: 0.4212\n",
            "Epoch 6/15\n",
            "79/79 [==============================] - 43s 545ms/step - loss: 2.4586 - acc: 0.4356\n",
            "782/782 [==============================] - 359s 459ms/step - loss: 1.9936 - acc: 0.5008 - val_loss: 2.4586 - val_acc: 0.4356\n",
            "Epoch 7/15\n",
            "79/79 [==============================] - 44s 551ms/step - loss: 2.5422 - acc: 0.4184\n",
            "782/782 [==============================] - 378s 483ms/step - loss: 1.9810 - acc: 0.5055 - val_loss: 2.5422 - val_acc: 0.4184\n",
            "Epoch 8/15\n",
            "79/79 [==============================] - 43s 545ms/step - loss: 2.4997 - acc: 0.4238\n",
            "782/782 [==============================] - 378s 483ms/step - loss: 1.9750 - acc: 0.5080 - val_loss: 2.4997 - val_acc: 0.4238\n",
            "Epoch 9/15\n",
            "79/79 [==============================] - 43s 548ms/step - loss: 2.4979 - acc: 0.4241\n",
            "782/782 [==============================] - 377s 482ms/step - loss: 1.9644 - acc: 0.5084 - val_loss: 2.4979 - val_acc: 0.4241\n",
            "Epoch 10/15\n",
            "79/79 [==============================] - 43s 546ms/step - loss: 2.4732 - acc: 0.4279\n",
            "\n",
            "Epoch 00010: saving model to /content/gdrive/My Drive/check.ckpt\n",
            "782/782 [==============================] - 383s 490ms/step - loss: 1.9628 - acc: 0.5097 - val_loss: 2.4732 - val_acc: 0.4279\n",
            "Epoch 11/15\n",
            "79/79 [==============================] - 43s 546ms/step - loss: 2.4956 - acc: 0.4298\n",
            "782/782 [==============================] - 379s 485ms/step - loss: 1.9541 - acc: 0.5116 - val_loss: 2.4956 - val_acc: 0.4298\n",
            "Epoch 12/15\n",
            "79/79 [==============================] - 43s 545ms/step - loss: 2.5010 - acc: 0.4242\n",
            "782/782 [==============================] - 376s 481ms/step - loss: 1.9527 - acc: 0.5113 - val_loss: 2.5010 - val_acc: 0.4242\n",
            "Epoch 13/15\n",
            "79/79 [==============================] - 43s 544ms/step - loss: 2.5021 - acc: 0.4298\n",
            "782/782 [==============================] - 378s 483ms/step - loss: 1.9439 - acc: 0.5128 - val_loss: 2.5021 - val_acc: 0.4298\n",
            "Epoch 14/15\n",
            "79/79 [==============================] - 43s 543ms/step - loss: 2.5245 - acc: 0.4246\n",
            "782/782 [==============================] - 376s 481ms/step - loss: 1.9426 - acc: 0.5129 - val_loss: 2.5245 - val_acc: 0.4246\n",
            "Epoch 15/15\n",
            "79/79 [==============================] - 43s 546ms/step - loss: 2.4989 - acc: 0.4265\n",
            "\n",
            "Epoch 00015: saving model to /content/gdrive/My Drive/check.ckpt\n",
            "782/782 [==============================] - 379s 485ms/step - loss: 1.9346 - acc: 0.5154 - val_loss: 2.4989 - val_acc: 0.4265\n"
          ],
          "name": "stdout"
        },
        {
          "output_type": "execute_result",
          "data": {
            "text/plain": [
              "<tensorflow.python.keras.callbacks.History at 0x7f6784f03208>"
            ]
          },
          "metadata": {
            "tags": []
          },
          "execution_count": 25
        }
      ]
    },
    {
      "metadata": {
        "id": "ovbE6wS7Bd2p",
        "colab_type": "code",
        "outputId": "bc7e059b-126d-4072-b669-0c10e5cae6fc",
        "colab": {
          "base_uri": "https://localhost:8080/",
          "height": 51
        }
      },
      "cell_type": "code",
      "source": [
        "from tensorflow.keras.models import load_model\n",
        "import tensorflow as tf\n",
        "from tensorflow import keras\n",
        "model = load_model(\"/content/gdrive/My Drive/check.ckpt\")\n",
        "cp_callback = tf.keras.callbacks.ModelCheckpoint(\"/content/gdrive/My Drive/check.ckpt\", \n",
        "                                                 save_weights_only=False,\n",
        "                                                 verbose=1,period=5)\n",
        "from keras import backend as k\n",
        "k.set_value(model.optimizer.lr, 0.0005)\n",
        "k.set_value(model.optimizer.decay, 0.000025)\n",
        "\n",
        "train_datagen = ImageDataGenerator(\n",
        "        rescale=1./255,\n",
        "        shear_range=0.3,\n",
        "        zoom_range=0.5,\n",
        "        rotation_range=10,\n",
        "        horizontal_flip=True)\n",
        "\n",
        "test_datagen = ImageDataGenerator(rescale=1./255)\n",
        "\n",
        "train_generator = train_datagen.flow_from_directory(\n",
        "        r'./tiny-imagenet-200/train/',\n",
        "        target_size=(64, 64),\n",
        "        batch_size=128,\n",
        "        class_mode='categorical')\n",
        "\n",
        "val_generator = valid_datagen.flow_from_dataframe(\n",
        "        val_data, directory='./tiny-imagenet-200/val/images/',\n",
        "        x_col='File', y_col='Class',\n",
        "        target_size=(64, 64),\n",
        "        batch_size=128,\n",
        "        class_mode='categorical')"
      ],
      "execution_count": 0,
      "outputs": [
        {
          "output_type": "stream",
          "text": [
            "Found 100000 images belonging to 200 classes.\n",
            "Found 10000 images belonging to 200 classes.\n"
          ],
          "name": "stdout"
        }
      ]
    },
    {
      "metadata": {
        "id": "BHwST4ofBihY",
        "colab_type": "code",
        "outputId": "14556d9f-dd31-4ab9-e1dc-bc4504e6e4fa",
        "colab": {
          "base_uri": "https://localhost:8080/",
          "height": 901
        }
      },
      "cell_type": "code",
      "source": [
        "model.fit_generator(train_generator,steps_per_epoch=100000 // 1024, validation_data=val_generator, validation_steps=10000 // 1024, epochs=15, max_queue_size=64*2,verbose=1, callbacks = [cp_callback])"
      ],
      "execution_count": 0,
      "outputs": [
        {
          "output_type": "stream",
          "text": [
            "Epoch 1/15\n",
            "79/79 [==============================] - 44s 552ms/step - loss: 2.5236 - acc: 0.4181\n",
            "782/782 [==============================] - 392s 501ms/step - loss: 2.2754 - acc: 0.4441 - val_loss: 2.5236 - val_acc: 0.4181\n",
            "Epoch 2/15\n",
            "79/79 [==============================] - 43s 544ms/step - loss: 2.4698 - acc: 0.4309\n",
            "782/782 [==============================] - 379s 484ms/step - loss: 2.0388 - acc: 0.4934 - val_loss: 2.4698 - val_acc: 0.4309\n",
            "Epoch 3/15\n",
            "79/79 [==============================] - 43s 544ms/step - loss: 2.5060 - acc: 0.4243\n",
            "782/782 [==============================] - 378s 483ms/step - loss: 1.9960 - acc: 0.5031 - val_loss: 2.5060 - val_acc: 0.4243\n",
            "Epoch 4/15\n",
            "79/79 [==============================] - 43s 541ms/step - loss: 2.5021 - acc: 0.4218\n",
            "782/782 [==============================] - 379s 484ms/step - loss: 1.9677 - acc: 0.5099 - val_loss: 2.5021 - val_acc: 0.4218\n",
            "Epoch 5/15\n",
            "79/79 [==============================] - 43s 545ms/step - loss: 2.4625 - acc: 0.4338\n",
            "\n",
            "Epoch 00005: saving model to /content/gdrive/My Drive/check.ckpt\n",
            "782/782 [==============================] - 432s 553ms/step - loss: 1.9540 - acc: 0.5136 - val_loss: 2.4625 - val_acc: 0.4338\n",
            "Epoch 6/15\n",
            "79/79 [==============================] - 43s 544ms/step - loss: 2.5103 - acc: 0.4291\n",
            "782/782 [==============================] - 359s 459ms/step - loss: 1.9417 - acc: 0.5146 - val_loss: 2.5103 - val_acc: 0.4291\n",
            "Epoch 7/15\n",
            "79/79 [==============================] - 43s 539ms/step - loss: 2.4813 - acc: 0.4285\n",
            "782/782 [==============================] - 377s 482ms/step - loss: 1.9353 - acc: 0.5165 - val_loss: 2.4813 - val_acc: 0.4285\n",
            "Epoch 8/15\n",
            "79/79 [==============================] - 43s 543ms/step - loss: 2.5011 - acc: 0.4278\n",
            "782/782 [==============================] - 378s 483ms/step - loss: 1.9287 - acc: 0.5155 - val_loss: 2.5011 - val_acc: 0.4278\n",
            "Epoch 9/15\n",
            "79/79 [==============================] - 43s 546ms/step - loss: 2.5123 - acc: 0.4247\n",
            "782/782 [==============================] - 377s 483ms/step - loss: 1.9257 - acc: 0.5189 - val_loss: 2.5123 - val_acc: 0.4247\n",
            "Epoch 10/15\n",
            "79/79 [==============================] - 43s 544ms/step - loss: 2.4748 - acc: 0.4360\n",
            "\n",
            "Epoch 00010: saving model to /content/gdrive/My Drive/check.ckpt\n",
            "782/782 [==============================] - 381s 487ms/step - loss: 1.9197 - acc: 0.5174 - val_loss: 2.4748 - val_acc: 0.4360\n",
            "Epoch 11/15\n",
            "79/79 [==============================] - 43s 544ms/step - loss: 2.4817 - acc: 0.4337\n",
            "782/782 [==============================] - 377s 482ms/step - loss: 1.9132 - acc: 0.5189 - val_loss: 2.4817 - val_acc: 0.4337\n",
            "Epoch 12/15\n",
            "79/79 [==============================] - 43s 541ms/step - loss: 2.4880 - acc: 0.4347\n",
            "782/782 [==============================] - 376s 481ms/step - loss: 1.9125 - acc: 0.5215 - val_loss: 2.4880 - val_acc: 0.4347\n",
            "Epoch 13/15\n",
            "79/79 [==============================] - 43s 550ms/step - loss: 2.5274 - acc: 0.4281\n",
            "782/782 [==============================] - 378s 484ms/step - loss: 1.9119 - acc: 0.5189 - val_loss: 2.5274 - val_acc: 0.4281\n",
            "Epoch 14/15\n",
            "79/79 [==============================] - 43s 545ms/step - loss: 2.5611 - acc: 0.4221\n",
            "782/782 [==============================] - 378s 483ms/step - loss: 1.9060 - acc: 0.5222 - val_loss: 2.5611 - val_acc: 0.4221\n",
            "Epoch 15/15\n",
            "79/79 [==============================] - 43s 543ms/step - loss: 2.5296 - acc: 0.4309\n",
            "\n",
            "Epoch 00015: saving model to /content/gdrive/My Drive/check.ckpt\n",
            "782/782 [==============================] - 380s 487ms/step - loss: 1.9016 - acc: 0.5224 - val_loss: 2.5296 - val_acc: 0.4309\n"
          ],
          "name": "stdout"
        },
        {
          "output_type": "execute_result",
          "data": {
            "text/plain": [
              "<tensorflow.python.keras.callbacks.History at 0x7f677ee0b390>"
            ]
          },
          "metadata": {
            "tags": []
          },
          "execution_count": 27
        }
      ]
    },
    {
      "metadata": {
        "id": "7ppQkGTSWV49",
        "colab_type": "code",
        "outputId": "a87771ba-2b00-4099-dd2f-687afc371147",
        "colab": {
          "base_uri": "https://localhost:8080/",
          "height": 51
        }
      },
      "cell_type": "code",
      "source": [
        "from tensorflow.keras.models import load_model\n",
        "import tensorflow as tf\n",
        "from tensorflow import keras\n",
        "model = load_model(\"/content/gdrive/My Drive/check.ckpt\")\n",
        "cp_callback = tf.keras.callbacks.ModelCheckpoint(\"/content/gdrive/My Drive/check.ckpt\", \n",
        "                                                 save_weights_only=False,\n",
        "                                                 verbose=1,period=3)\n",
        "from keras import backend as k\n",
        "k.set_value(model.optimizer.lr, 0.00005)\n",
        "k.set_value(model.optimizer.decay, 0.000025)\n",
        "\n",
        "train_datagen = ImageDataGenerator(\n",
        "        rescale=1./255,\n",
        "        shear_range=0.3,\n",
        "        zoom_range=0.5,\n",
        "        channel_shift_range=0.5,\n",
        "        rotation_range=10,\n",
        "        horizontal_flip=True)\n",
        "\n",
        "test_datagen = ImageDataGenerator(rescale=1./255)\n",
        "\n",
        "train_generator = train_datagen.flow_from_directory(\n",
        "        r'./tiny-imagenet-200/train/',\n",
        "        target_size=(64, 64),\n",
        "        batch_size=1024,\n",
        "        class_mode='categorical')\n",
        "\n",
        "val_generator = valid_datagen.flow_from_dataframe(\n",
        "        val_data, directory='./tiny-imagenet-200/val/images/',\n",
        "        x_col='File', y_col='Class',\n",
        "        target_size=(64, 64),\n",
        "        batch_size=1024,\n",
        "        class_mode='categorical')"
      ],
      "execution_count": 0,
      "outputs": [
        {
          "output_type": "stream",
          "text": [
            "Found 100000 images belonging to 200 classes.\n",
            "Found 10000 images belonging to 200 classes.\n"
          ],
          "name": "stdout"
        }
      ]
    },
    {
      "metadata": {
        "id": "pLFUBKr6Wibw",
        "colab_type": "code",
        "outputId": "444d958e-f435-405a-a7ca-c242f20ff7f1",
        "colab": {
          "base_uri": "https://localhost:8080/",
          "height": 408
        }
      },
      "cell_type": "code",
      "source": [
        "model.fit_generator(train_generator,steps_per_epoch=100000 // 2048, validation_data=val_generator, validation_steps=10000 // 2048, epochs=6, max_queue_size=64*2,verbose=1, callbacks = [cp_callback])"
      ],
      "execution_count": 0,
      "outputs": [
        {
          "output_type": "stream",
          "text": [
            "Epoch 1/6\n",
            "20/20 [==============================] - 33s 2s/step - loss: 2.4919 - acc: 0.4340\n",
            "196/196 [==============================] - 374s 2s/step - loss: 1.8607 - acc: 0.5350 - val_loss: 2.4919 - val_acc: 0.4340\n",
            "Epoch 2/6\n",
            "20/20 [==============================] - 33s 2s/step - loss: 2.4754 - acc: 0.4359\n",
            "\n",
            "Epoch 00002: saving model to /content/gdrive/My Drive/check.ckpt\n",
            "196/196 [==============================] - 369s 2s/step - loss: 1.8104 - acc: 0.5453 - val_loss: 2.4754 - val_acc: 0.4359\n",
            "Epoch 3/6\n",
            "20/20 [==============================] - 38s 2s/step - loss: 2.4687 - acc: 0.4352\n",
            "196/196 [==============================] - 234s 1s/step - loss: 1.7756 - acc: 0.5529 - val_loss: 2.4687 - val_acc: 0.4352\n",
            "Epoch 4/6\n",
            "20/20 [==============================] - 32s 2s/step - loss: 2.4984 - acc: 0.4332\n",
            "196/196 [==============================] - 269s 1s/step - loss: 1.7624 - acc: 0.5565 - val_loss: 2.4984 - val_acc: 0.4332\n",
            "Epoch 5/6\n",
            "20/20 [==============================] - 33s 2s/step - loss: 2.4637 - acc: 0.4389\n",
            "\n",
            "Epoch 00005: saving model to /content/gdrive/My Drive/check.ckpt\n",
            "196/196 [==============================] - 269s 1s/step - loss: 1.7364 - acc: 0.5605 - val_loss: 2.4637 - val_acc: 0.4389\n",
            "Epoch 6/6\n",
            "20/20 [==============================] - 32s 2s/step - loss: 2.4469 - acc: 0.4450\n",
            "196/196 [==============================] - 264s 1s/step - loss: 1.7293 - acc: 0.5614 - val_loss: 2.4469 - val_acc: 0.4450\n"
          ],
          "name": "stdout"
        },
        {
          "output_type": "execute_result",
          "data": {
            "text/plain": [
              "<tensorflow.python.keras.callbacks.History at 0x7f676b80b7f0>"
            ]
          },
          "metadata": {
            "tags": []
          },
          "execution_count": 33
        }
      ]
    },
    {
      "metadata": {
        "id": "0hUAssspeLLE",
        "colab_type": "code",
        "outputId": "d52c52bd-bcc3-45ab-f2a8-11eded7c472a",
        "colab": {
          "base_uri": "https://localhost:8080/",
          "height": 51
        }
      },
      "cell_type": "code",
      "source": [
        "from tensorflow.keras.models import load_model\n",
        "import tensorflow as tf\n",
        "from tensorflow import keras\n",
        "model = load_model(\"/content/gdrive/My Drive/check.ckpt\")\n",
        "cp_callback = tf.keras.callbacks.ModelCheckpoint(\"/content/gdrive/My Drive/check.ckpt\", \n",
        "                                                 save_weights_only=False,\n",
        "                                                 verbose=1,period=3)\n",
        "from keras import backend as k\n",
        "k.set_value(model.optimizer.lr, 0.000005)\n",
        "k.set_value(model.optimizer.decay, 0.000025)\n",
        "\n",
        "train_datagen = ImageDataGenerator(\n",
        "        rescale=1./255,\n",
        "        shear_range=0.3,\n",
        "        zoom_range=0.5,\n",
        "        channel_shift_range=0.5,\n",
        "        rotation_range=10,\n",
        "        horizontal_flip=True)\n",
        "\n",
        "test_datagen = ImageDataGenerator(rescale=1./255)\n",
        "\n",
        "train_generator = train_datagen.flow_from_directory(\n",
        "        r'./tiny-imagenet-200/train/',\n",
        "        target_size=(64, 64),\n",
        "        batch_size=512,\n",
        "        class_mode='categorical')\n",
        "\n",
        "val_generator = valid_datagen.flow_from_dataframe(\n",
        "        val_data, directory='./tiny-imagenet-200/val/images/',\n",
        "        x_col='File', y_col='Class',\n",
        "        target_size=(64, 64),\n",
        "        batch_size=512,\n",
        "        class_mode='categorical')"
      ],
      "execution_count": 0,
      "outputs": [
        {
          "output_type": "stream",
          "text": [
            "Found 100000 images belonging to 200 classes.\n",
            "Found 10000 images belonging to 200 classes.\n"
          ],
          "name": "stdout"
        }
      ]
    },
    {
      "metadata": {
        "id": "GvCtJJ6FeRFy",
        "colab_type": "code",
        "outputId": "f530b745-c639-47d0-cc4b-33c80180f420",
        "colab": {
          "base_uri": "https://localhost:8080/",
          "height": 1904
        }
      },
      "cell_type": "code",
      "source": [
        "model.fit_generator(train_generator,steps_per_epoch=100000 // 512, validation_data=val_generator, validation_steps=10000 // 512, epochs=30, max_queue_size=512*2,verbose=1, callbacks = [cp_callback])"
      ],
      "execution_count": 0,
      "outputs": [
        {
          "output_type": "stream",
          "text": [
            "Epoch 1/30\n",
            "20/20 [==============================] - 34s 2s/step - loss: 2.5546 - acc: 0.4184\n",
            "196/196 [==============================] - 248s 1s/step - loss: 2.0409 - acc: 0.4957 - val_loss: 2.5546 - val_acc: 0.4184\n",
            "Epoch 2/30\n",
            "20/20 [==============================] - 32s 2s/step - loss: 2.5680 - acc: 0.4253\n",
            "196/196 [==============================] - 266s 1s/step - loss: 1.8525 - acc: 0.5351 - val_loss: 2.5680 - val_acc: 0.4253\n",
            "Epoch 3/30\n",
            "20/20 [==============================] - 32s 2s/step - loss: 2.4832 - acc: 0.4403\n",
            "\n",
            "Epoch 00003: saving model to /content/gdrive/My Drive/check.ckpt\n",
            "196/196 [==============================] - 380s 2s/step - loss: 1.7973 - acc: 0.5480 - val_loss: 2.4832 - val_acc: 0.4403\n",
            "Epoch 4/30\n",
            "20/20 [==============================] - 39s 2s/step - loss: 2.4625 - acc: 0.4388\n",
            "196/196 [==============================] - 232s 1s/step - loss: 1.7679 - acc: 0.5536 - val_loss: 2.4625 - val_acc: 0.4388\n",
            "Epoch 5/30\n",
            "20/20 [==============================] - 32s 2s/step - loss: 2.4923 - acc: 0.4356\n",
            "196/196 [==============================] - 275s 1s/step - loss: 1.7487 - acc: 0.5572 - val_loss: 2.4923 - val_acc: 0.4356\n",
            "Epoch 6/30\n",
            "20/20 [==============================] - 33s 2s/step - loss: 2.5029 - acc: 0.4367\n",
            "\n",
            "Epoch 00006: saving model to /content/gdrive/My Drive/check.ckpt\n",
            "196/196 [==============================] - 270s 1s/step - loss: 1.7268 - acc: 0.5630 - val_loss: 2.5029 - val_acc: 0.4367\n",
            "Epoch 7/30\n",
            "20/20 [==============================] - 32s 2s/step - loss: 2.4662 - acc: 0.4384\n",
            "196/196 [==============================] - 265s 1s/step - loss: 1.7177 - acc: 0.5649 - val_loss: 2.4662 - val_acc: 0.4384\n",
            "Epoch 8/30\n",
            "20/20 [==============================] - 32s 2s/step - loss: 2.4814 - acc: 0.4354\n",
            "196/196 [==============================] - 265s 1s/step - loss: 1.7059 - acc: 0.5677 - val_loss: 2.4814 - val_acc: 0.4354\n",
            "Epoch 9/30\n",
            "20/20 [==============================] - 32s 2s/step - loss: 2.4823 - acc: 0.4384\n",
            "\n",
            "Epoch 00009: saving model to /content/gdrive/My Drive/check.ckpt\n",
            "196/196 [==============================] - 269s 1s/step - loss: 1.6992 - acc: 0.5697 - val_loss: 2.4823 - val_acc: 0.4384\n",
            "Epoch 10/30\n",
            "20/20 [==============================] - 32s 2s/step - loss: 2.4921 - acc: 0.4387\n",
            "196/196 [==============================] - 265s 1s/step - loss: 1.6941 - acc: 0.5707 - val_loss: 2.4921 - val_acc: 0.4387\n",
            "Epoch 11/30\n",
            "20/20 [==============================] - 33s 2s/step - loss: 2.4871 - acc: 0.4375\n",
            "196/196 [==============================] - 265s 1s/step - loss: 1.6858 - acc: 0.5697 - val_loss: 2.4871 - val_acc: 0.4375\n",
            "Epoch 12/30\n",
            "20/20 [==============================] - 32s 2s/step - loss: 2.4577 - acc: 0.4387\n",
            "\n",
            "Epoch 00012: saving model to /content/gdrive/My Drive/check.ckpt\n",
            "196/196 [==============================] - 269s 1s/step - loss: 1.6818 - acc: 0.5724 - val_loss: 2.4577 - val_acc: 0.4387\n",
            "Epoch 13/30\n",
            "20/20 [==============================] - 33s 2s/step - loss: 2.4770 - acc: 0.4358\n",
            "196/196 [==============================] - 265s 1s/step - loss: 1.6782 - acc: 0.5711 - val_loss: 2.4770 - val_acc: 0.4358\n",
            "Epoch 14/30\n",
            "20/20 [==============================] - 32s 2s/step - loss: 2.4696 - acc: 0.4421\n",
            "196/196 [==============================] - 264s 1s/step - loss: 1.6710 - acc: 0.5718 - val_loss: 2.4696 - val_acc: 0.4421\n",
            "Epoch 15/30\n",
            "20/20 [==============================] - 32s 2s/step - loss: 2.4577 - acc: 0.4380\n",
            "\n",
            "Epoch 00015: saving model to /content/gdrive/My Drive/check.ckpt\n",
            "196/196 [==============================] - 269s 1s/step - loss: 1.6709 - acc: 0.5750 - val_loss: 2.4577 - val_acc: 0.4380\n",
            "Epoch 16/30\n",
            "20/20 [==============================] - 32s 2s/step - loss: 2.4660 - acc: 0.4410\n",
            "196/196 [==============================] - 267s 1s/step - loss: 1.6634 - acc: 0.5755 - val_loss: 2.4660 - val_acc: 0.4410\n",
            "Epoch 17/30\n",
            "20/20 [==============================] - 32s 2s/step - loss: 2.4812 - acc: 0.4391\n",
            "196/196 [==============================] - 265s 1s/step - loss: 1.6623 - acc: 0.5764 - val_loss: 2.4812 - val_acc: 0.4391\n",
            "Epoch 18/30\n",
            "20/20 [==============================] - 32s 2s/step - loss: 2.4992 - acc: 0.4405\n",
            "\n",
            "Epoch 00018: saving model to /content/gdrive/My Drive/check.ckpt\n",
            "196/196 [==============================] - 270s 1s/step - loss: 1.6635 - acc: 0.5763 - val_loss: 2.4992 - val_acc: 0.4405\n",
            "Epoch 19/30\n",
            "20/20 [==============================] - 32s 2s/step - loss: 2.5034 - acc: 0.4329\n",
            "196/196 [==============================] - 266s 1s/step - loss: 1.6547 - acc: 0.5771 - val_loss: 2.5034 - val_acc: 0.4329\n",
            "Epoch 20/30\n",
            "20/20 [==============================] - 32s 2s/step - loss: 2.4972 - acc: 0.4389\n",
            "196/196 [==============================] - 265s 1s/step - loss: 1.6489 - acc: 0.5804 - val_loss: 2.4972 - val_acc: 0.4389\n",
            "Epoch 21/30\n",
            "20/20 [==============================] - 32s 2s/step - loss: 2.4772 - acc: 0.4481\n",
            "\n",
            "Epoch 00021: saving model to /content/gdrive/My Drive/check.ckpt\n",
            "196/196 [==============================] - 270s 1s/step - loss: 1.6479 - acc: 0.5788 - val_loss: 2.4772 - val_acc: 0.4481\n",
            "Epoch 22/30\n",
            "20/20 [==============================] - 32s 2s/step - loss: 2.4873 - acc: 0.4416\n",
            "196/196 [==============================] - 265s 1s/step - loss: 1.6489 - acc: 0.5790 - val_loss: 2.4873 - val_acc: 0.4416\n",
            "Epoch 23/30\n",
            "20/20 [==============================] - 32s 2s/step - loss: 2.4717 - acc: 0.4446\n",
            "196/196 [==============================] - 265s 1s/step - loss: 1.6481 - acc: 0.5782 - val_loss: 2.4717 - val_acc: 0.4446\n",
            "Epoch 24/30\n",
            "20/20 [==============================] - 32s 2s/step - loss: 2.4687 - acc: 0.4462\n",
            "\n",
            "Epoch 00024: saving model to /content/gdrive/My Drive/check.ckpt\n",
            "196/196 [==============================] - 270s 1s/step - loss: 1.6465 - acc: 0.5789 - val_loss: 2.4687 - val_acc: 0.4462\n",
            "Epoch 25/30\n",
            "20/20 [==============================] - 33s 2s/step - loss: 2.5176 - acc: 0.4401\n",
            "196/196 [==============================] - 266s 1s/step - loss: 1.6399 - acc: 0.5825 - val_loss: 2.5176 - val_acc: 0.4401\n",
            "Epoch 26/30\n",
            "20/20 [==============================] - 33s 2s/step - loss: 2.4931 - acc: 0.4391\n",
            "196/196 [==============================] - 266s 1s/step - loss: 1.6339 - acc: 0.5831 - val_loss: 2.4931 - val_acc: 0.4391\n",
            "Epoch 27/30\n",
            "20/20 [==============================] - 33s 2s/step - loss: 2.5206 - acc: 0.4337\n",
            "\n",
            "Epoch 00027: saving model to /content/gdrive/My Drive/check.ckpt\n",
            "196/196 [==============================] - 271s 1s/step - loss: 1.6351 - acc: 0.5803 - val_loss: 2.5206 - val_acc: 0.4337\n",
            "Epoch 28/30\n",
            "20/20 [==============================] - 32s 2s/step - loss: 2.5164 - acc: 0.4391\n",
            "196/196 [==============================] - 265s 1s/step - loss: 1.6360 - acc: 0.5824 - val_loss: 2.5164 - val_acc: 0.4391\n",
            "Epoch 29/30\n",
            "20/20 [==============================] - 32s 2s/step - loss: 2.5021 - acc: 0.4426\n",
            "196/196 [==============================] - 266s 1s/step - loss: 1.6282 - acc: 0.5838 - val_loss: 2.5021 - val_acc: 0.4426\n",
            "Epoch 30/30\n",
            "20/20 [==============================] - 32s 2s/step - loss: 2.4962 - acc: 0.4446\n",
            "\n",
            "Epoch 00030: saving model to /content/gdrive/My Drive/check.ckpt\n",
            "196/196 [==============================] - 270s 1s/step - loss: 1.6327 - acc: 0.5828 - val_loss: 2.4962 - val_acc: 0.4446\n"
          ],
          "name": "stdout"
        },
        {
          "output_type": "execute_result",
          "data": {
            "text/plain": [
              "<tensorflow.python.keras.callbacks.History at 0x7f671f9184e0>"
            ]
          },
          "metadata": {
            "tags": []
          },
          "execution_count": 35
        }
      ]
    },
    {
      "metadata": {
        "id": "8HcyQN7nAujq",
        "colab_type": "code",
        "outputId": "f0feb722-8b61-40a9-9286-e4cc77b89faf",
        "colab": {
          "base_uri": "https://localhost:8080/",
          "height": 102
        }
      },
      "cell_type": "code",
      "source": [
        "from tensorflow.keras.models import load_model\n",
        "import tensorflow as tf\n",
        "from tensorflow import keras\n",
        "model = load_model(\"/content/gdrive/My Drive/check.ckpt\")\n",
        "cp_callback = tf.keras.callbacks.ModelCheckpoint(\"/content/gdrive/My Drive/check.ckpt\", \n",
        "                                                 save_weights_only=False,\n",
        "                                                 verbose=1,period=3)\n",
        "from keras import backend as k\n",
        "k.set_value(model.optimizer.lr, 0.0000005)\n",
        "k.set_value(model.optimizer.decay, 0.000025)\n",
        "\n",
        "train_datagen = ImageDataGenerator(\n",
        "        rescale=1./255,\n",
        "        shear_range=0.3,\n",
        "        zoom_range=0.5,\n",
        "        channel_shift_range=0.5,\n",
        "        rotation_range=10,\n",
        "        horizontal_flip=True)\n",
        "\n",
        "test_datagen = ImageDataGenerator(rescale=1./255)\n",
        "\n",
        "train_generator = train_datagen.flow_from_directory(\n",
        "        r'./tiny-imagenet-200/train/',\n",
        "        target_size=(64, 64),\n",
        "        batch_size=512,\n",
        "        class_mode='categorical')\n",
        "\n",
        "val_generator = valid_datagen.flow_from_dataframe(\n",
        "        val_data, directory='./tiny-imagenet-200/val/images/',\n",
        "        x_col='File', y_col='Class',\n",
        "        target_size=(64, 64),\n",
        "        batch_size=512,\n",
        "        class_mode='categorical')"
      ],
      "execution_count": 0,
      "outputs": [
        {
          "output_type": "stream",
          "text": [
            "WARNING:tensorflow:From /usr/local/lib/python3.6/dist-packages/tensorflow/python/ops/math_ops.py:3066: to_int32 (from tensorflow.python.ops.math_ops) is deprecated and will be removed in a future version.\n",
            "Instructions for updating:\n",
            "Use tf.cast instead.\n",
            "Found 100000 images belonging to 200 classes.\n",
            "Found 10000 images belonging to 200 classes.\n"
          ],
          "name": "stdout"
        }
      ]
    },
    {
      "metadata": {
        "id": "VrGo8BTGAy5X",
        "colab_type": "code",
        "outputId": "e997f8b2-6251-481f-dacc-4dc17af4c880",
        "colab": {
          "base_uri": "https://localhost:8080/",
          "height": 1904
        }
      },
      "cell_type": "code",
      "source": [
        "model.fit_generator(train_generator,steps_per_epoch=100000 // 512, validation_data=val_generator, validation_steps=10000 // 512, epochs=30, max_queue_size=512*2,verbose=1, callbacks = [cp_callback])"
      ],
      "execution_count": 0,
      "outputs": [
        {
          "output_type": "stream",
          "text": [
            "Epoch 1/30\n",
            "20/20 [==============================] - 40s 2s/step - loss: 2.5546 - acc: 0.4276\n",
            "196/196 [==============================] - 335s 2s/step - loss: 1.9940 - acc: 0.5023 - val_loss: 2.5546 - val_acc: 0.4276\n",
            "Epoch 2/30\n",
            "20/20 [==============================] - 32s 2s/step - loss: 2.5191 - acc: 0.4300\n",
            "196/196 [==============================] - 258s 1s/step - loss: 1.7829 - acc: 0.5493 - val_loss: 2.5191 - val_acc: 0.4300\n",
            "Epoch 3/30\n",
            "20/20 [==============================] - 32s 2s/step - loss: 2.5248 - acc: 0.4317\n",
            "\n",
            "Epoch 00003: saving model to /content/gdrive/My Drive/check.ckpt\n",
            "196/196 [==============================] - 281s 1s/step - loss: 1.7279 - acc: 0.5630 - val_loss: 2.5248 - val_acc: 0.4317\n",
            "Epoch 4/30\n",
            "20/20 [==============================] - 32s 2s/step - loss: 2.5232 - acc: 0.4322\n",
            "196/196 [==============================] - 254s 1s/step - loss: 1.7082 - acc: 0.5658 - val_loss: 2.5232 - val_acc: 0.4322\n",
            "Epoch 5/30\n",
            "20/20 [==============================] - 32s 2s/step - loss: 2.5317 - acc: 0.4345\n",
            "196/196 [==============================] - 263s 1s/step - loss: 1.6843 - acc: 0.5705 - val_loss: 2.5317 - val_acc: 0.4345\n",
            "Epoch 6/30\n",
            "20/20 [==============================] - 32s 2s/step - loss: 2.5076 - acc: 0.4384\n",
            "\n",
            "Epoch 00006: saving model to /content/gdrive/My Drive/check.ckpt\n",
            "196/196 [==============================] - 266s 1s/step - loss: 1.6722 - acc: 0.5725 - val_loss: 2.5076 - val_acc: 0.4384\n",
            "Epoch 7/30\n",
            "20/20 [==============================] - 32s 2s/step - loss: 2.5035 - acc: 0.4347\n",
            "196/196 [==============================] - 263s 1s/step - loss: 1.6589 - acc: 0.5773 - val_loss: 2.5035 - val_acc: 0.4347\n",
            "Epoch 8/30\n",
            "20/20 [==============================] - 32s 2s/step - loss: 2.5068 - acc: 0.4374\n",
            "196/196 [==============================] - 263s 1s/step - loss: 1.6491 - acc: 0.5789 - val_loss: 2.5068 - val_acc: 0.4374\n",
            "Epoch 9/30\n",
            "20/20 [==============================] - 32s 2s/step - loss: 2.5000 - acc: 0.4414\n",
            "\n",
            "Epoch 00009: saving model to /content/gdrive/My Drive/check.ckpt\n",
            "196/196 [==============================] - 266s 1s/step - loss: 1.6470 - acc: 0.5795 - val_loss: 2.5000 - val_acc: 0.4414\n",
            "Epoch 10/30\n",
            "20/20 [==============================] - 32s 2s/step - loss: 2.4685 - acc: 0.4400\n",
            "196/196 [==============================] - 263s 1s/step - loss: 1.6415 - acc: 0.5801 - val_loss: 2.4685 - val_acc: 0.4400\n",
            "Epoch 11/30\n",
            "20/20 [==============================] - 32s 2s/step - loss: 2.5124 - acc: 0.4365\n",
            "196/196 [==============================] - 263s 1s/step - loss: 1.6365 - acc: 0.5812 - val_loss: 2.5124 - val_acc: 0.4365\n",
            "Epoch 12/30\n",
            "20/20 [==============================] - 32s 2s/step - loss: 2.4856 - acc: 0.4488\n",
            "\n",
            "Epoch 00012: saving model to /content/gdrive/My Drive/check.ckpt\n",
            "196/196 [==============================] - 266s 1s/step - loss: 1.6386 - acc: 0.5804 - val_loss: 2.4856 - val_acc: 0.4488\n",
            "Epoch 13/30\n",
            "20/20 [==============================] - 32s 2s/step - loss: 2.5021 - acc: 0.4380\n",
            "196/196 [==============================] - 264s 1s/step - loss: 1.6258 - acc: 0.5842 - val_loss: 2.5021 - val_acc: 0.4380\n",
            "Epoch 14/30\n",
            "20/20 [==============================] - 32s 2s/step - loss: 2.4856 - acc: 0.4378\n",
            "196/196 [==============================] - 263s 1s/step - loss: 1.6251 - acc: 0.5836 - val_loss: 2.4856 - val_acc: 0.4378\n",
            "Epoch 15/30\n",
            "20/20 [==============================] - 34s 2s/step - loss: 2.4837 - acc: 0.4392\n",
            "\n",
            "Epoch 00015: saving model to /content/gdrive/My Drive/check.ckpt\n",
            "196/196 [==============================] - 267s 1s/step - loss: 1.6216 - acc: 0.5841 - val_loss: 2.4837 - val_acc: 0.4392\n",
            "Epoch 16/30\n",
            "20/20 [==============================] - 32s 2s/step - loss: 2.5150 - acc: 0.4370\n",
            "196/196 [==============================] - 263s 1s/step - loss: 1.6196 - acc: 0.5849 - val_loss: 2.5150 - val_acc: 0.4370\n",
            "Epoch 17/30\n",
            "20/20 [==============================] - 32s 2s/step - loss: 2.5036 - acc: 0.4417\n",
            "196/196 [==============================] - 263s 1s/step - loss: 1.6149 - acc: 0.5873 - val_loss: 2.5036 - val_acc: 0.4417\n",
            "Epoch 18/30\n",
            "20/20 [==============================] - 32s 2s/step - loss: 2.5084 - acc: 0.4370\n",
            "\n",
            "Epoch 00018: saving model to /content/gdrive/My Drive/check.ckpt\n",
            "196/196 [==============================] - 266s 1s/step - loss: 1.6175 - acc: 0.5862 - val_loss: 2.5084 - val_acc: 0.4370\n",
            "Epoch 19/30\n",
            "20/20 [==============================] - 32s 2s/step - loss: 2.4926 - acc: 0.4380\n",
            "196/196 [==============================] - 263s 1s/step - loss: 1.6081 - acc: 0.5880 - val_loss: 2.4926 - val_acc: 0.4380\n",
            "Epoch 20/30\n",
            "20/20 [==============================] - 32s 2s/step - loss: 2.5307 - acc: 0.4350\n",
            "196/196 [==============================] - 262s 1s/step - loss: 1.6128 - acc: 0.5871 - val_loss: 2.5307 - val_acc: 0.4350\n",
            "Epoch 21/30\n",
            "20/20 [==============================] - 32s 2s/step - loss: 2.5336 - acc: 0.4374\n",
            "\n",
            "Epoch 00021: saving model to /content/gdrive/My Drive/check.ckpt\n",
            "196/196 [==============================] - 266s 1s/step - loss: 1.6053 - acc: 0.5881 - val_loss: 2.5336 - val_acc: 0.4374\n",
            "Epoch 22/30\n",
            "20/20 [==============================] - 32s 2s/step - loss: 2.5508 - acc: 0.4358\n",
            "196/196 [==============================] - 262s 1s/step - loss: 1.5995 - acc: 0.5899 - val_loss: 2.5508 - val_acc: 0.4358\n",
            "Epoch 23/30\n",
            "20/20 [==============================] - 32s 2s/step - loss: 2.5258 - acc: 0.4368\n",
            "196/196 [==============================] - 262s 1s/step - loss: 1.5993 - acc: 0.5901 - val_loss: 2.5258 - val_acc: 0.4368\n",
            "Epoch 24/30\n",
            "20/20 [==============================] - 32s 2s/step - loss: 2.4950 - acc: 0.4451\n",
            "\n",
            "Epoch 00024: saving model to /content/gdrive/My Drive/check.ckpt\n",
            "196/196 [==============================] - 267s 1s/step - loss: 1.5996 - acc: 0.5900 - val_loss: 2.4950 - val_acc: 0.4451\n",
            "Epoch 25/30\n",
            "20/20 [==============================] - 32s 2s/step - loss: 2.5087 - acc: 0.4396\n",
            "196/196 [==============================] - 263s 1s/step - loss: 1.5999 - acc: 0.5881 - val_loss: 2.5087 - val_acc: 0.4396\n",
            "Epoch 26/30\n",
            "20/20 [==============================] - 32s 2s/step - loss: 2.5278 - acc: 0.4392\n",
            "196/196 [==============================] - 262s 1s/step - loss: 1.5859 - acc: 0.5917 - val_loss: 2.5278 - val_acc: 0.4392\n",
            "Epoch 27/30\n",
            "20/20 [==============================] - 32s 2s/step - loss: 2.5155 - acc: 0.4343\n",
            "\n",
            "Epoch 00027: saving model to /content/gdrive/My Drive/check.ckpt\n",
            "196/196 [==============================] - 266s 1s/step - loss: 1.5909 - acc: 0.5900 - val_loss: 2.5155 - val_acc: 0.4343\n",
            "Epoch 28/30\n",
            "20/20 [==============================] - 32s 2s/step - loss: 2.5265 - acc: 0.4395\n",
            "196/196 [==============================] - 264s 1s/step - loss: 1.5903 - acc: 0.5904 - val_loss: 2.5265 - val_acc: 0.4395\n",
            "Epoch 29/30\n",
            "20/20 [==============================] - 33s 2s/step - loss: 2.5508 - acc: 0.4335\n",
            "196/196 [==============================] - 263s 1s/step - loss: 1.5880 - acc: 0.5922 - val_loss: 2.5508 - val_acc: 0.4335\n",
            "Epoch 30/30\n",
            "20/20 [==============================] - 32s 2s/step - loss: 2.5086 - acc: 0.4451\n",
            "\n",
            "Epoch 00030: saving model to /content/gdrive/My Drive/check.ckpt\n",
            "196/196 [==============================] - 267s 1s/step - loss: 1.5893 - acc: 0.5913 - val_loss: 2.5086 - val_acc: 0.4451\n"
          ],
          "name": "stdout"
        },
        {
          "output_type": "execute_result",
          "data": {
            "text/plain": [
              "<tensorflow.python.keras.callbacks.History at 0x7f26c36c8080>"
            ]
          },
          "metadata": {
            "tags": []
          },
          "execution_count": 11
        }
      ]
    },
    {
      "metadata": {
        "id": "fSCAWWMbXuWk",
        "colab_type": "code",
        "outputId": "16c43c94-74a7-4ffc-a7ac-16cd5e71aa1a",
        "colab": {
          "base_uri": "https://localhost:8080/",
          "height": 51
        }
      },
      "cell_type": "code",
      "source": [
        "from tensorflow.keras.models import load_model\n",
        "import tensorflow as tf\n",
        "from tensorflow import keras\n",
        "model = load_model(\"/content/gdrive/My Drive/check.ckpt\")\n",
        "cp_callback = tf.keras.callbacks.ModelCheckpoint(\"/content/gdrive/My Drive/check.ckpt\", \n",
        "                                                 save_weights_only=False,\n",
        "                                                 verbose=1,period=5)\n",
        "from keras import backend as k\n",
        "k.set_value(model.optimizer.lr, 0.00000007)\n",
        "k.set_value(model.optimizer.decay, 0.00000025)\n",
        "\n",
        "train_datagen = ImageDataGenerator(\n",
        "        rescale=1./255,\n",
        "        shear_range=0.3,\n",
        "        width_shift_range=0.1,\n",
        "        zoom_range=0.5,\n",
        "        channel_shift_range=0.5,\n",
        "        rotation_range=10,\n",
        "        horizontal_flip=True)\n",
        "\n",
        "test_datagen = ImageDataGenerator(rescale=1./255)\n",
        "\n",
        "train_generator = train_datagen.flow_from_directory(\n",
        "        r'./tiny-imagenet-200/train/',\n",
        "        target_size=(64, 64),\n",
        "        batch_size=512,\n",
        "        class_mode='categorical')\n",
        "\n",
        "val_generator = valid_datagen.flow_from_dataframe(\n",
        "        val_data, directory='./tiny-imagenet-200/val/images/',\n",
        "        x_col='File', y_col='Class',\n",
        "        target_size=(64, 64),\n",
        "        batch_size=512,\n",
        "        class_mode='categorical')"
      ],
      "execution_count": 0,
      "outputs": [
        {
          "output_type": "stream",
          "text": [
            "Found 100000 images belonging to 200 classes.\n",
            "Found 10000 images belonging to 200 classes.\n"
          ],
          "name": "stdout"
        }
      ]
    },
    {
      "metadata": {
        "id": "rDw5rahKY0Oa",
        "colab_type": "code",
        "outputId": "1d6467bb-4d35-4af8-914f-6522235fae33",
        "colab": {
          "base_uri": "https://localhost:8080/",
          "height": 1768
        }
      },
      "cell_type": "code",
      "source": [
        "model.fit_generator(train_generator,steps_per_epoch=100000 // 512, validation_data=val_generator, validation_steps=10000 // 512, epochs=30, max_queue_size=512*2,verbose=1, callbacks = [cp_callback])"
      ],
      "execution_count": 0,
      "outputs": [
        {
          "output_type": "stream",
          "text": [
            "Epoch 1/30\n",
            "20/20 [==============================] - 34s 2s/step - loss: 2.5435 - acc: 0.4257\n",
            "196/196 [==============================] - 284s 1s/step - loss: 2.0719 - acc: 0.4889 - val_loss: 2.5435 - val_acc: 0.4257\n",
            "Epoch 2/30\n",
            "20/20 [==============================] - 33s 2s/step - loss: 2.5000 - acc: 0.4284\n",
            "196/196 [==============================] - 267s 1s/step - loss: 1.8499 - acc: 0.5338 - val_loss: 2.5000 - val_acc: 0.4284\n",
            "Epoch 3/30\n",
            "20/20 [==============================] - 33s 2s/step - loss: 2.4612 - acc: 0.4415\n",
            "196/196 [==============================] - 265s 1s/step - loss: 1.8004 - acc: 0.5450 - val_loss: 2.4612 - val_acc: 0.4415\n",
            "Epoch 4/30\n",
            "20/20 [==============================] - 32s 2s/step - loss: 2.4753 - acc: 0.4407\n",
            "196/196 [==============================] - 261s 1s/step - loss: 1.7769 - acc: 0.5516 - val_loss: 2.4753 - val_acc: 0.4407\n",
            "Epoch 5/30\n",
            "20/20 [==============================] - 32s 2s/step - loss: 2.4473 - acc: 0.4397\n",
            "\n",
            "Epoch 00005: saving model to /content/gdrive/My Drive/check.ckpt\n",
            "196/196 [==============================] - 287s 1s/step - loss: 1.7534 - acc: 0.5542 - val_loss: 2.4473 - val_acc: 0.4397\n",
            "Epoch 6/30\n",
            "20/20 [==============================] - 33s 2s/step - loss: 2.4332 - acc: 0.4427\n",
            "196/196 [==============================] - 246s 1s/step - loss: 1.7327 - acc: 0.5595 - val_loss: 2.4332 - val_acc: 0.4427\n",
            "Epoch 7/30\n",
            "20/20 [==============================] - 33s 2s/step - loss: 2.4450 - acc: 0.4436\n",
            "196/196 [==============================] - 262s 1s/step - loss: 1.7251 - acc: 0.5602 - val_loss: 2.4450 - val_acc: 0.4436\n",
            "Epoch 8/30\n",
            "20/20 [==============================] - 33s 2s/step - loss: 2.4668 - acc: 0.4418\n",
            "196/196 [==============================] - 266s 1s/step - loss: 1.7141 - acc: 0.5638 - val_loss: 2.4668 - val_acc: 0.4418\n",
            "Epoch 9/30\n",
            "20/20 [==============================] - 33s 2s/step - loss: 2.4478 - acc: 0.4481\n",
            "196/196 [==============================] - 268s 1s/step - loss: 1.7071 - acc: 0.5652 - val_loss: 2.4478 - val_acc: 0.4481\n",
            "Epoch 10/30\n",
            "20/20 [==============================] - 33s 2s/step - loss: 2.4632 - acc: 0.4386\n",
            "\n",
            "Epoch 00010: saving model to /content/gdrive/My Drive/check.ckpt\n",
            "196/196 [==============================] - 271s 1s/step - loss: 1.7076 - acc: 0.5666 - val_loss: 2.4632 - val_acc: 0.4386\n",
            "Epoch 11/30\n",
            "20/20 [==============================] - 33s 2s/step - loss: 2.4611 - acc: 0.4422\n",
            "196/196 [==============================] - 267s 1s/step - loss: 1.6991 - acc: 0.5671 - val_loss: 2.4611 - val_acc: 0.4422\n",
            "Epoch 12/30\n",
            "20/20 [==============================] - 33s 2s/step - loss: 2.4342 - acc: 0.4475\n",
            "196/196 [==============================] - 265s 1s/step - loss: 1.6939 - acc: 0.5673 - val_loss: 2.4342 - val_acc: 0.4475\n",
            "Epoch 13/30\n",
            "20/20 [==============================] - 33s 2s/step - loss: 2.4362 - acc: 0.4477\n",
            "196/196 [==============================] - 266s 1s/step - loss: 1.6922 - acc: 0.5682 - val_loss: 2.4362 - val_acc: 0.4477\n",
            "Epoch 14/30\n",
            "20/20 [==============================] - 33s 2s/step - loss: 2.4536 - acc: 0.4445\n",
            "196/196 [==============================] - 267s 1s/step - loss: 1.6848 - acc: 0.5701 - val_loss: 2.4536 - val_acc: 0.4445\n",
            "Epoch 15/30\n",
            "20/20 [==============================] - 33s 2s/step - loss: 2.4532 - acc: 0.4473\n",
            "\n",
            "Epoch 00015: saving model to /content/gdrive/My Drive/check.ckpt\n",
            "196/196 [==============================] - 271s 1s/step - loss: 1.6795 - acc: 0.5713 - val_loss: 2.4532 - val_acc: 0.4473\n",
            "Epoch 16/30\n",
            "20/20 [==============================] - 33s 2s/step - loss: 2.4396 - acc: 0.4457\n",
            "196/196 [==============================] - 267s 1s/step - loss: 1.6813 - acc: 0.5704 - val_loss: 2.4396 - val_acc: 0.4457\n",
            "Epoch 17/30\n",
            "20/20 [==============================] - 33s 2s/step - loss: 2.4429 - acc: 0.4418\n",
            "196/196 [==============================] - 268s 1s/step - loss: 1.6719 - acc: 0.5734 - val_loss: 2.4429 - val_acc: 0.4418\n",
            "Epoch 18/30\n",
            "20/20 [==============================] - 33s 2s/step - loss: 2.4865 - acc: 0.4388\n",
            "196/196 [==============================] - 266s 1s/step - loss: 1.6793 - acc: 0.5706 - val_loss: 2.4865 - val_acc: 0.4388\n",
            "Epoch 19/30\n",
            "20/20 [==============================] - 33s 2s/step - loss: 2.4638 - acc: 0.4428\n",
            "196/196 [==============================] - 263s 1s/step - loss: 1.6694 - acc: 0.5724 - val_loss: 2.4638 - val_acc: 0.4428\n",
            "Epoch 20/30\n",
            "20/20 [==============================] - 33s 2s/step - loss: 2.4700 - acc: 0.4433\n",
            "\n",
            "Epoch 00020: saving model to /content/gdrive/My Drive/check.ckpt\n",
            "196/196 [==============================] - 266s 1s/step - loss: 1.6678 - acc: 0.5730 - val_loss: 2.4700 - val_acc: 0.4433\n",
            "Epoch 21/30\n",
            "20/20 [==============================] - 32s 2s/step - loss: 2.4609 - acc: 0.4429\n",
            "196/196 [==============================] - 261s 1s/step - loss: 1.6616 - acc: 0.5744 - val_loss: 2.4609 - val_acc: 0.4429\n",
            "Epoch 22/30\n",
            "20/20 [==============================] - 33s 2s/step - loss: 2.4472 - acc: 0.4423\n",
            "196/196 [==============================] - 260s 1s/step - loss: 1.6651 - acc: 0.5749 - val_loss: 2.4472 - val_acc: 0.4423\n",
            "Epoch 23/30\n",
            "20/20 [==============================] - 32s 2s/step - loss: 2.4655 - acc: 0.4421\n",
            "196/196 [==============================] - 261s 1s/step - loss: 1.6583 - acc: 0.5758 - val_loss: 2.4655 - val_acc: 0.4421\n",
            "Epoch 24/30\n",
            "20/20 [==============================] - 32s 2s/step - loss: 2.4597 - acc: 0.4481\n",
            "196/196 [==============================] - 260s 1s/step - loss: 1.6556 - acc: 0.5759 - val_loss: 2.4597 - val_acc: 0.4481\n",
            "Epoch 25/30\n",
            "20/20 [==============================] - 32s 2s/step - loss: 2.4692 - acc: 0.4440\n",
            "\n",
            "Epoch 00025: saving model to /content/gdrive/My Drive/check.ckpt\n",
            "196/196 [==============================] - 264s 1s/step - loss: 1.6635 - acc: 0.5747 - val_loss: 2.4692 - val_acc: 0.4440\n",
            "Epoch 26/30\n",
            "20/20 [==============================] - 32s 2s/step - loss: 2.4735 - acc: 0.4457\n",
            "196/196 [==============================] - 261s 1s/step - loss: 1.6672 - acc: 0.5736 - val_loss: 2.4735 - val_acc: 0.4457\n",
            "Epoch 27/30\n",
            "20/20 [==============================] - 32s 2s/step - loss: 2.4599 - acc: 0.4443\n",
            "196/196 [==============================] - 261s 1s/step - loss: 1.6560 - acc: 0.5766 - val_loss: 2.4599 - val_acc: 0.4443\n",
            "Epoch 28/30\n",
            "20/20 [==============================] - 32s 2s/step - loss: 2.4688 - acc: 0.4464\n",
            "196/196 [==============================] - 262s 1s/step - loss: 1.6568 - acc: 0.5752 - val_loss: 2.4688 - val_acc: 0.4464\n",
            "Epoch 29/30\n",
            "20/20 [==============================] - 33s 2s/step - loss: 2.4536 - acc: 0.4444\n",
            "196/196 [==============================] - 263s 1s/step - loss: 1.6468 - acc: 0.5775 - val_loss: 2.4536 - val_acc: 0.4444\n",
            "Epoch 30/30\n",
            "20/20 [==============================] - 33s 2s/step - loss: 2.4709 - acc: 0.4455\n",
            "\n",
            "Epoch 00030: saving model to /content/gdrive/My Drive/check.ckpt\n",
            "196/196 [==============================] - 266s 1s/step - loss: 1.6525 - acc: 0.5760 - val_loss: 2.4709 - val_acc: 0.4455\n"
          ],
          "name": "stdout"
        },
        {
          "output_type": "execute_result",
          "data": {
            "text/plain": [
              "<tensorflow.python.keras.callbacks.History at 0x7efe4681d080>"
            ]
          },
          "metadata": {
            "tags": []
          },
          "execution_count": 16
        }
      ]
    },
    {
      "metadata": {
        "id": "Z1ZJot0PPsf8",
        "colab_type": "code",
        "outputId": "22b0714f-e8cf-46d9-ba7e-71436bf18eb9",
        "colab": {
          "base_uri": "https://localhost:8080/",
          "height": 51
        }
      },
      "cell_type": "code",
      "source": [
        "from tensorflow.keras.models import load_model\n",
        "import tensorflow as tf\n",
        "from tensorflow import keras\n",
        "model = load_model(\"/content/gdrive/My Drive/check.ckpt\")\n",
        "cp_callback = tf.keras.callbacks.ModelCheckpoint(\"/content/gdrive/My Drive/check.ckpt\", \n",
        "                                                 save_weights_only=False,\n",
        "                                                 verbose=1,period=5)\n",
        "from keras import backend as k\n",
        "k.set_value(model.optimizer.lr, 0.00000007)\n",
        "k.set_value(model.optimizer.decay, 0.00000025)\n",
        "\n",
        "train_datagen = ImageDataGenerator(\n",
        "        rescale=1./255,\n",
        "        shear_range=0.3,\n",
        "        height_shift_range=0.1,\n",
        "        width_shift_range=0.1,\n",
        "        zoom_range=0.5,\n",
        "        channel_shift_range=0.5,\n",
        "        rotation_range=10,\n",
        "        horizontal_flip=True)\n",
        "\n",
        "test_datagen = ImageDataGenerator(rescale=1./255)\n",
        "\n",
        "train_generator = train_datagen.flow_from_directory(\n",
        "        r'./tiny-imagenet-200/train/',\n",
        "        target_size=(64, 64),\n",
        "        batch_size=512,\n",
        "        class_mode='categorical')\n",
        "\n",
        "val_generator = valid_datagen.flow_from_dataframe(\n",
        "        val_data, directory='./tiny-imagenet-200/val/images/',\n",
        "        x_col='File', y_col='Class',\n",
        "        target_size=(64, 64),\n",
        "        batch_size=512,\n",
        "        class_mode='categorical')"
      ],
      "execution_count": 0,
      "outputs": [
        {
          "output_type": "stream",
          "text": [
            "Found 100000 images belonging to 200 classes.\n",
            "Found 10000 images belonging to 200 classes.\n"
          ],
          "name": "stdout"
        }
      ]
    },
    {
      "metadata": {
        "id": "VdmcxoxnP2VD",
        "colab_type": "code",
        "outputId": "10816751-17c4-415b-9f12-94ccb688e930",
        "colab": {
          "base_uri": "https://localhost:8080/",
          "height": 323
        }
      },
      "cell_type": "code",
      "source": [
        "model.fit_generator(train_generator,steps_per_epoch=100000 // 512, validation_data=val_generator, validation_steps=10000 // 512, epochs=5, max_queue_size=512*2,verbose=1, callbacks = [cp_callback])"
      ],
      "execution_count": 0,
      "outputs": [
        {
          "output_type": "stream",
          "text": [
            "Epoch 1/5\n",
            "20/20 [==============================] - 35s 2s/step - loss: 2.5325 - acc: 0.4218\n",
            "196/196 [==============================] - 441s 2s/step - loss: 2.1282 - acc: 0.4737 - val_loss: 2.5325 - val_acc: 0.4218\n",
            "Epoch 2/5\n",
            "20/20 [==============================] - 34s 2s/step - loss: 2.4611 - acc: 0.4413\n",
            "196/196 [==============================] - 269s 1s/step - loss: 1.9266 - acc: 0.5178 - val_loss: 2.4611 - val_acc: 0.4413\n",
            "Epoch 3/5\n",
            "20/20 [==============================] - 34s 2s/step - loss: 2.4429 - acc: 0.4417\n",
            "196/196 [==============================] - 271s 1s/step - loss: 1.8770 - acc: 0.5281 - val_loss: 2.4429 - val_acc: 0.4417\n",
            "Epoch 4/5\n",
            "20/20 [==============================] - 34s 2s/step - loss: 2.4283 - acc: 0.4468\n",
            "196/196 [==============================] - 271s 1s/step - loss: 1.8476 - acc: 0.5343 - val_loss: 2.4283 - val_acc: 0.4468\n",
            "Epoch 5/5\n",
            "20/20 [==============================] - 34s 2s/step - loss: 2.4404 - acc: 0.4363\n",
            "\n",
            "Epoch 00005: saving model to /content/gdrive/My Drive/check.ckpt\n",
            "196/196 [==============================] - 312s 2s/step - loss: 1.8335 - acc: 0.5368 - val_loss: 2.4404 - val_acc: 0.4363\n"
          ],
          "name": "stdout"
        },
        {
          "output_type": "execute_result",
          "data": {
            "text/plain": [
              "<tensorflow.python.keras.callbacks.History at 0x7efe3c77ecc0>"
            ]
          },
          "metadata": {
            "tags": []
          },
          "execution_count": 19
        }
      ]
    },
    {
      "metadata": {
        "id": "M8VSZbxpUnj9",
        "colab_type": "code",
        "outputId": "cdcae00f-1e47-494c-b8e3-de6be018ab18",
        "colab": {
          "base_uri": "https://localhost:8080/",
          "height": 51
        }
      },
      "cell_type": "code",
      "source": [
        "from tensorflow.keras.models import load_model\n",
        "import tensorflow as tf\n",
        "from tensorflow import keras\n",
        "model = load_model(\"/content/gdrive/My Drive/check.ckpt\")\n",
        "cp_callback = tf.keras.callbacks.ModelCheckpoint(\"/content/gdrive/My Drive/check.ckpt\", \n",
        "                                                 save_weights_only=False,\n",
        "                                                 verbose=1,period=10)\n",
        "from keras import backend as k\n",
        "k.set_value(model.optimizer.lr, 0.000000007)\n",
        "k.set_value(model.optimizer.decay, 0.00000025)\n",
        "# Using Shearing, Width Shifitng, Channel Shifting, Zoom, Rotation of image and Horizontal Flip for augmentation\n",
        "train_datagen = ImageDataGenerator(\n",
        "        rescale=1./255,\n",
        "        shear_range=0.3,\n",
        "        width_shift_range=0.1,\n",
        "        zoom_range=0.5,\n",
        "        channel_shift_range=0.5,\n",
        "        rotation_range=10,\n",
        "        horizontal_flip=True)\n",
        "\n",
        "test_datagen = ImageDataGenerator(rescale=1./255)\n",
        "\n",
        "train_generator = train_datagen.flow_from_directory(\n",
        "        r'./tiny-imagenet-200/train/',\n",
        "        target_size=(64, 64),\n",
        "        batch_size=512,\n",
        "        class_mode='categorical')\n",
        "\n",
        "val_generator = valid_datagen.flow_from_dataframe(\n",
        "        val_data, directory='./tiny-imagenet-200/val/images/',\n",
        "        x_col='File', y_col='Class',\n",
        "        target_size=(64, 64),\n",
        "        batch_size=512,\n",
        "        class_mode='categorical')"
      ],
      "execution_count": 0,
      "outputs": [
        {
          "output_type": "stream",
          "text": [
            "Found 100000 images belonging to 200 classes.\n",
            "Found 10000 images belonging to 200 classes.\n"
          ],
          "name": "stdout"
        }
      ]
    },
    {
      "metadata": {
        "id": "HPNA4pKDWTvJ",
        "colab_type": "code",
        "outputId": "4604df14-4c14-4eb2-cdc7-e12055b107b7",
        "colab": {
          "base_uri": "https://localhost:8080/",
          "height": 544
        }
      },
      "cell_type": "code",
      "source": [
        "model.fit_generator(train_generator,steps_per_epoch=100000 // 512, validation_data=val_generator, validation_steps=10000 // 512, epochs=30, max_queue_size=512*2,verbose=1, callbacks = [cp_callback])"
      ],
      "execution_count": 0,
      "outputs": [
        {
          "output_type": "stream",
          "text": [
            "Epoch 1/30\n",
            "20/20 [==============================] - 33s 2s/step - loss: 2.4746 - acc: 0.4404\n",
            "196/196 [==============================] - 381s 2s/step - loss: 1.7552 - acc: 0.5571 - val_loss: 2.4746 - val_acc: 0.4404\n",
            "Epoch 2/30\n",
            "20/20 [==============================] - 33s 2s/step - loss: 2.4351 - acc: 0.4431\n",
            "196/196 [==============================] - 271s 1s/step - loss: 1.7275 - acc: 0.5612 - val_loss: 2.4351 - val_acc: 0.4431\n",
            "Epoch 3/30\n",
            "20/20 [==============================] - 33s 2s/step - loss: 2.4281 - acc: 0.4479\n",
            "196/196 [==============================] - 272s 1s/step - loss: 1.7105 - acc: 0.5657 - val_loss: 2.4281 - val_acc: 0.4479\n",
            "Epoch 4/30\n",
            "20/20 [==============================] - 33s 2s/step - loss: 2.4426 - acc: 0.4475\n",
            "196/196 [==============================] - 272s 1s/step - loss: 1.7033 - acc: 0.5672 - val_loss: 2.4426 - val_acc: 0.4475\n",
            "Epoch 5/30\n",
            "20/20 [==============================] - 33s 2s/step - loss: 2.4360 - acc: 0.4481\n",
            "196/196 [==============================] - 272s 1s/step - loss: 1.6935 - acc: 0.5682 - val_loss: 2.4360 - val_acc: 0.4481\n",
            "Epoch 6/30\n",
            "20/20 [==============================] - 33s 2s/step - loss: 2.4315 - acc: 0.4437\n",
            "196/196 [==============================] - 271s 1s/step - loss: 1.6843 - acc: 0.5722 - val_loss: 2.4315 - val_acc: 0.4437\n",
            "Epoch 7/30\n",
            "20/20 [==============================] - 34s 2s/step - loss: 2.4152 - acc: 0.4533\n",
            "196/196 [==============================] - 272s 1s/step - loss: 1.6802 - acc: 0.5720 - val_loss: 2.4152 - val_acc: 0.4533\n",
            "Epoch 8/30\n",
            "20/20 [==============================] - 33s 2s/step - loss: 2.4075 - acc: 0.4479\n",
            "\n",
            "Epoch 00008: saving model to /content/gdrive/My Drive/check.ckpt\n",
            "196/196 [==============================] - 292s 1s/step - loss: 1.6653 - acc: 0.5744 - val_loss: 2.4075 - val_acc: 0.4479\n",
            "Epoch 9/30\n",
            "20/20 [==============================] - 34s 2s/step - loss: 2.4280 - acc: 0.4440\n",
            "196/196 [==============================] - 262s 1s/step - loss: 1.6647 - acc: 0.5749 - val_loss: 2.4280 - val_acc: 0.4440\n",
            "Epoch 10/30\n",
            "131/196 [===================>..........] - ETA: 1:16 - loss: 1.6607 - acc: 0.5753"
          ],
          "name": "stdout"
        }
      ]
    },
    {
      "metadata": {
        "id": "gdU2h41XkDbF",
        "colab_type": "code",
        "outputId": "ccf1973a-8e2b-44d9-ceda-62c600a01f70",
        "colab": {
          "base_uri": "https://localhost:8080/",
          "height": 102
        }
      },
      "cell_type": "code",
      "source": [
        "from tensorflow.keras.models import load_model\n",
        "import tensorflow as tf\n",
        "from tensorflow import keras\n",
        "model = load_model(\"/content/gdrive/My Drive/check.ckpt\")\n",
        "cp_callback = tf.keras.callbacks.ModelCheckpoint(\"/content/gdrive/My Drive/check.ckpt\", \n",
        "                                                 save_weights_only=False,\n",
        "                                                 verbose=1,period=10)\n",
        "from keras import backend as k\n",
        "k.set_value(model.optimizer.lr, 0.000000007)\n",
        "k.set_value(model.optimizer.decay, 0.00000025)\n",
        "# Using Shearing, Width Shifitng, Channel Shifting, Zoom, Rotation of image and Horizontal Flip for augmentation\n",
        "train_datagen = ImageDataGenerator(\n",
        "        rescale=1./255,\n",
        "        shear_range=0.3,\n",
        "        width_shift_range=0.1,\n",
        "        zoom_range=0.5,\n",
        "        channel_shift_range=0.5,\n",
        "        rotation_range=10,\n",
        "        horizontal_flip=True)\n",
        "\n",
        "test_datagen = ImageDataGenerator(rescale=1./255)\n",
        "\n",
        "train_generator = train_datagen.flow_from_directory(\n",
        "        r'./tiny-imagenet-200/train/',\n",
        "        target_size=(64, 64),\n",
        "        batch_size=512,\n",
        "        class_mode='categorical')\n",
        "\n",
        "val_generator = valid_datagen.flow_from_dataframe(\n",
        "        val_data, directory='./tiny-imagenet-200/val/images/',\n",
        "        x_col='File', y_col='Class',\n",
        "        target_size=(64, 64),\n",
        "        batch_size=512,\n",
        "        class_mode='categorical')"
      ],
      "execution_count": 0,
      "outputs": [
        {
          "output_type": "stream",
          "text": [
            "WARNING:tensorflow:From /usr/local/lib/python3.6/dist-packages/tensorflow/python/ops/math_ops.py:3066: to_int32 (from tensorflow.python.ops.math_ops) is deprecated and will be removed in a future version.\n",
            "Instructions for updating:\n",
            "Use tf.cast instead.\n",
            "Found 100000 images belonging to 200 classes.\n",
            "Found 10000 images belonging to 200 classes.\n"
          ],
          "name": "stdout"
        }
      ]
    },
    {
      "metadata": {
        "id": "-CtL4lU5kJDt",
        "colab_type": "code",
        "outputId": "1d133d40-dab1-40ef-e390-d48f9d2ad369",
        "colab": {
          "base_uri": "https://localhost:8080/",
          "height": 1666
        }
      },
      "cell_type": "code",
      "source": [
        "model.fit_generator(train_generator,steps_per_epoch=100000 // 512, validation_data=val_generator, validation_steps=10000 // 512, epochs=30, max_queue_size=512*2,verbose=1, callbacks = [cp_callback])"
      ],
      "execution_count": 0,
      "outputs": [
        {
          "output_type": "stream",
          "text": [
            "Epoch 1/30\n",
            "20/20 [==============================] - 34s 2s/step - loss: 2.5471 - acc: 0.4246\n",
            "196/196 [==============================] - 293s 1s/step - loss: 1.9811 - acc: 0.5046 - val_loss: 2.5471 - val_acc: 0.4246\n",
            "Epoch 2/30\n",
            "20/20 [==============================] - 33s 2s/step - loss: 2.4799 - acc: 0.4326\n",
            "196/196 [==============================] - 272s 1s/step - loss: 1.7772 - acc: 0.5490 - val_loss: 2.4799 - val_acc: 0.4326\n",
            "Epoch 3/30\n",
            "20/20 [==============================] - 33s 2s/step - loss: 2.4828 - acc: 0.4399\n",
            "196/196 [==============================] - 272s 1s/step - loss: 1.7294 - acc: 0.5587 - val_loss: 2.4828 - val_acc: 0.4399\n",
            "Epoch 4/30\n",
            "20/20 [==============================] - 33s 2s/step - loss: 2.4638 - acc: 0.4422\n",
            "196/196 [==============================] - 273s 1s/step - loss: 1.7021 - acc: 0.5667 - val_loss: 2.4638 - val_acc: 0.4422\n",
            "Epoch 5/30\n",
            "20/20 [==============================] - 33s 2s/step - loss: 2.4777 - acc: 0.4375\n",
            "196/196 [==============================] - 273s 1s/step - loss: 1.6794 - acc: 0.5712 - val_loss: 2.4777 - val_acc: 0.4375\n",
            "Epoch 6/30\n",
            "20/20 [==============================] - 33s 2s/step - loss: 2.4742 - acc: 0.4456\n",
            "196/196 [==============================] - 273s 1s/step - loss: 1.6710 - acc: 0.5724 - val_loss: 2.4742 - val_acc: 0.4456\n",
            "Epoch 7/30\n",
            "20/20 [==============================] - 33s 2s/step - loss: 2.4939 - acc: 0.4415\n",
            "196/196 [==============================] - 273s 1s/step - loss: 1.6552 - acc: 0.5754 - val_loss: 2.4939 - val_acc: 0.4415\n",
            "Epoch 8/30\n",
            "20/20 [==============================] - 33s 2s/step - loss: 2.4572 - acc: 0.4497\n",
            "196/196 [==============================] - 273s 1s/step - loss: 1.6531 - acc: 0.5761 - val_loss: 2.4572 - val_acc: 0.4497\n",
            "Epoch 9/30\n",
            "20/20 [==============================] - 33s 2s/step - loss: 2.4258 - acc: 0.4547\n",
            "196/196 [==============================] - 272s 1s/step - loss: 1.6463 - acc: 0.5790 - val_loss: 2.4258 - val_acc: 0.4547\n",
            "Epoch 10/30\n",
            "20/20 [==============================] - 33s 2s/step - loss: 2.4338 - acc: 0.4518\n",
            "\n",
            "Epoch 00010: saving model to /content/gdrive/My Drive/check.ckpt\n",
            "196/196 [==============================] - 285s 1s/step - loss: 1.6468 - acc: 0.5776 - val_loss: 2.4338 - val_acc: 0.4518\n",
            "Epoch 11/30\n",
            "20/20 [==============================] - 33s 2s/step - loss: 2.4734 - acc: 0.4470\n",
            "196/196 [==============================] - 264s 1s/step - loss: 1.6381 - acc: 0.5792 - val_loss: 2.4734 - val_acc: 0.4470\n",
            "Epoch 12/30\n",
            "20/20 [==============================] - 33s 2s/step - loss: 2.4334 - acc: 0.4496\n",
            "196/196 [==============================] - 272s 1s/step - loss: 1.6351 - acc: 0.5831 - val_loss: 2.4334 - val_acc: 0.4496\n",
            "Epoch 13/30\n",
            "20/20 [==============================] - 33s 2s/step - loss: 2.4731 - acc: 0.4365\n",
            "196/196 [==============================] - 271s 1s/step - loss: 1.6305 - acc: 0.5813 - val_loss: 2.4731 - val_acc: 0.4365\n",
            "Epoch 14/30\n",
            "20/20 [==============================] - 33s 2s/step - loss: 2.4567 - acc: 0.4469\n",
            "196/196 [==============================] - 269s 1s/step - loss: 1.6332 - acc: 0.5799 - val_loss: 2.4567 - val_acc: 0.4469\n",
            "Epoch 15/30\n",
            "20/20 [==============================] - 33s 2s/step - loss: 2.4555 - acc: 0.4488\n",
            "196/196 [==============================] - 270s 1s/step - loss: 1.6232 - acc: 0.5845 - val_loss: 2.4555 - val_acc: 0.4488\n",
            "Epoch 16/30\n",
            "20/20 [==============================] - 33s 2s/step - loss: 2.4584 - acc: 0.4456\n",
            "196/196 [==============================] - 271s 1s/step - loss: 1.6212 - acc: 0.5852 - val_loss: 2.4584 - val_acc: 0.4456\n",
            "Epoch 17/30\n",
            "20/20 [==============================] - 33s 2s/step - loss: 2.4555 - acc: 0.4461\n",
            "196/196 [==============================] - 270s 1s/step - loss: 1.6175 - acc: 0.5847 - val_loss: 2.4555 - val_acc: 0.4461\n",
            "Epoch 18/30\n",
            "20/20 [==============================] - 33s 2s/step - loss: 2.4570 - acc: 0.4496\n",
            "196/196 [==============================] - 273s 1s/step - loss: 1.6159 - acc: 0.5844 - val_loss: 2.4570 - val_acc: 0.4496\n",
            "Epoch 19/30\n",
            "20/20 [==============================] - 33s 2s/step - loss: 2.4537 - acc: 0.4453\n",
            "196/196 [==============================] - 274s 1s/step - loss: 1.6128 - acc: 0.5870 - val_loss: 2.4537 - val_acc: 0.4453\n",
            "Epoch 20/30\n",
            "20/20 [==============================] - 33s 2s/step - loss: 2.4635 - acc: 0.4495\n",
            "\n",
            "Epoch 00020: saving model to /content/gdrive/My Drive/check.ckpt\n",
            "196/196 [==============================] - 276s 1s/step - loss: 1.6136 - acc: 0.5858 - val_loss: 2.4635 - val_acc: 0.4495\n",
            "Epoch 21/30\n",
            "20/20 [==============================] - 33s 2s/step - loss: 2.4615 - acc: 0.4445\n",
            "196/196 [==============================] - 275s 1s/step - loss: 1.6171 - acc: 0.5836 - val_loss: 2.4615 - val_acc: 0.4445\n",
            "Epoch 22/30\n",
            "20/20 [==============================] - 34s 2s/step - loss: 2.4590 - acc: 0.4469\n",
            "196/196 [==============================] - 275s 1s/step - loss: 1.6170 - acc: 0.5852 - val_loss: 2.4590 - val_acc: 0.4469\n",
            "Epoch 23/30\n",
            "20/20 [==============================] - 33s 2s/step - loss: 2.4630 - acc: 0.4503\n",
            "196/196 [==============================] - 273s 1s/step - loss: 1.6081 - acc: 0.5874 - val_loss: 2.4630 - val_acc: 0.4503\n",
            "Epoch 24/30\n",
            "20/20 [==============================] - 34s 2s/step - loss: 2.4589 - acc: 0.4444\n",
            "196/196 [==============================] - 274s 1s/step - loss: 1.6050 - acc: 0.5867 - val_loss: 2.4589 - val_acc: 0.4444\n",
            "Epoch 25/30\n",
            "20/20 [==============================] - 33s 2s/step - loss: 2.4490 - acc: 0.4471\n",
            "196/196 [==============================] - 273s 1s/step - loss: 1.6067 - acc: 0.5855 - val_loss: 2.4490 - val_acc: 0.4471\n",
            "Epoch 26/30\n",
            "20/20 [==============================] - 34s 2s/step - loss: 2.5023 - acc: 0.4410\n",
            "196/196 [==============================] - 273s 1s/step - loss: 1.6041 - acc: 0.5870 - val_loss: 2.5023 - val_acc: 0.4410\n",
            "Epoch 27/30\n",
            "20/20 [==============================] - 33s 2s/step - loss: 2.4400 - acc: 0.4479\n",
            "196/196 [==============================] - 274s 1s/step - loss: 1.6162 - acc: 0.5834 - val_loss: 2.4400 - val_acc: 0.4479\n",
            "Epoch 28/30\n",
            "20/20 [==============================] - 33s 2s/step - loss: 2.4779 - acc: 0.4435\n",
            "196/196 [==============================] - 274s 1s/step - loss: 1.6060 - acc: 0.5856 - val_loss: 2.4779 - val_acc: 0.4435\n",
            "Epoch 29/30\n",
            "20/20 [==============================] - 34s 2s/step - loss: 2.4543 - acc: 0.4485\n",
            "196/196 [==============================] - 273s 1s/step - loss: 1.6034 - acc: 0.5871 - val_loss: 2.4543 - val_acc: 0.4485\n",
            "Epoch 30/30\n",
            "20/20 [==============================] - 34s 2s/step - loss: 2.4600 - acc: 0.4459\n",
            "\n",
            "Epoch 00030: saving model to /content/gdrive/My Drive/check.ckpt\n",
            "196/196 [==============================] - 275s 1s/step - loss: 1.6047 - acc: 0.5879 - val_loss: 2.4600 - val_acc: 0.4459\n"
          ],
          "name": "stdout"
        },
        {
          "output_type": "execute_result",
          "data": {
            "text/plain": [
              "<tensorflow.python.keras.callbacks.History at 0x7fe0aedfe2b0>"
            ]
          },
          "metadata": {
            "tags": []
          },
          "execution_count": 12
        }
      ]
    },
    {
      "metadata": {
        "id": "TeEXjXZZFJvB",
        "colab_type": "code",
        "outputId": "c2baa33c-aead-4ba9-d532-d56349ce6f83",
        "colab": {
          "base_uri": "https://localhost:8080/",
          "height": 51
        }
      },
      "cell_type": "code",
      "source": [
        "from tensorflow.keras.models import load_model\n",
        "import tensorflow as tf\n",
        "from tensorflow import keras\n",
        "model = load_model(\"/content/gdrive/My Drive/check.ckpt\")\n",
        "cp_callback = tf.keras.callbacks.ModelCheckpoint(\"/content/gdrive/My Drive/check.ckpt\", \n",
        "                                                 save_weights_only=False,\n",
        "                                                 verbose=1,period=10)\n",
        "from keras import backend as k\n",
        "k.set_value(model.optimizer.lr, 0.0000000007)\n",
        "k.set_value(model.optimizer.decay, 0.000000025)\n",
        "# Using Shearing, Width Shifitng, Channel Shifting, Zoom, Rotation of image and Horizontal Flip for augmentation\n",
        "train_datagen = ImageDataGenerator(\n",
        "        rescale=1./255,\n",
        "        shear_range=0.3,\n",
        "        width_shift_range=0.1,\n",
        "        zoom_range=0.5,\n",
        "        channel_shift_range=0.5,\n",
        "        rotation_range=10,\n",
        "        horizontal_flip=True)\n",
        "\n",
        "test_datagen = ImageDataGenerator(rescale=1./255)\n",
        "\n",
        "train_generator = train_datagen.flow_from_directory(\n",
        "        r'./tiny-imagenet-200/train/',\n",
        "        target_size=(64, 64),\n",
        "        batch_size=512,\n",
        "        class_mode='categorical')\n",
        "\n",
        "val_generator = valid_datagen.flow_from_dataframe(\n",
        "        val_data, directory='./tiny-imagenet-200/val/images/',\n",
        "        x_col='File', y_col='Class',\n",
        "        target_size=(64, 64),\n",
        "        batch_size=512,\n",
        "        class_mode='categorical')"
      ],
      "execution_count": 0,
      "outputs": [
        {
          "output_type": "stream",
          "text": [
            "Found 100000 images belonging to 200 classes.\n",
            "Found 10000 images belonging to 200 classes.\n"
          ],
          "name": "stdout"
        }
      ]
    },
    {
      "metadata": {
        "id": "V_sIObt4FN3a",
        "colab_type": "code",
        "outputId": "92d87c19-c393-4bbe-f73e-7f77a5ba3ee8",
        "colab": {
          "base_uri": "https://localhost:8080/",
          "height": 748
        }
      },
      "cell_type": "code",
      "source": [
        "model.fit_generator(train_generator,steps_per_epoch=100000 // 512, validation_data=val_generator, validation_steps=10000 // 512, epochs=30, max_queue_size=512*2,verbose=1, callbacks = [cp_callback])"
      ],
      "execution_count": 0,
      "outputs": [
        {
          "output_type": "stream",
          "text": [
            "Epoch 1/30\n",
            "20/20 [==============================] - 34s 2s/step - loss: 2.5748 - acc: 0.4240\n",
            "196/196 [==============================] - 288s 1s/step - loss: 1.9623 - acc: 0.5096 - val_loss: 2.5748 - val_acc: 0.4240\n",
            "Epoch 2/30\n",
            "20/20 [==============================] - 34s 2s/step - loss: 2.5409 - acc: 0.4266\n",
            "196/196 [==============================] - 274s 1s/step - loss: 1.7552 - acc: 0.5522 - val_loss: 2.5409 - val_acc: 0.4266\n",
            "Epoch 3/30\n",
            "20/20 [==============================] - 34s 2s/step - loss: 2.4766 - acc: 0.4332\n",
            "196/196 [==============================] - 274s 1s/step - loss: 1.7112 - acc: 0.5636 - val_loss: 2.4766 - val_acc: 0.4332\n",
            "Epoch 4/30\n",
            "20/20 [==============================] - 33s 2s/step - loss: 2.4682 - acc: 0.4387\n",
            "196/196 [==============================] - 272s 1s/step - loss: 1.6831 - acc: 0.5707 - val_loss: 2.4682 - val_acc: 0.4387\n",
            "Epoch 5/30\n",
            "20/20 [==============================] - 33s 2s/step - loss: 2.4690 - acc: 0.4420\n",
            "196/196 [==============================] - 269s 1s/step - loss: 1.6688 - acc: 0.5718 - val_loss: 2.4690 - val_acc: 0.4420\n",
            "Epoch 6/30\n",
            "20/20 [==============================] - 33s 2s/step - loss: 2.4352 - acc: 0.4487\n",
            "196/196 [==============================] - 269s 1s/step - loss: 1.6424 - acc: 0.5791 - val_loss: 2.4352 - val_acc: 0.4487\n",
            "Epoch 7/30\n",
            "20/20 [==============================] - 33s 2s/step - loss: 2.4432 - acc: 0.4532\n",
            "196/196 [==============================] - 270s 1s/step - loss: 1.6380 - acc: 0.5809 - val_loss: 2.4432 - val_acc: 0.4532\n",
            "Epoch 8/30\n",
            "20/20 [==============================] - 33s 2s/step - loss: 2.4854 - acc: 0.4445\n",
            "196/196 [==============================] - 273s 1s/step - loss: 1.6272 - acc: 0.5831 - val_loss: 2.4854 - val_acc: 0.4445\n",
            "Epoch 9/30\n",
            "20/20 [==============================] - 33s 2s/step - loss: 2.4671 - acc: 0.4513\n",
            "196/196 [==============================] - 276s 1s/step - loss: 1.6185 - acc: 0.5847 - val_loss: 2.4671 - val_acc: 0.4513\n",
            "Epoch 10/30\n",
            "20/20 [==============================] - 33s 2s/step - loss: 2.4375 - acc: 0.4497\n",
            "\n",
            "Epoch 00010: saving model to /content/gdrive/My Drive/check.ckpt\n",
            "196/196 [==============================] - 300s 2s/step - loss: 1.6260 - acc: 0.5827 - val_loss: 2.4375 - val_acc: 0.4497\n",
            "Epoch 11/30\n",
            "20/20 [==============================] - 33s 2s/step - loss: 2.4715 - acc: 0.4435\n",
            "196/196 [==============================] - 258s 1s/step - loss: 1.6113 - acc: 0.5860 - val_loss: 2.4715 - val_acc: 0.4435\n",
            "Epoch 12/30\n",
            "20/20 [==============================] - 33s 2s/step - loss: 2.4791 - acc: 0.4445\n",
            "196/196 [==============================] - 273s 1s/step - loss: 1.6111 - acc: 0.5846 - val_loss: 2.4791 - val_acc: 0.4445\n",
            "Epoch 13/30\n",
            "20/20 [==============================] - 33s 2s/step - loss: 2.4814 - acc: 0.4421\n",
            "196/196 [==============================] - 271s 1s/step - loss: 1.6043 - acc: 0.5884 - val_loss: 2.4814 - val_acc: 0.4421\n",
            "Epoch 14/30\n",
            " 29/196 [===>..........................] - ETA: 2:06 - loss: 1.5746 - acc: 0.5981"
          ],
          "name": "stdout"
        }
      ]
    },
    {
      "metadata": {
        "id": "_HBEgoSvIb6c",
        "colab_type": "code",
        "outputId": "a9d08674-3142-47c4-b88a-0996b20975e6",
        "colab": {
          "base_uri": "https://localhost:8080/",
          "height": 690
        }
      },
      "cell_type": "code",
      "source": [
        "from tensorflow.keras.models import load_model\n",
        "import tensorflow as tf\n",
        "from tensorflow import keras\n",
        "model = load_model(\"/content/gdrive/My Drive/check.ckpt\")\n",
        "cp_callback = tf.keras.callbacks.ModelCheckpoint(\"/content/gdrive/My Drive/check.ckpt\", \n",
        "                                                 save_weights_only=False,\n",
        "                                                 verbose=1,period=10)\n",
        "from keras import backend as k\n",
        "k.set_value(model.optimizer.lr, 0.0000000007)\n",
        "k.set_value(model.optimizer.decay, 0.000000025)\n",
        "# Using Shearing, Width Shifitng, Channel Shifting, Zoom, Rotation of image and Horizontal Flip for augmentation\n",
        "train_datagen = ImageDataGenerator(\n",
        "        rescale=1./255,\n",
        "        shear_range=0.4,\n",
        "        width_shift_range=0.1,\n",
        "        zoom_range=0.5,\n",
        "        channel_shift_range=0.5,\n",
        "        rotation_range=10,\n",
        "        horizontal_flip=True)\n",
        "\n",
        "test_datagen = ImageDataGenerator(rescale=1./255)\n",
        "\n",
        "train_generator = train_datagen.flow_from_directory(\n",
        "        r'./tiny-imagenet-200/train/',\n",
        "        target_size=(64, 64),\n",
        "        batch_size=512,\n",
        "        class_mode='categorical')\n",
        "\n",
        "val_generator = valid_datagen.flow_from_dataframe(\n",
        "        val_data, directory='./tiny-imagenet-200/val/images/',\n",
        "        x_col='File', y_col='Class',\n",
        "        target_size=(64, 64),\n",
        "        batch_size=512,\n",
        "        class_mode='categorical')"
      ],
      "execution_count": 0,
      "outputs": [
        {
          "output_type": "error",
          "ename": "OSError",
          "evalue": "ignored",
          "traceback": [
            "\u001b[0;31m---------------------------------------------------------------------------\u001b[0m",
            "\u001b[0;31mOSError\u001b[0m                                   Traceback (most recent call last)",
            "\u001b[0;32m<ipython-input-1-6dd7002df7fc>\u001b[0m in \u001b[0;36m<module>\u001b[0;34m()\u001b[0m\n\u001b[1;32m      2\u001b[0m \u001b[0;32mimport\u001b[0m \u001b[0mtensorflow\u001b[0m \u001b[0;32mas\u001b[0m \u001b[0mtf\u001b[0m\u001b[0;34m\u001b[0m\u001b[0;34m\u001b[0m\u001b[0m\n\u001b[1;32m      3\u001b[0m \u001b[0;32mfrom\u001b[0m \u001b[0mtensorflow\u001b[0m \u001b[0;32mimport\u001b[0m \u001b[0mkeras\u001b[0m\u001b[0;34m\u001b[0m\u001b[0;34m\u001b[0m\u001b[0m\n\u001b[0;32m----> 4\u001b[0;31m \u001b[0mmodel\u001b[0m \u001b[0;34m=\u001b[0m \u001b[0mload_model\u001b[0m\u001b[0;34m(\u001b[0m\u001b[0;34m\"/content/gdrive/My Drive/check.ckpt\"\u001b[0m\u001b[0;34m)\u001b[0m\u001b[0;34m\u001b[0m\u001b[0;34m\u001b[0m\u001b[0m\n\u001b[0m\u001b[1;32m      5\u001b[0m cp_callback = tf.keras.callbacks.ModelCheckpoint(\"/content/gdrive/My Drive/check.ckpt\", \n\u001b[1;32m      6\u001b[0m                                                  \u001b[0msave_weights_only\u001b[0m\u001b[0;34m=\u001b[0m\u001b[0;32mFalse\u001b[0m\u001b[0;34m,\u001b[0m\u001b[0;34m\u001b[0m\u001b[0;34m\u001b[0m\u001b[0m\n",
            "\u001b[0;32m/usr/local/lib/python3.6/dist-packages/tensorflow/python/keras/engine/saving.py\u001b[0m in \u001b[0;36mload_model\u001b[0;34m(filepath, custom_objects, compile)\u001b[0m\n\u001b[1;32m    221\u001b[0m   \u001b[0mopened_new_file\u001b[0m \u001b[0;34m=\u001b[0m \u001b[0;32mnot\u001b[0m \u001b[0misinstance\u001b[0m\u001b[0;34m(\u001b[0m\u001b[0mfilepath\u001b[0m\u001b[0;34m,\u001b[0m \u001b[0mh5py\u001b[0m\u001b[0;34m.\u001b[0m\u001b[0mFile\u001b[0m\u001b[0;34m)\u001b[0m\u001b[0;34m\u001b[0m\u001b[0;34m\u001b[0m\u001b[0m\n\u001b[1;32m    222\u001b[0m   \u001b[0;32mif\u001b[0m \u001b[0mopened_new_file\u001b[0m\u001b[0;34m:\u001b[0m\u001b[0;34m\u001b[0m\u001b[0;34m\u001b[0m\u001b[0m\n\u001b[0;32m--> 223\u001b[0;31m     \u001b[0mf\u001b[0m \u001b[0;34m=\u001b[0m \u001b[0mh5py\u001b[0m\u001b[0;34m.\u001b[0m\u001b[0mFile\u001b[0m\u001b[0;34m(\u001b[0m\u001b[0mfilepath\u001b[0m\u001b[0;34m,\u001b[0m \u001b[0mmode\u001b[0m\u001b[0;34m=\u001b[0m\u001b[0;34m'r'\u001b[0m\u001b[0;34m)\u001b[0m\u001b[0;34m\u001b[0m\u001b[0;34m\u001b[0m\u001b[0m\n\u001b[0m\u001b[1;32m    224\u001b[0m   \u001b[0;32melse\u001b[0m\u001b[0;34m:\u001b[0m\u001b[0;34m\u001b[0m\u001b[0;34m\u001b[0m\u001b[0m\n\u001b[1;32m    225\u001b[0m     \u001b[0mf\u001b[0m \u001b[0;34m=\u001b[0m \u001b[0mfilepath\u001b[0m\u001b[0;34m\u001b[0m\u001b[0;34m\u001b[0m\u001b[0m\n",
            "\u001b[0;32m/usr/local/lib/python3.6/dist-packages/h5py/_hl/files.py\u001b[0m in \u001b[0;36m__init__\u001b[0;34m(self, name, mode, driver, libver, userblock_size, swmr, **kwds)\u001b[0m\n\u001b[1;32m    310\u001b[0m             \u001b[0;32mwith\u001b[0m \u001b[0mphil\u001b[0m\u001b[0;34m:\u001b[0m\u001b[0;34m\u001b[0m\u001b[0;34m\u001b[0m\u001b[0m\n\u001b[1;32m    311\u001b[0m                 \u001b[0mfapl\u001b[0m \u001b[0;34m=\u001b[0m \u001b[0mmake_fapl\u001b[0m\u001b[0;34m(\u001b[0m\u001b[0mdriver\u001b[0m\u001b[0;34m,\u001b[0m \u001b[0mlibver\u001b[0m\u001b[0;34m,\u001b[0m \u001b[0;34m**\u001b[0m\u001b[0mkwds\u001b[0m\u001b[0;34m)\u001b[0m\u001b[0;34m\u001b[0m\u001b[0;34m\u001b[0m\u001b[0m\n\u001b[0;32m--> 312\u001b[0;31m                 \u001b[0mfid\u001b[0m \u001b[0;34m=\u001b[0m \u001b[0mmake_fid\u001b[0m\u001b[0;34m(\u001b[0m\u001b[0mname\u001b[0m\u001b[0;34m,\u001b[0m \u001b[0mmode\u001b[0m\u001b[0;34m,\u001b[0m \u001b[0muserblock_size\u001b[0m\u001b[0;34m,\u001b[0m \u001b[0mfapl\u001b[0m\u001b[0;34m,\u001b[0m \u001b[0mswmr\u001b[0m\u001b[0;34m=\u001b[0m\u001b[0mswmr\u001b[0m\u001b[0;34m)\u001b[0m\u001b[0;34m\u001b[0m\u001b[0;34m\u001b[0m\u001b[0m\n\u001b[0m\u001b[1;32m    313\u001b[0m \u001b[0;34m\u001b[0m\u001b[0m\n\u001b[1;32m    314\u001b[0m                 \u001b[0;32mif\u001b[0m \u001b[0mswmr_support\u001b[0m\u001b[0;34m:\u001b[0m\u001b[0;34m\u001b[0m\u001b[0;34m\u001b[0m\u001b[0m\n",
            "\u001b[0;32m/usr/local/lib/python3.6/dist-packages/h5py/_hl/files.py\u001b[0m in \u001b[0;36mmake_fid\u001b[0;34m(name, mode, userblock_size, fapl, fcpl, swmr)\u001b[0m\n\u001b[1;32m    140\u001b[0m         \u001b[0;32mif\u001b[0m \u001b[0mswmr\u001b[0m \u001b[0;32mand\u001b[0m \u001b[0mswmr_support\u001b[0m\u001b[0;34m:\u001b[0m\u001b[0;34m\u001b[0m\u001b[0;34m\u001b[0m\u001b[0m\n\u001b[1;32m    141\u001b[0m             \u001b[0mflags\u001b[0m \u001b[0;34m|=\u001b[0m \u001b[0mh5f\u001b[0m\u001b[0;34m.\u001b[0m\u001b[0mACC_SWMR_READ\u001b[0m\u001b[0;34m\u001b[0m\u001b[0;34m\u001b[0m\u001b[0m\n\u001b[0;32m--> 142\u001b[0;31m         \u001b[0mfid\u001b[0m \u001b[0;34m=\u001b[0m \u001b[0mh5f\u001b[0m\u001b[0;34m.\u001b[0m\u001b[0mopen\u001b[0m\u001b[0;34m(\u001b[0m\u001b[0mname\u001b[0m\u001b[0;34m,\u001b[0m \u001b[0mflags\u001b[0m\u001b[0;34m,\u001b[0m \u001b[0mfapl\u001b[0m\u001b[0;34m=\u001b[0m\u001b[0mfapl\u001b[0m\u001b[0;34m)\u001b[0m\u001b[0;34m\u001b[0m\u001b[0;34m\u001b[0m\u001b[0m\n\u001b[0m\u001b[1;32m    143\u001b[0m     \u001b[0;32melif\u001b[0m \u001b[0mmode\u001b[0m \u001b[0;34m==\u001b[0m \u001b[0;34m'r+'\u001b[0m\u001b[0;34m:\u001b[0m\u001b[0;34m\u001b[0m\u001b[0;34m\u001b[0m\u001b[0m\n\u001b[1;32m    144\u001b[0m         \u001b[0mfid\u001b[0m \u001b[0;34m=\u001b[0m \u001b[0mh5f\u001b[0m\u001b[0;34m.\u001b[0m\u001b[0mopen\u001b[0m\u001b[0;34m(\u001b[0m\u001b[0mname\u001b[0m\u001b[0;34m,\u001b[0m \u001b[0mh5f\u001b[0m\u001b[0;34m.\u001b[0m\u001b[0mACC_RDWR\u001b[0m\u001b[0;34m,\u001b[0m \u001b[0mfapl\u001b[0m\u001b[0;34m=\u001b[0m\u001b[0mfapl\u001b[0m\u001b[0;34m)\u001b[0m\u001b[0;34m\u001b[0m\u001b[0;34m\u001b[0m\u001b[0m\n",
            "\u001b[0;32mh5py/_objects.pyx\u001b[0m in \u001b[0;36mh5py._objects.with_phil.wrapper\u001b[0;34m()\u001b[0m\n",
            "\u001b[0;32mh5py/_objects.pyx\u001b[0m in \u001b[0;36mh5py._objects.with_phil.wrapper\u001b[0;34m()\u001b[0m\n",
            "\u001b[0;32mh5py/h5f.pyx\u001b[0m in \u001b[0;36mh5py.h5f.open\u001b[0;34m()\u001b[0m\n",
            "\u001b[0;31mOSError\u001b[0m: Unable to open file (unable to open file: name = '/content/gdrive/My Drive/check.ckpt', errno = 2, error message = 'No such file or directory', flags = 0, o_flags = 0)"
          ]
        }
      ]
    },
    {
      "metadata": {
        "id": "JNBeoFmjI1HL",
        "colab_type": "code",
        "outputId": "54f108e3-8bc0-46c5-b4ca-3e8f7fccb483",
        "colab": {
          "base_uri": "https://localhost:8080/",
          "height": 1054
        }
      },
      "cell_type": "code",
      "source": [
        "model.fit_generator(train_generator,steps_per_epoch=100000 // 512, validation_data=val_generator, validation_steps=10000 // 512, epochs=30, max_queue_size=512*2,verbose=1, callbacks = [cp_callback])"
      ],
      "execution_count": 0,
      "outputs": [
        {
          "output_type": "stream",
          "text": [
            "Epoch 1/30\n",
            "20/20 [==============================] - 25s 1s/step - loss: 2.5191 - acc: 0.4327\n",
            "196/196 [==============================] - 201s 1s/step - loss: 1.9492 - acc: 0.5116 - val_loss: 2.5191 - val_acc: 0.4327\n",
            "Epoch 2/30\n",
            "20/20 [==============================] - 24s 1s/step - loss: 2.5270 - acc: 0.4310\n",
            "196/196 [==============================] - 181s 921ms/step - loss: 1.7445 - acc: 0.5541 - val_loss: 2.5270 - val_acc: 0.4310\n",
            "Epoch 3/30\n",
            "20/20 [==============================] - 23s 1s/step - loss: 2.4749 - acc: 0.4444\n",
            "196/196 [==============================] - 182s 931ms/step - loss: 1.6877 - acc: 0.5682 - val_loss: 2.4749 - val_acc: 0.4444\n",
            "Epoch 4/30\n",
            "20/20 [==============================] - 23s 1s/step - loss: 2.4816 - acc: 0.4379\n",
            "196/196 [==============================] - 181s 923ms/step - loss: 1.6591 - acc: 0.5742 - val_loss: 2.4816 - val_acc: 0.4379\n",
            "Epoch 5/30\n",
            "20/20 [==============================] - 24s 1s/step - loss: 2.4974 - acc: 0.4421\n",
            "196/196 [==============================] - 182s 929ms/step - loss: 1.6477 - acc: 0.5768 - val_loss: 2.4974 - val_acc: 0.4421\n",
            "Epoch 6/30\n",
            "20/20 [==============================] - 23s 1s/step - loss: 2.4495 - acc: 0.4497\n",
            "196/196 [==============================] - 182s 930ms/step - loss: 1.6320 - acc: 0.5787 - val_loss: 2.4495 - val_acc: 0.4497\n",
            "Epoch 7/30\n",
            "20/20 [==============================] - 23s 1s/step - loss: 2.4388 - acc: 0.4527\n",
            "196/196 [==============================] - 179s 915ms/step - loss: 1.6244 - acc: 0.5818 - val_loss: 2.4388 - val_acc: 0.4527\n",
            "Epoch 8/30\n",
            "20/20 [==============================] - 23s 1s/step - loss: 2.4959 - acc: 0.4400\n",
            "196/196 [==============================] - 179s 914ms/step - loss: 1.6151 - acc: 0.5831 - val_loss: 2.4959 - val_acc: 0.4400\n",
            "Epoch 9/30\n",
            "20/20 [==============================] - 25s 1s/step - loss: 2.4638 - acc: 0.4476\n",
            "196/196 [==============================] - 180s 918ms/step - loss: 1.6003 - acc: 0.5872 - val_loss: 2.4638 - val_acc: 0.4476\n",
            "Epoch 10/30\n",
            "20/20 [==============================] - 24s 1s/step - loss: 2.4634 - acc: 0.4445\n",
            "\n",
            "Epoch 00010: saving model to /content/gdrive/My Drive/check.ckpt\n",
            "196/196 [==============================] - 187s 954ms/step - loss: 1.5930 - acc: 0.5906 - val_loss: 2.4634 - val_acc: 0.4445\n",
            "Epoch 11/30\n",
            "20/20 [==============================] - 22s 1s/step - loss: 2.4680 - acc: 0.4546\n",
            "196/196 [==============================] - 174s 887ms/step - loss: 1.6005 - acc: 0.5893 - val_loss: 2.4680 - val_acc: 0.4546\n",
            "Epoch 12/30\n",
            "20/20 [==============================] - 22s 1s/step - loss: 2.4731 - acc: 0.4460\n",
            "196/196 [==============================] - 177s 904ms/step - loss: 1.5907 - acc: 0.5897 - val_loss: 2.4731 - val_acc: 0.4460\n",
            "Epoch 13/30\n",
            "20/20 [==============================] - 22s 1s/step - loss: 2.4691 - acc: 0.4473\n",
            "196/196 [==============================] - 179s 911ms/step - loss: 1.5922 - acc: 0.5893 - val_loss: 2.4691 - val_acc: 0.4473\n",
            "Epoch 14/30\n",
            "20/20 [==============================] - 24s 1s/step - loss: 2.5147 - acc: 0.4380\n",
            "196/196 [==============================] - 177s 905ms/step - loss: 1.5819 - acc: 0.5910 - val_loss: 2.5147 - val_acc: 0.4380\n",
            "Epoch 15/30\n",
            "20/20 [==============================] - 22s 1s/step - loss: 2.4809 - acc: 0.4465\n",
            "196/196 [==============================] - 178s 909ms/step - loss: 1.5919 - acc: 0.5881 - val_loss: 2.4809 - val_acc: 0.4465\n",
            "Epoch 16/30\n",
            "20/20 [==============================] - 24s 1s/step - loss: 2.4412 - acc: 0.4518\n",
            "196/196 [==============================] - 177s 904ms/step - loss: 1.5841 - acc: 0.5902 - val_loss: 2.4412 - val_acc: 0.4518\n",
            "Epoch 17/30\n",
            "20/20 [==============================] - 22s 1s/step - loss: 2.4869 - acc: 0.4484\n",
            "196/196 [==============================] - 176s 896ms/step - loss: 1.5811 - acc: 0.5922 - val_loss: 2.4869 - val_acc: 0.4484\n",
            "Epoch 18/30\n",
            "20/20 [==============================] - 22s 1s/step - loss: 2.4751 - acc: 0.4525\n",
            "196/196 [==============================] - 177s 902ms/step - loss: 1.5845 - acc: 0.5896 - val_loss: 2.4751 - val_acc: 0.4525\n",
            "Epoch 19/30\n",
            "20/20 [==============================] - 24s 1s/step - loss: 2.4642 - acc: 0.4512\n",
            "196/196 [==============================] - 177s 901ms/step - loss: 1.5810 - acc: 0.5924 - val_loss: 2.4642 - val_acc: 0.4512\n",
            "Epoch 20/30\n",
            "12/20 [=================>............] - ETA: 9s - loss: 2.4537 - acc: 0.4539 "
          ],
          "name": "stdout"
        }
      ]
    }
  ]
}